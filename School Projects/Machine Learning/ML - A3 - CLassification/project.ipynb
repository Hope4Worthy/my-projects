{
 "cells": [
  {
   "cell_type": "markdown",
   "metadata": {},
   "source": [
    "This Jupyter Notebook is prepared by: name"
   ]
  },
  {
   "cell_type": "markdown",
   "metadata": {},
   "source": [
    "# 1 - Load Data and Perform Basic EDA"
   ]
  },
  {
   "cell_type": "markdown",
   "metadata": {},
   "source": [
    "## I - Import Libraries"
   ]
  },
  {
   "cell_type": "code",
   "execution_count": 61,
   "metadata": {},
   "outputs": [],
   "source": [
    "import pandas as pd\n",
    "import numpy as np\n",
    "from numpy import mean\n",
    "from numpy import std\n",
    "import matplotlib as mpt\n",
    "%matplotlib inline\n",
    "import matplotlib.pyplot as plt\n",
    "import seaborn as sns\n",
    "import missingno as msn\n",
    "import scipy.stats as spt\n",
    "import sklearn as skl\n",
    "from sklearn.preprocessing import MinMaxScaler\n",
    "from sklearn.model_selection import train_test_split\n",
    "from sklearn.pipeline import Pipeline\n",
    "from sklearn.decomposition import PCA\n",
    "from sklearn.linear_model import LogisticRegression\n",
    "from sklearn.model_selection import cross_val_score, RepeatedStratifiedKFold, GridSearchCV\n",
    "from sklearn.metrics import accuracy_score, confusion_matrix, precision_score, recall_score, f1_score, roc_curve, roc_auc_score, precision_recall_curve, classification_report, make_scorer\n",
    "from sklearn.neighbors import KNeighborsClassifier\n",
    "from sklearn.naive_bayes import GaussianNB, CategoricalNB\n",
    "from sklearn.svm import SVC\n",
    "import sklearn.tree as skt\n",
    "from sklearn.ensemble import RandomForestClassifier, AdaBoostClassifier, GradientBoostingClassifier\n",
    "from sklearn.tree import DecisionTreeClassifier\n",
    "import collections\n",
    "import imblearn as iml\n",
    "from imblearn.over_sampling import SMOTE"
   ]
  },
  {
   "cell_type": "markdown",
   "metadata": {},
   "source": [
    "## II - Import Data to DataFrame && Show count of Rows and Columns"
   ]
  },
  {
   "cell_type": "code",
   "execution_count": 62,
   "metadata": {},
   "outputs": [
    {
     "data": {
      "text/plain": [
       "(8955, 15)"
      ]
     },
     "execution_count": 62,
     "metadata": {},
     "output_type": "execute_result"
    }
   ],
   "source": [
    "data = pd.read_csv('hrdata2.csv')\n",
    "data.shape"
   ]
  },
  {
   "cell_type": "markdown",
   "metadata": {},
   "source": [
    "## III - Show Top 5 and Last 5 Rows"
   ]
  },
  {
   "cell_type": "code",
   "execution_count": 63,
   "metadata": {},
   "outputs": [
    {
     "name": "stdout",
     "output_type": "stream",
     "text": [
      "<bound method NDFrame.head of       Unnamed: 0  enrollee_id      city  city_development_index  gender  \\\n",
      "0              1        29725   city_40                   0.776    Male   \n",
      "1              4          666  city_162                   0.767    Male   \n",
      "2              7          402   city_46                   0.762    Male   \n",
      "3              8        27107  city_103                   0.920    Male   \n",
      "4             11        23853  city_103                   0.920    Male   \n",
      "...          ...          ...       ...                     ...     ...   \n",
      "8950       19147        21319   city_21                   0.624    Male   \n",
      "8951       19149          251  city_103                   0.920    Male   \n",
      "8952       19150        32313  city_160                   0.920  Female   \n",
      "8953       19152        29754  city_103                   0.920  Female   \n",
      "8954       19155        24576  city_103                   0.920    Male   \n",
      "\n",
      "          relevent_experience enrolled_university education_level  \\\n",
      "0      No relevent experience       no_enrollment        Graduate   \n",
      "1     Has relevent experience       no_enrollment         Masters   \n",
      "2     Has relevent experience       no_enrollment        Graduate   \n",
      "3     Has relevent experience       no_enrollment        Graduate   \n",
      "4     Has relevent experience       no_enrollment        Graduate   \n",
      "...                       ...                 ...             ...   \n",
      "8950   No relevent experience    Full time course        Graduate   \n",
      "8951  Has relevent experience       no_enrollment         Masters   \n",
      "8952  Has relevent experience       no_enrollment        Graduate   \n",
      "8953  Has relevent experience       no_enrollment        Graduate   \n",
      "8954  Has relevent experience       no_enrollment        Graduate   \n",
      "\n",
      "     major_discipline  experience company_size    company_type last_new_job  \\\n",
      "0                STEM        15.0        50-99         Pvt Ltd           >4   \n",
      "1                STEM        21.0        50-99  Funded Startup            4   \n",
      "2                STEM        13.0          <10         Pvt Ltd           >4   \n",
      "3                STEM         7.0        50-99         Pvt Ltd            1   \n",
      "4                STEM         5.0    5000-9999         Pvt Ltd            1   \n",
      "...               ...         ...          ...             ...          ...   \n",
      "8950             STEM         1.0      100-500         Pvt Ltd            1   \n",
      "8951             STEM         9.0        50-99         Pvt Ltd            1   \n",
      "8952             STEM        10.0      100-500   Public Sector            3   \n",
      "8953       Humanities         7.0        10/49  Funded Startup            1   \n",
      "8954             STEM        21.0        50-99         Pvt Ltd            4   \n",
      "\n",
      "      training_hours  target  \n",
      "0                 47     0.0  \n",
      "1                  8     0.0  \n",
      "2                 18     1.0  \n",
      "3                 46     1.0  \n",
      "4                108     0.0  \n",
      "...              ...     ...  \n",
      "8950              52     1.0  \n",
      "8951              36     1.0  \n",
      "8952              23     0.0  \n",
      "8953              25     0.0  \n",
      "8954              44     0.0  \n",
      "\n",
      "[8955 rows x 15 columns]> <bound method NDFrame.tail of       Unnamed: 0  enrollee_id      city  city_development_index  gender  \\\n",
      "0              1        29725   city_40                   0.776    Male   \n",
      "1              4          666  city_162                   0.767    Male   \n",
      "2              7          402   city_46                   0.762    Male   \n",
      "3              8        27107  city_103                   0.920    Male   \n",
      "4             11        23853  city_103                   0.920    Male   \n",
      "...          ...          ...       ...                     ...     ...   \n",
      "8950       19147        21319   city_21                   0.624    Male   \n",
      "8951       19149          251  city_103                   0.920    Male   \n",
      "8952       19150        32313  city_160                   0.920  Female   \n",
      "8953       19152        29754  city_103                   0.920  Female   \n",
      "8954       19155        24576  city_103                   0.920    Male   \n",
      "\n",
      "          relevent_experience enrolled_university education_level  \\\n",
      "0      No relevent experience       no_enrollment        Graduate   \n",
      "1     Has relevent experience       no_enrollment         Masters   \n",
      "2     Has relevent experience       no_enrollment        Graduate   \n",
      "3     Has relevent experience       no_enrollment        Graduate   \n",
      "4     Has relevent experience       no_enrollment        Graduate   \n",
      "...                       ...                 ...             ...   \n",
      "8950   No relevent experience    Full time course        Graduate   \n",
      "8951  Has relevent experience       no_enrollment         Masters   \n",
      "8952  Has relevent experience       no_enrollment        Graduate   \n",
      "8953  Has relevent experience       no_enrollment        Graduate   \n",
      "8954  Has relevent experience       no_enrollment        Graduate   \n",
      "\n",
      "     major_discipline  experience company_size    company_type last_new_job  \\\n",
      "0                STEM        15.0        50-99         Pvt Ltd           >4   \n",
      "1                STEM        21.0        50-99  Funded Startup            4   \n",
      "2                STEM        13.0          <10         Pvt Ltd           >4   \n",
      "3                STEM         7.0        50-99         Pvt Ltd            1   \n",
      "4                STEM         5.0    5000-9999         Pvt Ltd            1   \n",
      "...               ...         ...          ...             ...          ...   \n",
      "8950             STEM         1.0      100-500         Pvt Ltd            1   \n",
      "8951             STEM         9.0        50-99         Pvt Ltd            1   \n",
      "8952             STEM        10.0      100-500   Public Sector            3   \n",
      "8953       Humanities         7.0        10/49  Funded Startup            1   \n",
      "8954             STEM        21.0        50-99         Pvt Ltd            4   \n",
      "\n",
      "      training_hours  target  \n",
      "0                 47     0.0  \n",
      "1                  8     0.0  \n",
      "2                 18     1.0  \n",
      "3                 46     1.0  \n",
      "4                108     0.0  \n",
      "...              ...     ...  \n",
      "8950              52     1.0  \n",
      "8951              36     1.0  \n",
      "8952              23     0.0  \n",
      "8953              25     0.0  \n",
      "8954              44     0.0  \n",
      "\n",
      "[8955 rows x 15 columns]>\n"
     ]
    }
   ],
   "source": [
    "print(data.head, data.tail)"
   ]
  },
  {
   "cell_type": "markdown",
   "metadata": {},
   "source": [
    "## IV - Show How Many Rows have Null Values"
   ]
  },
  {
   "cell_type": "code",
   "execution_count": 64,
   "metadata": {},
   "outputs": [
    {
     "data": {
      "text/plain": [
       "Unnamed: 0                0\n",
       "enrollee_id               0\n",
       "city                      0\n",
       "city_development_index    0\n",
       "gender                    0\n",
       "relevent_experience       0\n",
       "enrolled_university       0\n",
       "education_level           0\n",
       "major_discipline          0\n",
       "experience                0\n",
       "company_size              0\n",
       "company_type              0\n",
       "last_new_job              0\n",
       "training_hours            0\n",
       "target                    0\n",
       "dtype: int64"
      ]
     },
     "execution_count": 64,
     "metadata": {},
     "output_type": "execute_result"
    }
   ],
   "source": [
    "data.isnull().sum().sort_values(ascending = False)"
   ]
  },
  {
   "cell_type": "markdown",
   "metadata": {},
   "source": [
    "## V - Plot the Count of Target and Discess its Imbalances and Probabsy Issues and Solutiens"
   ]
  },
  {
   "cell_type": "code",
   "execution_count": 65,
   "metadata": {},
   "outputs": [
    {
     "data": {
      "text/plain": [
       "(array([7472.,    0.,    0.,    0.,    0.,    0.,    0.,    0.,    0.,\n",
       "        1483.]),\n",
       " array([0. , 0.1, 0.2, 0.3, 0.4, 0.5, 0.6, 0.7, 0.8, 0.9, 1. ]),\n",
       " <BarContainer object of 10 artists>)"
      ]
     },
     "execution_count": 65,
     "metadata": {},
     "output_type": "execute_result"
    },
    {
     "data": {
      "image/png": "[encoded data removed]",
      "text/plain": [
       "<Figure size 432x288 with 1 Axes>"
      ]
     },
     "metadata": {
      "needs_background": "light"
     },
     "output_type": "display_data"
    }
   ],
   "source": [
    "plt.hist(data.target)"
   ]
  },
  {
   "cell_type": "markdown",
   "metadata": {},
   "source": [
    "there are a large number of '0' features compared to the '1' features\n",
    "\n",
    "this can cause issues with the classifiers favoring the large number of '0's\n",
    "\n",
    "we can attempt to ballence the '0's and '1's by coming up ith additional data or by limiting the number of '0' features we use"
   ]
  },
  {
   "cell_type": "markdown",
   "metadata": {},
   "source": [
    "# 2 - Feature Selection and Pre-Processing"
   ]
  },
  {
   "cell_type": "markdown",
   "metadata": {},
   "source": [
    "## I - Pre-Processing City"
   ]
  },
  {
   "cell_type": "markdown",
   "metadata": {},
   "source": [
    "### A - Plot # of Records per City so that the Highest City Counts are Shown in Decending Order"
   ]
  },
  {
   "cell_type": "code",
   "execution_count": 66,
   "metadata": {},
   "outputs": [
    {
     "data": {
      "text/plain": [
       "(array([6556.,  901.,  585.,  356.,  228.,  123.,   91.,   60.,   39.,\n",
       "          16.]),\n",
       " array([  0. ,  11.5,  23. ,  34.5,  46. ,  57.5,  69. ,  80.5,  92. ,\n",
       "        103.5, 115. ]),\n",
       " <BarContainer object of 10 artists>)"
      ]
     },
     "execution_count": 66,
     "metadata": {},
     "output_type": "execute_result"
    },
    {
     "data": {
      "image/png": "[encoded data removed]",
      "text/plain": [
       "<Figure size 432x288 with 1 Axes>"
      ]
     },
     "metadata": {
      "needs_background": "light"
     },
     "output_type": "display_data"
    }
   ],
   "source": [
    "counts = collections.Counter(data.city)\n",
    "new = sorted(data.city, key = lambda x: -counts[x])\n",
    "plt.hist(new)"
   ]
  },
  {
   "cell_type": "markdown",
   "metadata": {},
   "source": [
    "### B - How many rows belong to the count-wise top 4 cities in total and how many for the remaining?"
   ]
  },
  {
   "cell_type": "code",
   "execution_count": 67,
   "metadata": {},
   "outputs": [
    {
     "name": "stdout",
     "output_type": "stream",
     "text": [
      "Sum of Top 4: 5021\n",
      "Sum of Others: 3533\n"
     ]
    }
   ],
   "source": [
    "countsDF = pd.DataFrame.from_dict(counts, orient = 'index')\n",
    "countsDF.sort_values(0, axis = 0, ascending = False, inplace = True,)\n",
    "top4 = countsDF.iloc[0:4, 0].sum()\n",
    "others = countsDF.iloc[5:, 0].sum()\n",
    "print('Sum of Top 4: ' + str(top4))\n",
    "print('Sum of Others: ' + str(others))"
   ]
  },
  {
   "cell_type": "markdown",
   "metadata": {},
   "source": [
    "### C - Replace the city name with city_others if the city name is not within the top 4 city names."
   ]
  },
  {
   "cell_type": "code",
   "execution_count": 68,
   "metadata": {},
   "outputs": [],
   "source": [
    "data['city'].mask((data['city'] != 'city_103') & (data['city'] != 'city_21') & (data['city'] != 'city_16') & (data['city'] != 'city_16'),\n",
    "\t\t\t\t\t  'city_other', inplace = True)"
   ]
  },
  {
   "cell_type": "markdown",
   "metadata": {},
   "source": [
    "### D - Show some sample data that the records have changed appropriately"
   ]
  },
  {
   "cell_type": "code",
   "execution_count": 69,
   "metadata": {},
   "outputs": [
    {
     "data": {
      "text/html": [
       "<div>\n",
       "<style scoped>\n",
       "    .dataframe tbody tr th:only-of-type {\n",
       "        vertical-align: middle;\n",
       "    }\n",
       "\n",
       "    .dataframe tbody tr th {\n",
       "        vertical-align: top;\n",
       "    }\n",
       "\n",
       "    .dataframe thead th {\n",
       "        text-align: right;\n",
       "    }\n",
       "</style>\n",
       "<table border=\"1\" class=\"dataframe\">\n",
       "  <thead>\n",
       "    <tr style=\"text-align: right;\">\n",
       "      <th></th>\n",
       "      <th>Unnamed: 0</th>\n",
       "      <th>enrollee_id</th>\n",
       "      <th>city</th>\n",
       "      <th>city_development_index</th>\n",
       "      <th>gender</th>\n",
       "      <th>relevent_experience</th>\n",
       "      <th>enrolled_university</th>\n",
       "      <th>education_level</th>\n",
       "      <th>major_discipline</th>\n",
       "      <th>experience</th>\n",
       "      <th>company_size</th>\n",
       "      <th>company_type</th>\n",
       "      <th>last_new_job</th>\n",
       "      <th>training_hours</th>\n",
       "      <th>target</th>\n",
       "    </tr>\n",
       "  </thead>\n",
       "  <tbody>\n",
       "    <tr>\n",
       "      <th>0</th>\n",
       "      <td>1</td>\n",
       "      <td>29725</td>\n",
       "      <td>city_other</td>\n",
       "      <td>0.776</td>\n",
       "      <td>Male</td>\n",
       "      <td>No relevent experience</td>\n",
       "      <td>no_enrollment</td>\n",
       "      <td>Graduate</td>\n",
       "      <td>STEM</td>\n",
       "      <td>15.0</td>\n",
       "      <td>50-99</td>\n",
       "      <td>Pvt Ltd</td>\n",
       "      <td>&gt;4</td>\n",
       "      <td>47</td>\n",
       "      <td>0.0</td>\n",
       "    </tr>\n",
       "    <tr>\n",
       "      <th>1</th>\n",
       "      <td>4</td>\n",
       "      <td>666</td>\n",
       "      <td>city_other</td>\n",
       "      <td>0.767</td>\n",
       "      <td>Male</td>\n",
       "      <td>Has relevent experience</td>\n",
       "      <td>no_enrollment</td>\n",
       "      <td>Masters</td>\n",
       "      <td>STEM</td>\n",
       "      <td>21.0</td>\n",
       "      <td>50-99</td>\n",
       "      <td>Funded Startup</td>\n",
       "      <td>4</td>\n",
       "      <td>8</td>\n",
       "      <td>0.0</td>\n",
       "    </tr>\n",
       "    <tr>\n",
       "      <th>2</th>\n",
       "      <td>7</td>\n",
       "      <td>402</td>\n",
       "      <td>city_other</td>\n",
       "      <td>0.762</td>\n",
       "      <td>Male</td>\n",
       "      <td>Has relevent experience</td>\n",
       "      <td>no_enrollment</td>\n",
       "      <td>Graduate</td>\n",
       "      <td>STEM</td>\n",
       "      <td>13.0</td>\n",
       "      <td>&lt;10</td>\n",
       "      <td>Pvt Ltd</td>\n",
       "      <td>&gt;4</td>\n",
       "      <td>18</td>\n",
       "      <td>1.0</td>\n",
       "    </tr>\n",
       "    <tr>\n",
       "      <th>3</th>\n",
       "      <td>8</td>\n",
       "      <td>27107</td>\n",
       "      <td>city_103</td>\n",
       "      <td>0.920</td>\n",
       "      <td>Male</td>\n",
       "      <td>Has relevent experience</td>\n",
       "      <td>no_enrollment</td>\n",
       "      <td>Graduate</td>\n",
       "      <td>STEM</td>\n",
       "      <td>7.0</td>\n",
       "      <td>50-99</td>\n",
       "      <td>Pvt Ltd</td>\n",
       "      <td>1</td>\n",
       "      <td>46</td>\n",
       "      <td>1.0</td>\n",
       "    </tr>\n",
       "    <tr>\n",
       "      <th>4</th>\n",
       "      <td>11</td>\n",
       "      <td>23853</td>\n",
       "      <td>city_103</td>\n",
       "      <td>0.920</td>\n",
       "      <td>Male</td>\n",
       "      <td>Has relevent experience</td>\n",
       "      <td>no_enrollment</td>\n",
       "      <td>Graduate</td>\n",
       "      <td>STEM</td>\n",
       "      <td>5.0</td>\n",
       "      <td>5000-9999</td>\n",
       "      <td>Pvt Ltd</td>\n",
       "      <td>1</td>\n",
       "      <td>108</td>\n",
       "      <td>0.0</td>\n",
       "    </tr>\n",
       "  </tbody>\n",
       "</table>\n",
       "</div>"
      ],
      "text/plain": [
       "   Unnamed: 0  enrollee_id        city  city_development_index gender  \\\n",
       "0           1        29725  city_other                   0.776   Male   \n",
       "1           4          666  city_other                   0.767   Male   \n",
       "2           7          402  city_other                   0.762   Male   \n",
       "3           8        27107    city_103                   0.920   Male   \n",
       "4          11        23853    city_103                   0.920   Male   \n",
       "\n",
       "       relevent_experience enrolled_university education_level  \\\n",
       "0   No relevent experience       no_enrollment        Graduate   \n",
       "1  Has relevent experience       no_enrollment         Masters   \n",
       "2  Has relevent experience       no_enrollment        Graduate   \n",
       "3  Has relevent experience       no_enrollment        Graduate   \n",
       "4  Has relevent experience       no_enrollment        Graduate   \n",
       "\n",
       "  major_discipline  experience company_size    company_type last_new_job  \\\n",
       "0             STEM        15.0        50-99         Pvt Ltd           >4   \n",
       "1             STEM        21.0        50-99  Funded Startup            4   \n",
       "2             STEM        13.0          <10         Pvt Ltd           >4   \n",
       "3             STEM         7.0        50-99         Pvt Ltd            1   \n",
       "4             STEM         5.0    5000-9999         Pvt Ltd            1   \n",
       "\n",
       "   training_hours  target  \n",
       "0              47     0.0  \n",
       "1               8     0.0  \n",
       "2              18     1.0  \n",
       "3              46     1.0  \n",
       "4             108     0.0  "
      ]
     },
     "execution_count": 69,
     "metadata": {},
     "output_type": "execute_result"
    }
   ],
   "source": [
    "data.head()"
   ]
  },
  {
   "cell_type": "markdown",
   "metadata": {},
   "source": [
    "## II - Education Level"
   ]
  },
  {
   "cell_type": "markdown",
   "metadata": {},
   "source": [
    "### A - Show the unique values of education level."
   ]
  },
  {
   "cell_type": "code",
   "execution_count": 70,
   "metadata": {},
   "outputs": [
    {
     "data": {
      "text/plain": [
       "array(['Graduate', 'Masters', 'Phd'], dtype=object)"
      ]
     },
     "execution_count": 70,
     "metadata": {},
     "output_type": "execute_result"
    }
   ],
   "source": [
    "data['education_level'].unique()"
   ]
  },
  {
   "cell_type": "markdown",
   "metadata": {},
   "source": [
    "### B - Replace the value of Education level column like ordinal values, \"Graduate\" -> 0, Masters->1, and Phd -> 2"
   ]
  },
  {
   "cell_type": "code",
   "execution_count": 71,
   "metadata": {},
   "outputs": [],
   "source": [
    "data['education_level'].mask(data['education_level'] == 'Graduate', 0, inplace = True)\n",
    "data['education_level'].mask(data['education_level'] == 'Masters', 1, inplace = True)\n",
    "data['education_level'].mask(data['education_level'] == 'Phd', 2, inplace = True)"
   ]
  },
  {
   "cell_type": "markdown",
   "metadata": {},
   "source": [
    "### C - Show some sample data that the records have changed appropriately"
   ]
  },
  {
   "cell_type": "code",
   "execution_count": 72,
   "metadata": {},
   "outputs": [
    {
     "data": {
      "text/html": [
       "<div>\n",
       "<style scoped>\n",
       "    .dataframe tbody tr th:only-of-type {\n",
       "        vertical-align: middle;\n",
       "    }\n",
       "\n",
       "    .dataframe tbody tr th {\n",
       "        vertical-align: top;\n",
       "    }\n",
       "\n",
       "    .dataframe thead th {\n",
       "        text-align: right;\n",
       "    }\n",
       "</style>\n",
       "<table border=\"1\" class=\"dataframe\">\n",
       "  <thead>\n",
       "    <tr style=\"text-align: right;\">\n",
       "      <th></th>\n",
       "      <th>Unnamed: 0</th>\n",
       "      <th>enrollee_id</th>\n",
       "      <th>city</th>\n",
       "      <th>city_development_index</th>\n",
       "      <th>gender</th>\n",
       "      <th>relevent_experience</th>\n",
       "      <th>enrolled_university</th>\n",
       "      <th>education_level</th>\n",
       "      <th>major_discipline</th>\n",
       "      <th>experience</th>\n",
       "      <th>company_size</th>\n",
       "      <th>company_type</th>\n",
       "      <th>last_new_job</th>\n",
       "      <th>training_hours</th>\n",
       "      <th>target</th>\n",
       "    </tr>\n",
       "  </thead>\n",
       "  <tbody>\n",
       "    <tr>\n",
       "      <th>0</th>\n",
       "      <td>1</td>\n",
       "      <td>29725</td>\n",
       "      <td>city_other</td>\n",
       "      <td>0.776</td>\n",
       "      <td>Male</td>\n",
       "      <td>No relevent experience</td>\n",
       "      <td>no_enrollment</td>\n",
       "      <td>0</td>\n",
       "      <td>STEM</td>\n",
       "      <td>15.0</td>\n",
       "      <td>50-99</td>\n",
       "      <td>Pvt Ltd</td>\n",
       "      <td>&gt;4</td>\n",
       "      <td>47</td>\n",
       "      <td>0.0</td>\n",
       "    </tr>\n",
       "    <tr>\n",
       "      <th>1</th>\n",
       "      <td>4</td>\n",
       "      <td>666</td>\n",
       "      <td>city_other</td>\n",
       "      <td>0.767</td>\n",
       "      <td>Male</td>\n",
       "      <td>Has relevent experience</td>\n",
       "      <td>no_enrollment</td>\n",
       "      <td>1</td>\n",
       "      <td>STEM</td>\n",
       "      <td>21.0</td>\n",
       "      <td>50-99</td>\n",
       "      <td>Funded Startup</td>\n",
       "      <td>4</td>\n",
       "      <td>8</td>\n",
       "      <td>0.0</td>\n",
       "    </tr>\n",
       "    <tr>\n",
       "      <th>2</th>\n",
       "      <td>7</td>\n",
       "      <td>402</td>\n",
       "      <td>city_other</td>\n",
       "      <td>0.762</td>\n",
       "      <td>Male</td>\n",
       "      <td>Has relevent experience</td>\n",
       "      <td>no_enrollment</td>\n",
       "      <td>0</td>\n",
       "      <td>STEM</td>\n",
       "      <td>13.0</td>\n",
       "      <td>&lt;10</td>\n",
       "      <td>Pvt Ltd</td>\n",
       "      <td>&gt;4</td>\n",
       "      <td>18</td>\n",
       "      <td>1.0</td>\n",
       "    </tr>\n",
       "    <tr>\n",
       "      <th>3</th>\n",
       "      <td>8</td>\n",
       "      <td>27107</td>\n",
       "      <td>city_103</td>\n",
       "      <td>0.920</td>\n",
       "      <td>Male</td>\n",
       "      <td>Has relevent experience</td>\n",
       "      <td>no_enrollment</td>\n",
       "      <td>0</td>\n",
       "      <td>STEM</td>\n",
       "      <td>7.0</td>\n",
       "      <td>50-99</td>\n",
       "      <td>Pvt Ltd</td>\n",
       "      <td>1</td>\n",
       "      <td>46</td>\n",
       "      <td>1.0</td>\n",
       "    </tr>\n",
       "    <tr>\n",
       "      <th>4</th>\n",
       "      <td>11</td>\n",
       "      <td>23853</td>\n",
       "      <td>city_103</td>\n",
       "      <td>0.920</td>\n",
       "      <td>Male</td>\n",
       "      <td>Has relevent experience</td>\n",
       "      <td>no_enrollment</td>\n",
       "      <td>0</td>\n",
       "      <td>STEM</td>\n",
       "      <td>5.0</td>\n",
       "      <td>5000-9999</td>\n",
       "      <td>Pvt Ltd</td>\n",
       "      <td>1</td>\n",
       "      <td>108</td>\n",
       "      <td>0.0</td>\n",
       "    </tr>\n",
       "  </tbody>\n",
       "</table>\n",
       "</div>"
      ],
      "text/plain": [
       "   Unnamed: 0  enrollee_id        city  city_development_index gender  \\\n",
       "0           1        29725  city_other                   0.776   Male   \n",
       "1           4          666  city_other                   0.767   Male   \n",
       "2           7          402  city_other                   0.762   Male   \n",
       "3           8        27107    city_103                   0.920   Male   \n",
       "4          11        23853    city_103                   0.920   Male   \n",
       "\n",
       "       relevent_experience enrolled_university education_level  \\\n",
       "0   No relevent experience       no_enrollment               0   \n",
       "1  Has relevent experience       no_enrollment               1   \n",
       "2  Has relevent experience       no_enrollment               0   \n",
       "3  Has relevent experience       no_enrollment               0   \n",
       "4  Has relevent experience       no_enrollment               0   \n",
       "\n",
       "  major_discipline  experience company_size    company_type last_new_job  \\\n",
       "0             STEM        15.0        50-99         Pvt Ltd           >4   \n",
       "1             STEM        21.0        50-99  Funded Startup            4   \n",
       "2             STEM        13.0          <10         Pvt Ltd           >4   \n",
       "3             STEM         7.0        50-99         Pvt Ltd            1   \n",
       "4             STEM         5.0    5000-9999         Pvt Ltd            1   \n",
       "\n",
       "   training_hours  target  \n",
       "0              47     0.0  \n",
       "1               8     0.0  \n",
       "2              18     1.0  \n",
       "3              46     1.0  \n",
       "4             108     0.0  "
      ]
     },
     "execution_count": 72,
     "metadata": {},
     "output_type": "execute_result"
    }
   ],
   "source": [
    "data.head()"
   ]
  },
  {
   "cell_type": "markdown",
   "metadata": {},
   "source": [
    "## III - Company Size"
   ]
  },
  {
   "cell_type": "markdown",
   "metadata": {},
   "source": [
    "### A - Show the unique values of the company_size column"
   ]
  },
  {
   "cell_type": "code",
   "execution_count": 73,
   "metadata": {},
   "outputs": [
    {
     "data": {
      "text/plain": [
       "array(['50-99', '<10', '5000-9999', '1000-4999', '10/49', '100-500',\n",
       "       '10000+', '500-999'], dtype=object)"
      ]
     },
     "execution_count": 73,
     "metadata": {},
     "output_type": "execute_result"
    }
   ],
   "source": [
    "data['company_size'].unique()"
   ]
  },
  {
   "cell_type": "markdown",
   "metadata": {},
   "source": [
    "### B - Change the values of the company_size column from 0 to 7 where e0 is <10 and 7 is 10000+. The order of the numbers should be based on the values of the column-like an ordinary variable."
   ]
  },
  {
   "cell_type": "code",
   "execution_count": 74,
   "metadata": {},
   "outputs": [],
   "source": [
    "data['company_size'].mask(data['company_size'] == '<10', 0, inplace = True)\n",
    "data['company_size'].mask(data['company_size'] == '10/49', 1, inplace = True)\n",
    "data['company_size'].mask(data['company_size'] == '50-99', 2, inplace = True)\n",
    "data['company_size'].mask(data['company_size'] == '100-500', 3, inplace = True)\n",
    "data['company_size'].mask(data['company_size'] == '500-999', 4, inplace = True)\n",
    "data['company_size'].mask(data['company_size'] == '1000-4999', 5, inplace = True)\n",
    "data['company_size'].mask(data['company_size'] == '5000-9999', 6, inplace = True)\n",
    "data['company_size'].mask(data['company_size'] == '10000+', 7, inplace = True)"
   ]
  },
  {
   "cell_type": "markdown",
   "metadata": {},
   "source": [
    "### C - Show updated values"
   ]
  },
  {
   "cell_type": "code",
   "execution_count": 75,
   "metadata": {},
   "outputs": [
    {
     "data": {
      "text/plain": [
       "<bound method NDFrame.head of       Unnamed: 0  enrollee_id        city  city_development_index  gender  \\\n",
       "0              1        29725  city_other                   0.776    Male   \n",
       "1              4          666  city_other                   0.767    Male   \n",
       "2              7          402  city_other                   0.762    Male   \n",
       "3              8        27107    city_103                   0.920    Male   \n",
       "4             11        23853    city_103                   0.920    Male   \n",
       "...          ...          ...         ...                     ...     ...   \n",
       "8950       19147        21319     city_21                   0.624    Male   \n",
       "8951       19149          251    city_103                   0.920    Male   \n",
       "8952       19150        32313  city_other                   0.920  Female   \n",
       "8953       19152        29754    city_103                   0.920  Female   \n",
       "8954       19155        24576    city_103                   0.920    Male   \n",
       "\n",
       "          relevent_experience enrolled_university education_level  \\\n",
       "0      No relevent experience       no_enrollment               0   \n",
       "1     Has relevent experience       no_enrollment               1   \n",
       "2     Has relevent experience       no_enrollment               0   \n",
       "3     Has relevent experience       no_enrollment               0   \n",
       "4     Has relevent experience       no_enrollment               0   \n",
       "...                       ...                 ...             ...   \n",
       "8950   No relevent experience    Full time course               0   \n",
       "8951  Has relevent experience       no_enrollment               1   \n",
       "8952  Has relevent experience       no_enrollment               0   \n",
       "8953  Has relevent experience       no_enrollment               0   \n",
       "8954  Has relevent experience       no_enrollment               0   \n",
       "\n",
       "     major_discipline  experience company_size    company_type last_new_job  \\\n",
       "0                STEM        15.0            2         Pvt Ltd           >4   \n",
       "1                STEM        21.0            2  Funded Startup            4   \n",
       "2                STEM        13.0            0         Pvt Ltd           >4   \n",
       "3                STEM         7.0            2         Pvt Ltd            1   \n",
       "4                STEM         5.0            6         Pvt Ltd            1   \n",
       "...               ...         ...          ...             ...          ...   \n",
       "8950             STEM         1.0            3         Pvt Ltd            1   \n",
       "8951             STEM         9.0            2         Pvt Ltd            1   \n",
       "8952             STEM        10.0            3   Public Sector            3   \n",
       "8953       Humanities         7.0            1  Funded Startup            1   \n",
       "8954             STEM        21.0            2         Pvt Ltd            4   \n",
       "\n",
       "      training_hours  target  \n",
       "0                 47     0.0  \n",
       "1                  8     0.0  \n",
       "2                 18     1.0  \n",
       "3                 46     1.0  \n",
       "4                108     0.0  \n",
       "...              ...     ...  \n",
       "8950              52     1.0  \n",
       "8951              36     1.0  \n",
       "8952              23     0.0  \n",
       "8953              25     0.0  \n",
       "8954              44     0.0  \n",
       "\n",
       "[8955 rows x 15 columns]>"
      ]
     },
     "execution_count": 75,
     "metadata": {},
     "output_type": "execute_result"
    }
   ],
   "source": [
    "data.head"
   ]
  },
  {
   "cell_type": "markdown",
   "metadata": {},
   "source": [
    "## IV - Last New Job"
   ]
  },
  {
   "cell_type": "markdown",
   "metadata": {},
   "source": [
    "### A - Show the unique values of the last_new_job column"
   ]
  },
  {
   "cell_type": "code",
   "execution_count": 76,
   "metadata": {},
   "outputs": [
    {
     "data": {
      "text/plain": [
       "array(['>4', '4', '1', '3', '2', 'never'], dtype=object)"
      ]
     },
     "execution_count": 76,
     "metadata": {},
     "output_type": "execute_result"
    }
   ],
   "source": [
    "data['last_new_job'].unique()"
   ]
  },
  {
   "cell_type": "markdown",
   "metadata": {},
   "source": [
    "### B - Convert the values of this column to never->0, 1->1,....>4 -->5"
   ]
  },
  {
   "cell_type": "code",
   "execution_count": 77,
   "metadata": {},
   "outputs": [],
   "source": [
    "data['last_new_job'].mask(data['last_new_job'] == 'never', 0, inplace = True)\n",
    "data['last_new_job'].mask(data['last_new_job'] == '1', 1, inplace = True)\n",
    "data['last_new_job'].mask(data['last_new_job'] == '2', 2, inplace = True)\n",
    "data['last_new_job'].mask(data['last_new_job'] == '3', 3, inplace = True)\n",
    "data['last_new_job'].mask(data['last_new_job'] == '4', 4, inplace = True)\n",
    "data['last_new_job'].mask(data['last_new_job'] == '>4', 5, inplace = True)"
   ]
  },
  {
   "cell_type": "markdown",
   "metadata": {},
   "source": [
    "### C - Show the updated values"
   ]
  },
  {
   "cell_type": "code",
   "execution_count": 78,
   "metadata": {},
   "outputs": [
    {
     "data": {
      "text/plain": [
       "<bound method NDFrame.head of       Unnamed: 0  enrollee_id        city  city_development_index  gender  \\\n",
       "0              1        29725  city_other                   0.776    Male   \n",
       "1              4          666  city_other                   0.767    Male   \n",
       "2              7          402  city_other                   0.762    Male   \n",
       "3              8        27107    city_103                   0.920    Male   \n",
       "4             11        23853    city_103                   0.920    Male   \n",
       "...          ...          ...         ...                     ...     ...   \n",
       "8950       19147        21319     city_21                   0.624    Male   \n",
       "8951       19149          251    city_103                   0.920    Male   \n",
       "8952       19150        32313  city_other                   0.920  Female   \n",
       "8953       19152        29754    city_103                   0.920  Female   \n",
       "8954       19155        24576    city_103                   0.920    Male   \n",
       "\n",
       "          relevent_experience enrolled_university education_level  \\\n",
       "0      No relevent experience       no_enrollment               0   \n",
       "1     Has relevent experience       no_enrollment               1   \n",
       "2     Has relevent experience       no_enrollment               0   \n",
       "3     Has relevent experience       no_enrollment               0   \n",
       "4     Has relevent experience       no_enrollment               0   \n",
       "...                       ...                 ...             ...   \n",
       "8950   No relevent experience    Full time course               0   \n",
       "8951  Has relevent experience       no_enrollment               1   \n",
       "8952  Has relevent experience       no_enrollment               0   \n",
       "8953  Has relevent experience       no_enrollment               0   \n",
       "8954  Has relevent experience       no_enrollment               0   \n",
       "\n",
       "     major_discipline  experience company_size    company_type last_new_job  \\\n",
       "0                STEM        15.0            2         Pvt Ltd            5   \n",
       "1                STEM        21.0            2  Funded Startup            4   \n",
       "2                STEM        13.0            0         Pvt Ltd            5   \n",
       "3                STEM         7.0            2         Pvt Ltd            1   \n",
       "4                STEM         5.0            6         Pvt Ltd            1   \n",
       "...               ...         ...          ...             ...          ...   \n",
       "8950             STEM         1.0            3         Pvt Ltd            1   \n",
       "8951             STEM         9.0            2         Pvt Ltd            1   \n",
       "8952             STEM        10.0            3   Public Sector            3   \n",
       "8953       Humanities         7.0            1  Funded Startup            1   \n",
       "8954             STEM        21.0            2         Pvt Ltd            4   \n",
       "\n",
       "      training_hours  target  \n",
       "0                 47     0.0  \n",
       "1                  8     0.0  \n",
       "2                 18     1.0  \n",
       "3                 46     1.0  \n",
       "4                108     0.0  \n",
       "...              ...     ...  \n",
       "8950              52     1.0  \n",
       "8951              36     1.0  \n",
       "8952              23     0.0  \n",
       "8953              25     0.0  \n",
       "8954              44     0.0  \n",
       "\n",
       "[8955 rows x 15 columns]>"
      ]
     },
     "execution_count": 78,
     "metadata": {},
     "output_type": "execute_result"
    }
   ],
   "source": [
    "data.head"
   ]
  },
  {
   "cell_type": "markdown",
   "metadata": {},
   "source": [
    "## V - Other Columns"
   ]
  },
  {
   "cell_type": "markdown",
   "metadata": {},
   "source": [
    "### A - Show the unique values of company_type, major_descipline, enrolled_university, relevant_experience, gender, and updated city column"
   ]
  },
  {
   "cell_type": "code",
   "execution_count": 79,
   "metadata": {},
   "outputs": [
    {
     "name": "stdout",
     "output_type": "stream",
     "text": [
      "['Pvt Ltd' 'Funded Startup' 'Early Stage Startup' 'Public Sector' 'NGO'\n",
      " 'Other']\n",
      "['STEM' 'Humanities' 'Business Degree' 'Other' 'No Major' 'Arts']\n",
      "['no_enrollment' 'Part time course' 'Full time course']\n",
      "['No relevent experience' 'Has relevent experience']\n",
      "['Male' 'Female' 'Other']\n",
      "['city_other' 'city_103' 'city_21' 'city_16']\n"
     ]
    }
   ],
   "source": [
    "print(data['company_type'].unique())\n",
    "print(data['major_discipline'].unique())\n",
    "print(data['enrolled_university'].unique())\n",
    "print(data['relevent_experience'].unique())\n",
    "print(data['gender'].unique())\n",
    "print(data['city'].unique())"
   ]
  },
  {
   "cell_type": "markdown",
   "metadata": {},
   "source": [
    "### B - As one-hot encoding is a bit strict, use panda's get_dummies function to create binary columns for the values of the following columns: "
   ]
  },
  {
   "cell_type": "markdown",
   "metadata": {},
   "source": [
    "#### a - Company_Type"
   ]
  },
  {
   "cell_type": "code",
   "execution_count": 80,
   "metadata": {},
   "outputs": [],
   "source": [
    "data = pd.get_dummies(data, columns = ['company_type'])"
   ]
  },
  {
   "cell_type": "markdown",
   "metadata": {},
   "source": [
    "#### b - Major_Descipline"
   ]
  },
  {
   "cell_type": "code",
   "execution_count": 81,
   "metadata": {},
   "outputs": [],
   "source": [
    "data = pd.get_dummies(data, columns = ['major_discipline'])"
   ]
  },
  {
   "cell_type": "markdown",
   "metadata": {},
   "source": [
    "#### c - Enrolled_University"
   ]
  },
  {
   "cell_type": "code",
   "execution_count": 82,
   "metadata": {},
   "outputs": [],
   "source": [
    "data = pd.get_dummies(data, columns = ['enrolled_university'])"
   ]
  },
  {
   "cell_type": "markdown",
   "metadata": {},
   "source": [
    "#### d - Relevant_Experience"
   ]
  },
  {
   "cell_type": "code",
   "execution_count": 83,
   "metadata": {},
   "outputs": [],
   "source": [
    "data = pd.get_dummies(data, columns = ['relevent_experience'])"
   ]
  },
  {
   "cell_type": "markdown",
   "metadata": {},
   "source": [
    "#### e - Gender"
   ]
  },
  {
   "cell_type": "code",
   "execution_count": 84,
   "metadata": {},
   "outputs": [],
   "source": [
    "data = pd.get_dummies(data, columns = ['gender'])"
   ]
  },
  {
   "cell_type": "markdown",
   "metadata": {},
   "source": [
    "#### f - Updated City Column"
   ]
  },
  {
   "cell_type": "code",
   "execution_count": 85,
   "metadata": {},
   "outputs": [],
   "source": [
    "data = pd.get_dummies(data, columns = ['city'])"
   ]
  },
  {
   "cell_type": "markdown",
   "metadata": {},
   "source": [
    "### C - Show the top 5 and last 5 rows to show that the table has changed "
   ]
  },
  {
   "cell_type": "code",
   "execution_count": 86,
   "metadata": {},
   "outputs": [
    {
     "name": "stdout",
     "output_type": "stream",
     "text": [
      "<bound method NDFrame.head of       Unnamed: 0  enrollee_id  city_development_index education_level  \\\n",
      "0              1        29725                   0.776               0   \n",
      "1              4          666                   0.767               1   \n",
      "2              7          402                   0.762               0   \n",
      "3              8        27107                   0.920               0   \n",
      "4             11        23853                   0.920               0   \n",
      "...          ...          ...                     ...             ...   \n",
      "8950       19147        21319                   0.624               0   \n",
      "8951       19149          251                   0.920               1   \n",
      "8952       19150        32313                   0.920               0   \n",
      "8953       19152        29754                   0.920               0   \n",
      "8954       19155        24576                   0.920               0   \n",
      "\n",
      "      experience company_size last_new_job  training_hours  target  \\\n",
      "0           15.0            2            5              47     0.0   \n",
      "1           21.0            2            4               8     0.0   \n",
      "2           13.0            0            5              18     1.0   \n",
      "3            7.0            2            1              46     1.0   \n",
      "4            5.0            6            1             108     0.0   \n",
      "...          ...          ...          ...             ...     ...   \n",
      "8950         1.0            3            1              52     1.0   \n",
      "8951         9.0            2            1              36     1.0   \n",
      "8952        10.0            3            3              23     0.0   \n",
      "8953         7.0            1            1              25     0.0   \n",
      "8954        21.0            2            4              44     0.0   \n",
      "\n",
      "      company_type_Early Stage Startup  company_type_Funded Startup  \\\n",
      "0                                    0                            0   \n",
      "1                                    0                            1   \n",
      "2                                    0                            0   \n",
      "3                                    0                            0   \n",
      "4                                    0                            0   \n",
      "...                                ...                          ...   \n",
      "8950                                 0                            0   \n",
      "8951                                 0                            0   \n",
      "8952                                 0                            0   \n",
      "8953                                 0                            1   \n",
      "8954                                 0                            0   \n",
      "\n",
      "      company_type_NGO  company_type_Other  company_type_Public Sector  \\\n",
      "0                    0                   0                           0   \n",
      "1                    0                   0                           0   \n",
      "2                    0                   0                           0   \n",
      "3                    0                   0                           0   \n",
      "4                    0                   0                           0   \n",
      "...                ...                 ...                         ...   \n",
      "8950                 0                   0                           0   \n",
      "8951                 0                   0                           0   \n",
      "8952                 0                   0                           1   \n",
      "8953                 0                   0                           0   \n",
      "8954                 0                   0                           0   \n",
      "\n",
      "      company_type_Pvt Ltd  major_discipline_Arts  \\\n",
      "0                        1                      0   \n",
      "1                        0                      0   \n",
      "2                        1                      0   \n",
      "3                        1                      0   \n",
      "4                        1                      0   \n",
      "...                    ...                    ...   \n",
      "8950                     1                      0   \n",
      "8951                     1                      0   \n",
      "8952                     0                      0   \n",
      "8953                     0                      0   \n",
      "8954                     1                      0   \n",
      "\n",
      "      major_discipline_Business Degree  major_discipline_Humanities  \\\n",
      "0                                    0                            0   \n",
      "1                                    0                            0   \n",
      "2                                    0                            0   \n",
      "3                                    0                            0   \n",
      "4                                    0                            0   \n",
      "...                                ...                          ...   \n",
      "8950                                 0                            0   \n",
      "8951                                 0                            0   \n",
      "8952                                 0                            0   \n",
      "8953                                 0                            1   \n",
      "8954                                 0                            0   \n",
      "\n",
      "      major_discipline_No Major  major_discipline_Other  \\\n",
      "0                             0                       0   \n",
      "1                             0                       0   \n",
      "2                             0                       0   \n",
      "3                             0                       0   \n",
      "4                             0                       0   \n",
      "...                         ...                     ...   \n",
      "8950                          0                       0   \n",
      "8951                          0                       0   \n",
      "8952                          0                       0   \n",
      "8953                          0                       0   \n",
      "8954                          0                       0   \n",
      "\n",
      "      major_discipline_STEM  enrolled_university_Full time course  \\\n",
      "0                         1                                     0   \n",
      "1                         1                                     0   \n",
      "2                         1                                     0   \n",
      "3                         1                                     0   \n",
      "4                         1                                     0   \n",
      "...                     ...                                   ...   \n",
      "8950                      1                                     1   \n",
      "8951                      1                                     0   \n",
      "8952                      1                                     0   \n",
      "8953                      0                                     0   \n",
      "8954                      1                                     0   \n",
      "\n",
      "      enrolled_university_Part time course  enrolled_university_no_enrollment  \\\n",
      "0                                        0                                  1   \n",
      "1                                        0                                  1   \n",
      "2                                        0                                  1   \n",
      "3                                        0                                  1   \n",
      "4                                        0                                  1   \n",
      "...                                    ...                                ...   \n",
      "8950                                     0                                  0   \n",
      "8951                                     0                                  1   \n",
      "8952                                     0                                  1   \n",
      "8953                                     0                                  1   \n",
      "8954                                     0                                  1   \n",
      "\n",
      "      relevent_experience_Has relevent experience  \\\n",
      "0                                               0   \n",
      "1                                               1   \n",
      "2                                               1   \n",
      "3                                               1   \n",
      "4                                               1   \n",
      "...                                           ...   \n",
      "8950                                            0   \n",
      "8951                                            1   \n",
      "8952                                            1   \n",
      "8953                                            1   \n",
      "8954                                            1   \n",
      "\n",
      "      relevent_experience_No relevent experience  gender_Female  gender_Male  \\\n",
      "0                                              1              0            1   \n",
      "1                                              0              0            1   \n",
      "2                                              0              0            1   \n",
      "3                                              0              0            1   \n",
      "4                                              0              0            1   \n",
      "...                                          ...            ...          ...   \n",
      "8950                                           1              0            1   \n",
      "8951                                           0              0            1   \n",
      "8952                                           0              1            0   \n",
      "8953                                           0              1            0   \n",
      "8954                                           0              0            1   \n",
      "\n",
      "      gender_Other  city_city_103  city_city_16  city_city_21  city_city_other  \n",
      "0                0              0             0             0                1  \n",
      "1                0              0             0             0                1  \n",
      "2                0              0             0             0                1  \n",
      "3                0              1             0             0                0  \n",
      "4                0              1             0             0                0  \n",
      "...            ...            ...           ...           ...              ...  \n",
      "8950             0              0             0             1                0  \n",
      "8951             0              1             0             0                0  \n",
      "8952             0              0             0             0                1  \n",
      "8953             0              1             0             0                0  \n",
      "8954             0              1             0             0                0  \n",
      "\n",
      "[8955 rows x 33 columns]> <bound method NDFrame.tail of       Unnamed: 0  enrollee_id  city_development_index education_level  \\\n",
      "0              1        29725                   0.776               0   \n",
      "1              4          666                   0.767               1   \n",
      "2              7          402                   0.762               0   \n",
      "3              8        27107                   0.920               0   \n",
      "4             11        23853                   0.920               0   \n",
      "...          ...          ...                     ...             ...   \n",
      "8950       19147        21319                   0.624               0   \n",
      "8951       19149          251                   0.920               1   \n",
      "8952       19150        32313                   0.920               0   \n",
      "8953       19152        29754                   0.920               0   \n",
      "8954       19155        24576                   0.920               0   \n",
      "\n",
      "      experience company_size last_new_job  training_hours  target  \\\n",
      "0           15.0            2            5              47     0.0   \n",
      "1           21.0            2            4               8     0.0   \n",
      "2           13.0            0            5              18     1.0   \n",
      "3            7.0            2            1              46     1.0   \n",
      "4            5.0            6            1             108     0.0   \n",
      "...          ...          ...          ...             ...     ...   \n",
      "8950         1.0            3            1              52     1.0   \n",
      "8951         9.0            2            1              36     1.0   \n",
      "8952        10.0            3            3              23     0.0   \n",
      "8953         7.0            1            1              25     0.0   \n",
      "8954        21.0            2            4              44     0.0   \n",
      "\n",
      "      company_type_Early Stage Startup  company_type_Funded Startup  \\\n",
      "0                                    0                            0   \n",
      "1                                    0                            1   \n",
      "2                                    0                            0   \n",
      "3                                    0                            0   \n",
      "4                                    0                            0   \n",
      "...                                ...                          ...   \n",
      "8950                                 0                            0   \n",
      "8951                                 0                            0   \n",
      "8952                                 0                            0   \n",
      "8953                                 0                            1   \n",
      "8954                                 0                            0   \n",
      "\n",
      "      company_type_NGO  company_type_Other  company_type_Public Sector  \\\n",
      "0                    0                   0                           0   \n",
      "1                    0                   0                           0   \n",
      "2                    0                   0                           0   \n",
      "3                    0                   0                           0   \n",
      "4                    0                   0                           0   \n",
      "...                ...                 ...                         ...   \n",
      "8950                 0                   0                           0   \n",
      "8951                 0                   0                           0   \n",
      "8952                 0                   0                           1   \n",
      "8953                 0                   0                           0   \n",
      "8954                 0                   0                           0   \n",
      "\n",
      "      company_type_Pvt Ltd  major_discipline_Arts  \\\n",
      "0                        1                      0   \n",
      "1                        0                      0   \n",
      "2                        1                      0   \n",
      "3                        1                      0   \n",
      "4                        1                      0   \n",
      "...                    ...                    ...   \n",
      "8950                     1                      0   \n",
      "8951                     1                      0   \n",
      "8952                     0                      0   \n",
      "8953                     0                      0   \n",
      "8954                     1                      0   \n",
      "\n",
      "      major_discipline_Business Degree  major_discipline_Humanities  \\\n",
      "0                                    0                            0   \n",
      "1                                    0                            0   \n",
      "2                                    0                            0   \n",
      "3                                    0                            0   \n",
      "4                                    0                            0   \n",
      "...                                ...                          ...   \n",
      "8950                                 0                            0   \n",
      "8951                                 0                            0   \n",
      "8952                                 0                            0   \n",
      "8953                                 0                            1   \n",
      "8954                                 0                            0   \n",
      "\n",
      "      major_discipline_No Major  major_discipline_Other  \\\n",
      "0                             0                       0   \n",
      "1                             0                       0   \n",
      "2                             0                       0   \n",
      "3                             0                       0   \n",
      "4                             0                       0   \n",
      "...                         ...                     ...   \n",
      "8950                          0                       0   \n",
      "8951                          0                       0   \n",
      "8952                          0                       0   \n",
      "8953                          0                       0   \n",
      "8954                          0                       0   \n",
      "\n",
      "      major_discipline_STEM  enrolled_university_Full time course  \\\n",
      "0                         1                                     0   \n",
      "1                         1                                     0   \n",
      "2                         1                                     0   \n",
      "3                         1                                     0   \n",
      "4                         1                                     0   \n",
      "...                     ...                                   ...   \n",
      "8950                      1                                     1   \n",
      "8951                      1                                     0   \n",
      "8952                      1                                     0   \n",
      "8953                      0                                     0   \n",
      "8954                      1                                     0   \n",
      "\n",
      "      enrolled_university_Part time course  enrolled_university_no_enrollment  \\\n",
      "0                                        0                                  1   \n",
      "1                                        0                                  1   \n",
      "2                                        0                                  1   \n",
      "3                                        0                                  1   \n",
      "4                                        0                                  1   \n",
      "...                                    ...                                ...   \n",
      "8950                                     0                                  0   \n",
      "8951                                     0                                  1   \n",
      "8952                                     0                                  1   \n",
      "8953                                     0                                  1   \n",
      "8954                                     0                                  1   \n",
      "\n",
      "      relevent_experience_Has relevent experience  \\\n",
      "0                                               0   \n",
      "1                                               1   \n",
      "2                                               1   \n",
      "3                                               1   \n",
      "4                                               1   \n",
      "...                                           ...   \n",
      "8950                                            0   \n",
      "8951                                            1   \n",
      "8952                                            1   \n",
      "8953                                            1   \n",
      "8954                                            1   \n",
      "\n",
      "      relevent_experience_No relevent experience  gender_Female  gender_Male  \\\n",
      "0                                              1              0            1   \n",
      "1                                              0              0            1   \n",
      "2                                              0              0            1   \n",
      "3                                              0              0            1   \n",
      "4                                              0              0            1   \n",
      "...                                          ...            ...          ...   \n",
      "8950                                           1              0            1   \n",
      "8951                                           0              0            1   \n",
      "8952                                           0              1            0   \n",
      "8953                                           0              1            0   \n",
      "8954                                           0              0            1   \n",
      "\n",
      "      gender_Other  city_city_103  city_city_16  city_city_21  city_city_other  \n",
      "0                0              0             0             0                1  \n",
      "1                0              0             0             0                1  \n",
      "2                0              0             0             0                1  \n",
      "3                0              1             0             0                0  \n",
      "4                0              1             0             0                0  \n",
      "...            ...            ...           ...           ...              ...  \n",
      "8950             0              0             0             1                0  \n",
      "8951             0              1             0             0                0  \n",
      "8952             0              0             0             0                1  \n",
      "8953             0              1             0             0                0  \n",
      "8954             0              1             0             0                0  \n",
      "\n",
      "[8955 rows x 33 columns]>\n"
     ]
    }
   ],
   "source": [
    "pd.set_option('display.max_columns', None)\n",
    "print(data.head, data.tail)"
   ]
  },
  {
   "cell_type": "markdown",
   "metadata": {},
   "source": [
    "### D - Show the Shape of the Table"
   ]
  },
  {
   "cell_type": "code",
   "execution_count": 87,
   "metadata": {},
   "outputs": [
    {
     "data": {
      "text/plain": [
       "(8955, 33)"
      ]
     },
     "execution_count": 87,
     "metadata": {},
     "output_type": "execute_result"
    }
   ],
   "source": [
    "data.shape"
   ]
  },
  {
   "cell_type": "markdown",
   "metadata": {},
   "source": [
    "## VI - Drop the enrollee_id and any duplicate columns"
   ]
  },
  {
   "cell_type": "code",
   "execution_count": 88,
   "metadata": {},
   "outputs": [],
   "source": [
    "data = data.drop(columns='enrollee_id')"
   ]
  },
  {
   "cell_type": "markdown",
   "metadata": {},
   "source": [
    "## VII - Feature Scaling"
   ]
  },
  {
   "cell_type": "markdown",
   "metadata": {},
   "source": [
    "### A - Use sklearn.preprocessing's MinMaxScaler to perform min max scaling to all the columns"
   ]
  },
  {
   "cell_type": "code",
   "execution_count": 89,
   "metadata": {},
   "outputs": [],
   "source": [
    "scaler = MinMaxScaler()\n",
    "cols = data.columns\n",
    "scaledData = scaler.fit_transform(data.to_numpy())\n",
    "data = pd.DataFrame(scaledData, columns = cols)"
   ]
  },
  {
   "cell_type": "markdown",
   "metadata": {},
   "source": [
    "### B - Move the target column to the last column of the data frame and show that it has changed"
   ]
  },
  {
   "cell_type": "code",
   "execution_count": 90,
   "metadata": {},
   "outputs": [],
   "source": [
    "targetCol = data.pop('target')\n",
    "data.insert(31, 'target', targetCol)"
   ]
  },
  {
   "cell_type": "code",
   "execution_count": 91,
   "metadata": {},
   "outputs": [
    {
     "data": {
      "text/html": [
       "<div>\n",
       "<style scoped>\n",
       "    .dataframe tbody tr th:only-of-type {\n",
       "        vertical-align: middle;\n",
       "    }\n",
       "\n",
       "    .dataframe tbody tr th {\n",
       "        vertical-align: top;\n",
       "    }\n",
       "\n",
       "    .dataframe thead th {\n",
       "        text-align: right;\n",
       "    }\n",
       "</style>\n",
       "<table border=\"1\" class=\"dataframe\">\n",
       "  <thead>\n",
       "    <tr style=\"text-align: right;\">\n",
       "      <th></th>\n",
       "      <th>Unnamed: 0</th>\n",
       "      <th>city_development_index</th>\n",
       "      <th>education_level</th>\n",
       "      <th>experience</th>\n",
       "      <th>company_size</th>\n",
       "      <th>last_new_job</th>\n",
       "      <th>training_hours</th>\n",
       "      <th>company_type_Early Stage Startup</th>\n",
       "      <th>company_type_Funded Startup</th>\n",
       "      <th>company_type_NGO</th>\n",
       "      <th>company_type_Other</th>\n",
       "      <th>company_type_Public Sector</th>\n",
       "      <th>company_type_Pvt Ltd</th>\n",
       "      <th>major_discipline_Arts</th>\n",
       "      <th>major_discipline_Business Degree</th>\n",
       "      <th>major_discipline_Humanities</th>\n",
       "      <th>major_discipline_No Major</th>\n",
       "      <th>major_discipline_Other</th>\n",
       "      <th>major_discipline_STEM</th>\n",
       "      <th>enrolled_university_Full time course</th>\n",
       "      <th>enrolled_university_Part time course</th>\n",
       "      <th>enrolled_university_no_enrollment</th>\n",
       "      <th>relevent_experience_Has relevent experience</th>\n",
       "      <th>relevent_experience_No relevent experience</th>\n",
       "      <th>gender_Female</th>\n",
       "      <th>gender_Male</th>\n",
       "      <th>gender_Other</th>\n",
       "      <th>city_city_103</th>\n",
       "      <th>city_city_16</th>\n",
       "      <th>city_city_21</th>\n",
       "      <th>city_city_other</th>\n",
       "      <th>target</th>\n",
       "    </tr>\n",
       "  </thead>\n",
       "  <tbody>\n",
       "    <tr>\n",
       "      <th>0</th>\n",
       "      <td>0.000000</td>\n",
       "      <td>0.654691</td>\n",
       "      <td>0.0</td>\n",
       "      <td>0.714286</td>\n",
       "      <td>0.285714</td>\n",
       "      <td>1.0</td>\n",
       "      <td>0.137313</td>\n",
       "      <td>0.0</td>\n",
       "      <td>0.0</td>\n",
       "      <td>0.0</td>\n",
       "      <td>0.0</td>\n",
       "      <td>0.0</td>\n",
       "      <td>1.0</td>\n",
       "      <td>0.0</td>\n",
       "      <td>0.0</td>\n",
       "      <td>0.0</td>\n",
       "      <td>0.0</td>\n",
       "      <td>0.0</td>\n",
       "      <td>1.0</td>\n",
       "      <td>0.0</td>\n",
       "      <td>0.0</td>\n",
       "      <td>1.0</td>\n",
       "      <td>0.0</td>\n",
       "      <td>1.0</td>\n",
       "      <td>0.0</td>\n",
       "      <td>1.0</td>\n",
       "      <td>0.0</td>\n",
       "      <td>0.0</td>\n",
       "      <td>0.0</td>\n",
       "      <td>0.0</td>\n",
       "      <td>1.0</td>\n",
       "      <td>0.0</td>\n",
       "    </tr>\n",
       "    <tr>\n",
       "      <th>1</th>\n",
       "      <td>0.000157</td>\n",
       "      <td>0.636727</td>\n",
       "      <td>0.5</td>\n",
       "      <td>1.000000</td>\n",
       "      <td>0.285714</td>\n",
       "      <td>0.8</td>\n",
       "      <td>0.020896</td>\n",
       "      <td>0.0</td>\n",
       "      <td>1.0</td>\n",
       "      <td>0.0</td>\n",
       "      <td>0.0</td>\n",
       "      <td>0.0</td>\n",
       "      <td>0.0</td>\n",
       "      <td>0.0</td>\n",
       "      <td>0.0</td>\n",
       "      <td>0.0</td>\n",
       "      <td>0.0</td>\n",
       "      <td>0.0</td>\n",
       "      <td>1.0</td>\n",
       "      <td>0.0</td>\n",
       "      <td>0.0</td>\n",
       "      <td>1.0</td>\n",
       "      <td>1.0</td>\n",
       "      <td>0.0</td>\n",
       "      <td>0.0</td>\n",
       "      <td>1.0</td>\n",
       "      <td>0.0</td>\n",
       "      <td>0.0</td>\n",
       "      <td>0.0</td>\n",
       "      <td>0.0</td>\n",
       "      <td>1.0</td>\n",
       "      <td>0.0</td>\n",
       "    </tr>\n",
       "    <tr>\n",
       "      <th>2</th>\n",
       "      <td>0.000313</td>\n",
       "      <td>0.626747</td>\n",
       "      <td>0.0</td>\n",
       "      <td>0.619048</td>\n",
       "      <td>0.000000</td>\n",
       "      <td>1.0</td>\n",
       "      <td>0.050746</td>\n",
       "      <td>0.0</td>\n",
       "      <td>0.0</td>\n",
       "      <td>0.0</td>\n",
       "      <td>0.0</td>\n",
       "      <td>0.0</td>\n",
       "      <td>1.0</td>\n",
       "      <td>0.0</td>\n",
       "      <td>0.0</td>\n",
       "      <td>0.0</td>\n",
       "      <td>0.0</td>\n",
       "      <td>0.0</td>\n",
       "      <td>1.0</td>\n",
       "      <td>0.0</td>\n",
       "      <td>0.0</td>\n",
       "      <td>1.0</td>\n",
       "      <td>1.0</td>\n",
       "      <td>0.0</td>\n",
       "      <td>0.0</td>\n",
       "      <td>1.0</td>\n",
       "      <td>0.0</td>\n",
       "      <td>0.0</td>\n",
       "      <td>0.0</td>\n",
       "      <td>0.0</td>\n",
       "      <td>1.0</td>\n",
       "      <td>1.0</td>\n",
       "    </tr>\n",
       "    <tr>\n",
       "      <th>3</th>\n",
       "      <td>0.000365</td>\n",
       "      <td>0.942116</td>\n",
       "      <td>0.0</td>\n",
       "      <td>0.333333</td>\n",
       "      <td>0.285714</td>\n",
       "      <td>0.2</td>\n",
       "      <td>0.134328</td>\n",
       "      <td>0.0</td>\n",
       "      <td>0.0</td>\n",
       "      <td>0.0</td>\n",
       "      <td>0.0</td>\n",
       "      <td>0.0</td>\n",
       "      <td>1.0</td>\n",
       "      <td>0.0</td>\n",
       "      <td>0.0</td>\n",
       "      <td>0.0</td>\n",
       "      <td>0.0</td>\n",
       "      <td>0.0</td>\n",
       "      <td>1.0</td>\n",
       "      <td>0.0</td>\n",
       "      <td>0.0</td>\n",
       "      <td>1.0</td>\n",
       "      <td>1.0</td>\n",
       "      <td>0.0</td>\n",
       "      <td>0.0</td>\n",
       "      <td>1.0</td>\n",
       "      <td>0.0</td>\n",
       "      <td>1.0</td>\n",
       "      <td>0.0</td>\n",
       "      <td>0.0</td>\n",
       "      <td>0.0</td>\n",
       "      <td>1.0</td>\n",
       "    </tr>\n",
       "    <tr>\n",
       "      <th>4</th>\n",
       "      <td>0.000522</td>\n",
       "      <td>0.942116</td>\n",
       "      <td>0.0</td>\n",
       "      <td>0.238095</td>\n",
       "      <td>0.857143</td>\n",
       "      <td>0.2</td>\n",
       "      <td>0.319403</td>\n",
       "      <td>0.0</td>\n",
       "      <td>0.0</td>\n",
       "      <td>0.0</td>\n",
       "      <td>0.0</td>\n",
       "      <td>0.0</td>\n",
       "      <td>1.0</td>\n",
       "      <td>0.0</td>\n",
       "      <td>0.0</td>\n",
       "      <td>0.0</td>\n",
       "      <td>0.0</td>\n",
       "      <td>0.0</td>\n",
       "      <td>1.0</td>\n",
       "      <td>0.0</td>\n",
       "      <td>0.0</td>\n",
       "      <td>1.0</td>\n",
       "      <td>1.0</td>\n",
       "      <td>0.0</td>\n",
       "      <td>0.0</td>\n",
       "      <td>1.0</td>\n",
       "      <td>0.0</td>\n",
       "      <td>1.0</td>\n",
       "      <td>0.0</td>\n",
       "      <td>0.0</td>\n",
       "      <td>0.0</td>\n",
       "      <td>0.0</td>\n",
       "    </tr>\n",
       "    <tr>\n",
       "      <th>...</th>\n",
       "      <td>...</td>\n",
       "      <td>...</td>\n",
       "      <td>...</td>\n",
       "      <td>...</td>\n",
       "      <td>...</td>\n",
       "      <td>...</td>\n",
       "      <td>...</td>\n",
       "      <td>...</td>\n",
       "      <td>...</td>\n",
       "      <td>...</td>\n",
       "      <td>...</td>\n",
       "      <td>...</td>\n",
       "      <td>...</td>\n",
       "      <td>...</td>\n",
       "      <td>...</td>\n",
       "      <td>...</td>\n",
       "      <td>...</td>\n",
       "      <td>...</td>\n",
       "      <td>...</td>\n",
       "      <td>...</td>\n",
       "      <td>...</td>\n",
       "      <td>...</td>\n",
       "      <td>...</td>\n",
       "      <td>...</td>\n",
       "      <td>...</td>\n",
       "      <td>...</td>\n",
       "      <td>...</td>\n",
       "      <td>...</td>\n",
       "      <td>...</td>\n",
       "      <td>...</td>\n",
       "      <td>...</td>\n",
       "      <td>...</td>\n",
       "    </tr>\n",
       "    <tr>\n",
       "      <th>8950</th>\n",
       "      <td>0.999582</td>\n",
       "      <td>0.351297</td>\n",
       "      <td>0.0</td>\n",
       "      <td>0.047619</td>\n",
       "      <td>0.428571</td>\n",
       "      <td>0.2</td>\n",
       "      <td>0.152239</td>\n",
       "      <td>0.0</td>\n",
       "      <td>0.0</td>\n",
       "      <td>0.0</td>\n",
       "      <td>0.0</td>\n",
       "      <td>0.0</td>\n",
       "      <td>1.0</td>\n",
       "      <td>0.0</td>\n",
       "      <td>0.0</td>\n",
       "      <td>0.0</td>\n",
       "      <td>0.0</td>\n",
       "      <td>0.0</td>\n",
       "      <td>1.0</td>\n",
       "      <td>1.0</td>\n",
       "      <td>0.0</td>\n",
       "      <td>0.0</td>\n",
       "      <td>0.0</td>\n",
       "      <td>1.0</td>\n",
       "      <td>0.0</td>\n",
       "      <td>1.0</td>\n",
       "      <td>0.0</td>\n",
       "      <td>0.0</td>\n",
       "      <td>0.0</td>\n",
       "      <td>1.0</td>\n",
       "      <td>0.0</td>\n",
       "      <td>1.0</td>\n",
       "    </tr>\n",
       "    <tr>\n",
       "      <th>8951</th>\n",
       "      <td>0.999687</td>\n",
       "      <td>0.942116</td>\n",
       "      <td>0.5</td>\n",
       "      <td>0.428571</td>\n",
       "      <td>0.285714</td>\n",
       "      <td>0.2</td>\n",
       "      <td>0.104478</td>\n",
       "      <td>0.0</td>\n",
       "      <td>0.0</td>\n",
       "      <td>0.0</td>\n",
       "      <td>0.0</td>\n",
       "      <td>0.0</td>\n",
       "      <td>1.0</td>\n",
       "      <td>0.0</td>\n",
       "      <td>0.0</td>\n",
       "      <td>0.0</td>\n",
       "      <td>0.0</td>\n",
       "      <td>0.0</td>\n",
       "      <td>1.0</td>\n",
       "      <td>0.0</td>\n",
       "      <td>0.0</td>\n",
       "      <td>1.0</td>\n",
       "      <td>1.0</td>\n",
       "      <td>0.0</td>\n",
       "      <td>0.0</td>\n",
       "      <td>1.0</td>\n",
       "      <td>0.0</td>\n",
       "      <td>1.0</td>\n",
       "      <td>0.0</td>\n",
       "      <td>0.0</td>\n",
       "      <td>0.0</td>\n",
       "      <td>1.0</td>\n",
       "    </tr>\n",
       "    <tr>\n",
       "      <th>8952</th>\n",
       "      <td>0.999739</td>\n",
       "      <td>0.942116</td>\n",
       "      <td>0.0</td>\n",
       "      <td>0.476190</td>\n",
       "      <td>0.428571</td>\n",
       "      <td>0.6</td>\n",
       "      <td>0.065672</td>\n",
       "      <td>0.0</td>\n",
       "      <td>0.0</td>\n",
       "      <td>0.0</td>\n",
       "      <td>0.0</td>\n",
       "      <td>1.0</td>\n",
       "      <td>0.0</td>\n",
       "      <td>0.0</td>\n",
       "      <td>0.0</td>\n",
       "      <td>0.0</td>\n",
       "      <td>0.0</td>\n",
       "      <td>0.0</td>\n",
       "      <td>1.0</td>\n",
       "      <td>0.0</td>\n",
       "      <td>0.0</td>\n",
       "      <td>1.0</td>\n",
       "      <td>1.0</td>\n",
       "      <td>0.0</td>\n",
       "      <td>1.0</td>\n",
       "      <td>0.0</td>\n",
       "      <td>0.0</td>\n",
       "      <td>0.0</td>\n",
       "      <td>0.0</td>\n",
       "      <td>0.0</td>\n",
       "      <td>1.0</td>\n",
       "      <td>0.0</td>\n",
       "    </tr>\n",
       "    <tr>\n",
       "      <th>8953</th>\n",
       "      <td>0.999843</td>\n",
       "      <td>0.942116</td>\n",
       "      <td>0.0</td>\n",
       "      <td>0.333333</td>\n",
       "      <td>0.142857</td>\n",
       "      <td>0.2</td>\n",
       "      <td>0.071642</td>\n",
       "      <td>0.0</td>\n",
       "      <td>1.0</td>\n",
       "      <td>0.0</td>\n",
       "      <td>0.0</td>\n",
       "      <td>0.0</td>\n",
       "      <td>0.0</td>\n",
       "      <td>0.0</td>\n",
       "      <td>0.0</td>\n",
       "      <td>1.0</td>\n",
       "      <td>0.0</td>\n",
       "      <td>0.0</td>\n",
       "      <td>0.0</td>\n",
       "      <td>0.0</td>\n",
       "      <td>0.0</td>\n",
       "      <td>1.0</td>\n",
       "      <td>1.0</td>\n",
       "      <td>0.0</td>\n",
       "      <td>1.0</td>\n",
       "      <td>0.0</td>\n",
       "      <td>0.0</td>\n",
       "      <td>1.0</td>\n",
       "      <td>0.0</td>\n",
       "      <td>0.0</td>\n",
       "      <td>0.0</td>\n",
       "      <td>0.0</td>\n",
       "    </tr>\n",
       "    <tr>\n",
       "      <th>8954</th>\n",
       "      <td>1.000000</td>\n",
       "      <td>0.942116</td>\n",
       "      <td>0.0</td>\n",
       "      <td>1.000000</td>\n",
       "      <td>0.285714</td>\n",
       "      <td>0.8</td>\n",
       "      <td>0.128358</td>\n",
       "      <td>0.0</td>\n",
       "      <td>0.0</td>\n",
       "      <td>0.0</td>\n",
       "      <td>0.0</td>\n",
       "      <td>0.0</td>\n",
       "      <td>1.0</td>\n",
       "      <td>0.0</td>\n",
       "      <td>0.0</td>\n",
       "      <td>0.0</td>\n",
       "      <td>0.0</td>\n",
       "      <td>0.0</td>\n",
       "      <td>1.0</td>\n",
       "      <td>0.0</td>\n",
       "      <td>0.0</td>\n",
       "      <td>1.0</td>\n",
       "      <td>1.0</td>\n",
       "      <td>0.0</td>\n",
       "      <td>0.0</td>\n",
       "      <td>1.0</td>\n",
       "      <td>0.0</td>\n",
       "      <td>1.0</td>\n",
       "      <td>0.0</td>\n",
       "      <td>0.0</td>\n",
       "      <td>0.0</td>\n",
       "      <td>0.0</td>\n",
       "    </tr>\n",
       "  </tbody>\n",
       "</table>\n",
       "<p>8955 rows × 32 columns</p>\n",
       "</div>"
      ],
      "text/plain": [
       "      Unnamed: 0  city_development_index  education_level  experience  \\\n",
       "0       0.000000                0.654691              0.0    0.714286   \n",
       "1       0.000157                0.636727              0.5    1.000000   \n",
       "2       0.000313                0.626747              0.0    0.619048   \n",
       "3       0.000365                0.942116              0.0    0.333333   \n",
       "4       0.000522                0.942116              0.0    0.238095   \n",
       "...          ...                     ...              ...         ...   \n",
       "8950    0.999582                0.351297              0.0    0.047619   \n",
       "8951    0.999687                0.942116              0.5    0.428571   \n",
       "8952    0.999739                0.942116              0.0    0.476190   \n",
       "8953    0.999843                0.942116              0.0    0.333333   \n",
       "8954    1.000000                0.942116              0.0    1.000000   \n",
       "\n",
       "      company_size  last_new_job  training_hours  \\\n",
       "0         0.285714           1.0        0.137313   \n",
       "1         0.285714           0.8        0.020896   \n",
       "2         0.000000           1.0        0.050746   \n",
       "3         0.285714           0.2        0.134328   \n",
       "4         0.857143           0.2        0.319403   \n",
       "...            ...           ...             ...   \n",
       "8950      0.428571           0.2        0.152239   \n",
       "8951      0.285714           0.2        0.104478   \n",
       "8952      0.428571           0.6        0.065672   \n",
       "8953      0.142857           0.2        0.071642   \n",
       "8954      0.285714           0.8        0.128358   \n",
       "\n",
       "      company_type_Early Stage Startup  company_type_Funded Startup  \\\n",
       "0                                  0.0                          0.0   \n",
       "1                                  0.0                          1.0   \n",
       "2                                  0.0                          0.0   \n",
       "3                                  0.0                          0.0   \n",
       "4                                  0.0                          0.0   \n",
       "...                                ...                          ...   \n",
       "8950                               0.0                          0.0   \n",
       "8951                               0.0                          0.0   \n",
       "8952                               0.0                          0.0   \n",
       "8953                               0.0                          1.0   \n",
       "8954                               0.0                          0.0   \n",
       "\n",
       "      company_type_NGO  company_type_Other  company_type_Public Sector  \\\n",
       "0                  0.0                 0.0                         0.0   \n",
       "1                  0.0                 0.0                         0.0   \n",
       "2                  0.0                 0.0                         0.0   \n",
       "3                  0.0                 0.0                         0.0   \n",
       "4                  0.0                 0.0                         0.0   \n",
       "...                ...                 ...                         ...   \n",
       "8950               0.0                 0.0                         0.0   \n",
       "8951               0.0                 0.0                         0.0   \n",
       "8952               0.0                 0.0                         1.0   \n",
       "8953               0.0                 0.0                         0.0   \n",
       "8954               0.0                 0.0                         0.0   \n",
       "\n",
       "      company_type_Pvt Ltd  major_discipline_Arts  \\\n",
       "0                      1.0                    0.0   \n",
       "1                      0.0                    0.0   \n",
       "2                      1.0                    0.0   \n",
       "3                      1.0                    0.0   \n",
       "4                      1.0                    0.0   \n",
       "...                    ...                    ...   \n",
       "8950                   1.0                    0.0   \n",
       "8951                   1.0                    0.0   \n",
       "8952                   0.0                    0.0   \n",
       "8953                   0.0                    0.0   \n",
       "8954                   1.0                    0.0   \n",
       "\n",
       "      major_discipline_Business Degree  major_discipline_Humanities  \\\n",
       "0                                  0.0                          0.0   \n",
       "1                                  0.0                          0.0   \n",
       "2                                  0.0                          0.0   \n",
       "3                                  0.0                          0.0   \n",
       "4                                  0.0                          0.0   \n",
       "...                                ...                          ...   \n",
       "8950                               0.0                          0.0   \n",
       "8951                               0.0                          0.0   \n",
       "8952                               0.0                          0.0   \n",
       "8953                               0.0                          1.0   \n",
       "8954                               0.0                          0.0   \n",
       "\n",
       "      major_discipline_No Major  major_discipline_Other  \\\n",
       "0                           0.0                     0.0   \n",
       "1                           0.0                     0.0   \n",
       "2                           0.0                     0.0   \n",
       "3                           0.0                     0.0   \n",
       "4                           0.0                     0.0   \n",
       "...                         ...                     ...   \n",
       "8950                        0.0                     0.0   \n",
       "8951                        0.0                     0.0   \n",
       "8952                        0.0                     0.0   \n",
       "8953                        0.0                     0.0   \n",
       "8954                        0.0                     0.0   \n",
       "\n",
       "      major_discipline_STEM  enrolled_university_Full time course  \\\n",
       "0                       1.0                                   0.0   \n",
       "1                       1.0                                   0.0   \n",
       "2                       1.0                                   0.0   \n",
       "3                       1.0                                   0.0   \n",
       "4                       1.0                                   0.0   \n",
       "...                     ...                                   ...   \n",
       "8950                    1.0                                   1.0   \n",
       "8951                    1.0                                   0.0   \n",
       "8952                    1.0                                   0.0   \n",
       "8953                    0.0                                   0.0   \n",
       "8954                    1.0                                   0.0   \n",
       "\n",
       "      enrolled_university_Part time course  enrolled_university_no_enrollment  \\\n",
       "0                                      0.0                                1.0   \n",
       "1                                      0.0                                1.0   \n",
       "2                                      0.0                                1.0   \n",
       "3                                      0.0                                1.0   \n",
       "4                                      0.0                                1.0   \n",
       "...                                    ...                                ...   \n",
       "8950                                   0.0                                0.0   \n",
       "8951                                   0.0                                1.0   \n",
       "8952                                   0.0                                1.0   \n",
       "8953                                   0.0                                1.0   \n",
       "8954                                   0.0                                1.0   \n",
       "\n",
       "      relevent_experience_Has relevent experience  \\\n",
       "0                                             0.0   \n",
       "1                                             1.0   \n",
       "2                                             1.0   \n",
       "3                                             1.0   \n",
       "4                                             1.0   \n",
       "...                                           ...   \n",
       "8950                                          0.0   \n",
       "8951                                          1.0   \n",
       "8952                                          1.0   \n",
       "8953                                          1.0   \n",
       "8954                                          1.0   \n",
       "\n",
       "      relevent_experience_No relevent experience  gender_Female  gender_Male  \\\n",
       "0                                            1.0            0.0          1.0   \n",
       "1                                            0.0            0.0          1.0   \n",
       "2                                            0.0            0.0          1.0   \n",
       "3                                            0.0            0.0          1.0   \n",
       "4                                            0.0            0.0          1.0   \n",
       "...                                          ...            ...          ...   \n",
       "8950                                         1.0            0.0          1.0   \n",
       "8951                                         0.0            0.0          1.0   \n",
       "8952                                         0.0            1.0          0.0   \n",
       "8953                                         0.0            1.0          0.0   \n",
       "8954                                         0.0            0.0          1.0   \n",
       "\n",
       "      gender_Other  city_city_103  city_city_16  city_city_21  \\\n",
       "0              0.0            0.0           0.0           0.0   \n",
       "1              0.0            0.0           0.0           0.0   \n",
       "2              0.0            0.0           0.0           0.0   \n",
       "3              0.0            1.0           0.0           0.0   \n",
       "4              0.0            1.0           0.0           0.0   \n",
       "...            ...            ...           ...           ...   \n",
       "8950           0.0            0.0           0.0           1.0   \n",
       "8951           0.0            1.0           0.0           0.0   \n",
       "8952           0.0            0.0           0.0           0.0   \n",
       "8953           0.0            1.0           0.0           0.0   \n",
       "8954           0.0            1.0           0.0           0.0   \n",
       "\n",
       "      city_city_other  target  \n",
       "0                 1.0     0.0  \n",
       "1                 1.0     0.0  \n",
       "2                 1.0     1.0  \n",
       "3                 0.0     1.0  \n",
       "4                 0.0     0.0  \n",
       "...               ...     ...  \n",
       "8950              0.0     1.0  \n",
       "8951              0.0     1.0  \n",
       "8952              1.0     0.0  \n",
       "8953              0.0     0.0  \n",
       "8954              0.0     0.0  \n",
       "\n",
       "[8955 rows x 32 columns]"
      ]
     },
     "execution_count": 91,
     "metadata": {},
     "output_type": "execute_result"
    }
   ],
   "source": [
    "data"
   ]
  },
  {
   "cell_type": "markdown",
   "metadata": {},
   "source": [
    "# 3 - X/Y and Training/Test Split with stratified sampling and SMOTE"
   ]
  },
  {
   "cell_type": "markdown",
   "metadata": {},
   "source": [
    "## I - Copy all the features into X and the target to Y"
   ]
  },
  {
   "cell_type": "code",
   "execution_count": 92,
   "metadata": {},
   "outputs": [],
   "source": [
    "X = data.iloc[:, :-1]\n",
    "y = data['target']"
   ]
  },
  {
   "cell_type": "markdown",
   "metadata": {},
   "source": [
    "## II - Show the ratio of 1 and 0 in Y"
   ]
  },
  {
   "cell_type": "code",
   "execution_count": 93,
   "metadata": {},
   "outputs": [],
   "source": [
    "def calcRatio(x):\n",
    "\tnumOne = sum(x.values == 1)\n",
    "\tnumZero = sum(x.values == 0)\n",
    "\treturn numOne / numZero"
   ]
  },
  {
   "cell_type": "code",
   "execution_count": 94,
   "metadata": {},
   "outputs": [
    {
     "data": {
      "text/plain": [
       "0.19847430406852248"
      ]
     },
     "execution_count": 94,
     "metadata": {},
     "output_type": "execute_result"
    }
   ],
   "source": [
    "calcRatio(y)"
   ]
  },
  {
   "cell_type": "markdown",
   "metadata": {},
   "source": [
    "## III - Use sklearn's train_test_split to split the data set into training and test sets. There should be 30% records in the test set. The random_stat should be 0. As we want to have the same ratio of 0 and 1 in the test set, use the stratify parameter to the Y."
   ]
  },
  {
   "cell_type": "code",
   "execution_count": 95,
   "metadata": {},
   "outputs": [],
   "source": [
    "trainX, testX, trainY, testY = train_test_split(X, y, test_size = 0.3, random_state = 0, stratify = y)"
   ]
  },
  {
   "cell_type": "markdown",
   "metadata": {},
   "source": [
    "## IV - Show the ratio of 0 and 1 in y_train and then y_test"
   ]
  },
  {
   "cell_type": "code",
   "execution_count": 96,
   "metadata": {},
   "outputs": [
    {
     "name": "stdout",
     "output_type": "stream",
     "text": [
      "0.19847036328871892 0.19848349687778769\n"
     ]
    }
   ],
   "source": [
    "print(calcRatio(trainY), calcRatio(testY))"
   ]
  },
  {
   "cell_type": "markdown",
   "metadata": {},
   "source": [
    "## V - Rebalance"
   ]
  },
  {
   "cell_type": "markdown",
   "metadata": {},
   "source": [
    "### A - Use imblearn's SMOTE to balance the x_train"
   ]
  },
  {
   "cell_type": "code",
   "execution_count": 97,
   "metadata": {},
   "outputs": [],
   "source": [
    "reballance = SMOTE()\n",
    "trainXO = trainX\n",
    "trainYO = trainY\n",
    "trainX, trainY = reballance.fit_resample(trainX, trainY)"
   ]
  },
  {
   "cell_type": "markdown",
   "metadata": {},
   "source": [
    "## VI - Show the ratio of 0 and 1 in Y_train after rebalancing"
   ]
  },
  {
   "cell_type": "code",
   "execution_count": 98,
   "metadata": {},
   "outputs": [
    {
     "data": {
      "text/plain": [
       "1.0"
      ]
     },
     "execution_count": 98,
     "metadata": {},
     "output_type": "execute_result"
    }
   ],
   "source": [
    "calcRatio(trainY)"
   ]
  },
  {
   "cell_type": "markdown",
   "metadata": {},
   "source": [
    "# 4 -  PCA and Logistic Regression"
   ]
  },
  {
   "cell_type": "markdown",
   "metadata": {},
   "source": [
    "## I - Principle Component Analysis on the ballenced training set"
   ]
  },
  {
   "cell_type": "code",
   "execution_count": 99,
   "metadata": {},
   "outputs": [],
   "source": [
    "def getModels():\n",
    "\tmodels = dict()\n",
    "\tfor i in range(1, 32):\n",
    "\t\tsteps = [('pca', PCA(n_components = i)), ('m', LogisticRegression())]\n",
    "\t\tmodels[str(i)] = Pipeline(steps = steps)\n",
    "\treturn models\n",
    "\n",
    "def evalModel(modes, X, y):\n",
    "\tcv = RepeatedStratifiedKFold(n_splits = 10, n_repeats = 3, random_state = 1)\n",
    "\tscores = cross_val_score(model, X, y, scoring = 'accuracy', cv = cv, n_jobs = 1, error_score = 'raise')\n",
    "\treturn scores"
   ]
  },
  {
   "cell_type": "code",
   "execution_count": 100,
   "metadata": {},
   "outputs": [
    {
     "name": "stdout",
     "output_type": "stream",
     "text": [
      ">1 0.637 (0.013)\n",
      ">2 0.692 (0.010)\n",
      ">3 0.692 (0.010)\n",
      ">4 0.692 (0.009)\n",
      ">5 0.702 (0.010)\n",
      ">6 0.702 (0.010)\n",
      ">7 0.700 (0.011)\n",
      ">8 0.720 (0.010)\n",
      ">9 0.719 (0.010)\n",
      ">10 0.724 (0.011)\n",
      ">11 0.728 (0.011)\n",
      ">12 0.728 (0.010)\n",
      ">13 0.725 (0.010)\n",
      ">14 0.724 (0.010)\n",
      ">15 0.725 (0.010)\n",
      ">16 0.724 (0.009)\n",
      ">17 0.723 (0.010)\n",
      ">18 0.724 (0.010)\n",
      ">19 0.724 (0.010)\n",
      ">20 0.730 (0.012)\n",
      ">21 0.731 (0.012)\n",
      ">22 0.730 (0.012)\n",
      ">23 0.731 (0.012)\n",
      ">24 0.731 (0.012)\n",
      ">25 0.730 (0.013)\n",
      ">26 0.730 (0.013)\n",
      ">27 0.730 (0.013)\n",
      ">28 0.730 (0.013)\n",
      ">29 0.730 (0.013)\n",
      ">30 0.730 (0.013)\n",
      ">31 0.730 (0.013)\n"
     ]
    }
   ],
   "source": [
    "models = getModels()\n",
    "results, names = list(), list()\n",
    "for name, model in models.items():\n",
    "\tscores = evalModel(model, trainX, trainY)\n",
    "\tresults.append(scores)\n",
    "\tnames.append(name)\n",
    "\tprint('>%s %.3f (%.3f)' % (name, mean(scores), std(scores)))"
   ]
  },
  {
   "cell_type": "markdown",
   "metadata": {},
   "source": [
    "## II - Based on the number of features chosen in the above step, use the test set to evaluate the model for accuracy"
   ]
  },
  {
   "cell_type": "code",
   "execution_count": 101,
   "metadata": {},
   "outputs": [
    {
     "name": "stdout",
     "output_type": "stream",
     "text": [
      "0.8314104949758094\n"
     ]
    }
   ],
   "source": [
    "steps = [('pca', PCA(n_components = 11)), ('m', LogisticRegression())]\n",
    "model = Pipeline(steps = steps)\n",
    "model.fit(trainX, trainY)\n",
    "preidctY = model.predict(testX)\n",
    "print(accuracy_score(testY, preidctY))"
   ]
  },
  {
   "cell_type": "markdown",
   "metadata": {},
   "source": [
    "## III - Show the confusion matrix and interpret the numbers in the confusion matrix"
   ]
  },
  {
   "cell_type": "code",
   "execution_count": 102,
   "metadata": {},
   "outputs": [
    {
     "data": {
      "text/plain": [
       "array([[1987,  255],\n",
       "       [ 198,  247]])"
      ]
     },
     "execution_count": 102,
     "metadata": {},
     "output_type": "execute_result"
    }
   ],
   "source": [
    "confusion_matrix(testY, preidctY)"
   ]
  },
  {
   "cell_type": "markdown",
   "metadata": {},
   "source": [
    "## IV - Show precision, recall, and f1 score"
   ]
  },
  {
   "cell_type": "code",
   "execution_count": 103,
   "metadata": {},
   "outputs": [
    {
     "name": "stdout",
     "output_type": "stream",
     "text": [
      "0.49203187250996017 0.5550561797752809 0.5216473072861668\n"
     ]
    }
   ],
   "source": [
    "print(precision_score(testY, preidctY), recall_score(testY, preidctY), f1_score(testY, preidctY))"
   ]
  },
  {
   "cell_type": "markdown",
   "metadata": {},
   "source": [
    "## V - Plot ROC curve and find AUC"
   ]
  },
  {
   "cell_type": "code",
   "execution_count": 104,
   "metadata": {},
   "outputs": [
    {
     "data": {
      "image/png": "[encoded data removed]",
      "text/plain": [
       "<Figure size 432x288 with 1 Axes>"
      ]
     },
     "metadata": {
      "needs_background": "light"
     },
     "output_type": "display_data"
    }
   ],
   "source": [
    "fpr, tpr, _ = roc_curve(testY, preidctY)\n",
    "auc = roc_auc_score(testY, preidctY)\n",
    "plt.plot(fpr,tpr,label=\"AUC=\"+str(auc))\n",
    "plt.ylabel('True Positive Rate')\n",
    "plt.xlabel('False Positive Rate')\n",
    "plt.legend(loc=4)\n",
    "plt.show()"
   ]
  },
  {
   "cell_type": "markdown",
   "metadata": {},
   "source": [
    "## VI - Plot precision-recall curve for different thresholds and discuss the plot"
   ]
  },
  {
   "cell_type": "code",
   "execution_count": 105,
   "metadata": {},
   "outputs": [
    {
     "data": {
      "text/plain": [
       "[<matplotlib.lines.Line2D at 0x7eff6ea4f3d0>]"
      ]
     },
     "execution_count": 105,
     "metadata": {},
     "output_type": "execute_result"
    },
    {
     "data": {
      "image/png": "[encoded data removed]",
      "text/plain": [
       "<Figure size 432x288 with 1 Axes>"
      ]
     },
     "metadata": {
      "needs_background": "light"
     },
     "output_type": "display_data"
    }
   ],
   "source": [
    "yScore = model.predict_proba(testX)[: , 1]\n",
    "p, r, t = precision_recall_curve(testY, yScore)\n",
    "plt.plot(r,p)"
   ]
  },
  {
   "cell_type": "markdown",
   "metadata": {},
   "source": [
    "# 5 - Softmax Regressien"
   ]
  },
  {
   "cell_type": "markdown",
   "metadata": {},
   "source": [
    "## I - How softmax regression is related to logistic regression? What library can you use for softmax regression?"
   ]
  },
  {
   "cell_type": "markdown",
   "metadata": {},
   "source": [
    "Softmax is a version of linear regression that allows for the classification of multiple classes instedad of a binary classification of logistic regression\n"
   ]
  },
  {
   "cell_type": "markdown",
   "metadata": {},
   "source": [
    "# 6 - KNN"
   ]
  },
  {
   "cell_type": "markdown",
   "metadata": {},
   "source": [
    "## 1 - Use sklearn's KNN classifier to train (with k=  10) and predict the model based on the unbalanced training set (the training set before rebalancing) and test it and show the confusion matrix and classification report"
   ]
  },
  {
   "cell_type": "code",
   "execution_count": 106,
   "metadata": {},
   "outputs": [
    {
     "name": "stdout",
     "output_type": "stream",
     "text": [
      "[[1987  255]\n",
      " [ 198  247]] \n",
      "               precision    recall  f1-score   support\n",
      "\n",
      "         0.0       0.91      0.89      0.90      2242\n",
      "         1.0       0.49      0.56      0.52       445\n",
      "\n",
      "    accuracy                           0.83      2687\n",
      "   macro avg       0.70      0.72      0.71      2687\n",
      "weighted avg       0.84      0.83      0.84      2687\n",
      "\n"
     ]
    }
   ],
   "source": [
    "KNN = KNeighborsClassifier(n_neighbors = 10)\n",
    "KNN.fit(trainXO, trainYO)\n",
    "perdictY = KNN.predict(testX)\n",
    "print(confusion_matrix(testY, preidctY), '\\n', classification_report(testY, preidctY))"
   ]
  },
  {
   "cell_type": "markdown",
   "metadata": {},
   "source": [
    "## 2 - Use sklearn's KNN classifier to train (with k=  10) and predict the model based on the rebalanced training set and test it and show the confusion matrix and classification report"
   ]
  },
  {
   "cell_type": "code",
   "execution_count": 107,
   "metadata": {},
   "outputs": [
    {
     "name": "stdout",
     "output_type": "stream",
     "text": [
      "[[1987  255]\n",
      " [ 198  247]] \n",
      "               precision    recall  f1-score   support\n",
      "\n",
      "         0.0       0.91      0.89      0.90      2242\n",
      "         1.0       0.49      0.56      0.52       445\n",
      "\n",
      "    accuracy                           0.83      2687\n",
      "   macro avg       0.70      0.72      0.71      2687\n",
      "weighted avg       0.84      0.83      0.84      2687\n",
      "\n"
     ]
    }
   ],
   "source": [
    "KNN = KNeighborsClassifier(n_neighbors = 10)\n",
    "KNN.fit(trainX, trainY)\n",
    "perdictY = KNN.predict(testX)\n",
    "print(confusion_matrix(testY, preidctY), '\\n', classification_report(testY, preidctY))"
   ]
  },
  {
   "cell_type": "markdown",
   "metadata": {},
   "source": [
    "## 3 - Use grid search to tune the following hyperparameters of KNN: number of neighbors (between 1 and 20), weights  (uniform or distance), and metrics (Euclidean, Manhattan, or Minkowski)istance) to use for KNN"
   ]
  },
  {
   "cell_type": "code",
   "execution_count": 108,
   "metadata": {},
   "outputs": [
    {
     "data": {
      "text/plain": [
       "GridSearchCV(estimator=KNeighborsClassifier(), n_jobs=-1,\n",
       "             param_grid={'metric': ['euclidean', 'manhattan', 'minkowski'],\n",
       "                         'n_neighbors': range(1, 20),\n",
       "                         'weights': ['uniform', 'distance']},\n",
       "             refit='AUC', return_train_score=True,\n",
       "             scoring={'AUC': 'roc_auc',\n",
       "                      'Accuracy': make_scorer(accuracy_score)})"
      ]
     },
     "execution_count": 108,
     "metadata": {},
     "output_type": "execute_result"
    }
   ],
   "source": [
    "scoring = {\"AUC\": \"roc_auc\", \"Accuracy\": make_scorer(accuracy_score)}\n",
    "gs = GridSearchCV(KNeighborsClassifier(), param_grid = {'n_neighbors' : range(1,20), 'weights' : ['uniform', 'distance'], 'metric' : ['euclidean', 'manhattan', 'minkowski']}\n",
    ", scoring = scoring, refit = 'AUC', return_train_score = True, n_jobs = -1)\n",
    "gs.fit(trainX, trainY)"
   ]
  },
  {
   "cell_type": "markdown",
   "metadata": {},
   "source": [
    "## 4 - The above grid search process can take a couple of minutes. After completing the process, print the best_params_"
   ]
  },
  {
   "cell_type": "code",
   "execution_count": 109,
   "metadata": {},
   "outputs": [
    {
     "data": {
      "text/plain": [
       "{'metric': 'manhattan', 'n_neighbors': 5, 'weights': 'distance'}"
      ]
     },
     "execution_count": 109,
     "metadata": {},
     "output_type": "execute_result"
    }
   ],
   "source": [
    "gs.best_params_"
   ]
  },
  {
   "cell_type": "markdown",
   "metadata": {},
   "source": [
    "## 5 - Based on the result from grid search, use the parameters to train a model, test it with test set, and then print the confusion matrix and classification report. Also, show the AUC of ROC."
   ]
  },
  {
   "cell_type": "code",
   "execution_count": 110,
   "metadata": {},
   "outputs": [
    {
     "name": "stdout",
     "output_type": "stream",
     "text": [
      "[[1777  465]\n",
      " [ 187  258]] \n",
      "               precision    recall  f1-score   support\n",
      "\n",
      "         0.0       0.90      0.79      0.84      2242\n",
      "         1.0       0.36      0.58      0.44       445\n",
      "\n",
      "    accuracy                           0.76      2687\n",
      "   macro avg       0.63      0.69      0.64      2687\n",
      "weighted avg       0.81      0.76      0.78      2687\n",
      " \n",
      " 0.7206592228046788\n"
     ]
    }
   ],
   "source": [
    "KNN = KNeighborsClassifier(metric = 'manhattan', n_neighbors = 5, weights = 'distance')\n",
    "KNN.fit(trainX, trainY)\n",
    "predictY = KNN.predict(testX)\n",
    "propY = KNN.predict_proba(testX)\n",
    "print(confusion_matrix(testY, predictY), '\\n', classification_report(testY, predictY), '\\n', roc_auc_score(testY, preidctY))"
   ]
  },
  {
   "cell_type": "markdown",
   "metadata": {},
   "source": [
    "## 6 - Use PCA and based on that train model, test it and then print the confusion matrix and classification report. Also, show the AUC of ROC."
   ]
  },
  {
   "cell_type": "code",
   "execution_count": 111,
   "metadata": {},
   "outputs": [],
   "source": [
    "def getModels():\n",
    "\tmodels = dict()\n",
    "\tfor i in range(1, 32):\n",
    "\t\tsteps = [('pca', PCA(n_components = i)), ('m', KNeighborsClassifier(metric = 'manhattan', n_neighbors = 5, weights = 'distance'))]\n",
    "\t\tmodels[str(i)] = Pipeline(steps = steps)\n",
    "\treturn models\n",
    "\n",
    "def evalModel(modes, X, y):\n",
    "\tcv = RepeatedStratifiedKFold(n_splits = 10, n_repeats = 3, random_state = 1)\n",
    "\tscores = cross_val_score(model, X, y, scoring = 'accuracy', cv = cv, n_jobs = 1, error_score = 'raise')\n",
    "\treturn scores"
   ]
  },
  {
   "cell_type": "code",
   "execution_count": 112,
   "metadata": {},
   "outputs": [
    {
     "name": "stdout",
     "output_type": "stream",
     "text": [
      ">1 0.636 (0.014)\n",
      ">2 0.721 (0.010)\n",
      ">3 0.782 (0.012)\n",
      ">4 0.796 (0.013)\n",
      ">5 0.807 (0.012)\n",
      ">6 0.812 (0.013)\n",
      ">7 0.814 (0.012)\n",
      ">8 0.823 (0.013)\n",
      ">9 0.829 (0.013)\n",
      ">10 0.836 (0.013)\n",
      ">11 0.843 (0.012)\n",
      ">12 0.846 (0.014)\n",
      ">13 0.845 (0.014)\n",
      ">14 0.847 (0.012)\n",
      ">15 0.848 (0.012)\n",
      ">16 0.851 (0.011)\n",
      ">17 0.850 (0.012)\n",
      ">18 0.851 (0.013)\n",
      ">19 0.853 (0.012)\n",
      ">20 0.853 (0.013)\n",
      ">21 0.853 (0.013)\n",
      ">22 0.854 (0.012)\n",
      ">23 0.853 (0.012)\n",
      ">24 0.854 (0.012)\n",
      ">25 0.854 (0.012)\n",
      ">26 0.854 (0.012)\n",
      ">27 0.854 (0.012)\n",
      ">28 0.854 (0.012)\n",
      ">29 0.854 (0.012)\n",
      ">30 0.854 (0.012)\n",
      ">31 0.854 (0.012)\n"
     ]
    }
   ],
   "source": [
    "models = getModels()\n",
    "results, names = list(), list()\n",
    "for name, model in models.items():\n",
    "\tscores = evalModel(model, trainX, trainY)\n",
    "\tresults.append(scores)\n",
    "\tnames.append(name)\n",
    "\tprint('>%s %.3f (%.3f)' % (name, mean(scores), std(scores)))"
   ]
  },
  {
   "cell_type": "code",
   "execution_count": 113,
   "metadata": {},
   "outputs": [
    {
     "name": "stdout",
     "output_type": "stream",
     "text": [
      "[[1696  546]\n",
      " [ 167  278]] \n",
      "               precision    recall  f1-score   support\n",
      "\n",
      "         0.0       0.91      0.76      0.83      2242\n",
      "         1.0       0.34      0.62      0.44       445\n",
      "\n",
      "    accuracy                           0.73      2687\n",
      "   macro avg       0.62      0.69      0.63      2687\n",
      "weighted avg       0.82      0.73      0.76      2687\n",
      " \n",
      " 0.6905932704547506\n"
     ]
    }
   ],
   "source": [
    "steps = [('pca', PCA(n_components = 20)), ('m', KNeighborsClassifier(metric = 'manhattan', n_neighbors = 5, weights = 'distance'))]\n",
    "model = Pipeline(steps = steps)\n",
    "model.fit(trainX, trainY)\n",
    "preidctY = model.predict(testX)\n",
    "\n",
    "print(confusion_matrix(testY, preidctY), '\\n', classification_report(testY, preidctY), '\\n', roc_auc_score(testY, preidctY))"
   ]
  },
  {
   "cell_type": "markdown",
   "metadata": {},
   "source": [
    "## 7 - A short discussion on the 4 models and their differences"
   ]
  },
  {
   "cell_type": "markdown",
   "metadata": {},
   "source": [
    "The first model used an imballenced dataset, while it is more representative of out data as a whole it makes it harded for the model to learn a difference between the two classes\n",
    "The second model using the ballenced dataset learns the difference between the 2 classes better\n",
    "the third model is fined tuned using grid search so it can learn the classes better\n",
    "the fourth model is dimensionally optimised to reduce training time"
   ]
  },
  {
   "cell_type": "markdown",
   "metadata": {},
   "source": [
    "# 7 - Niave Bayes"
   ]
  },
  {
   "cell_type": "markdown",
   "metadata": {},
   "source": [
    "## 1 - Train a model with GaussianNB, test it and then print the confusion matrix and classification report. Also, plot ROC curve and show the AUC of ROC, and the count of the number of misclassification."
   ]
  },
  {
   "cell_type": "code",
   "execution_count": 114,
   "metadata": {},
   "outputs": [
    {
     "name": "stdout",
     "output_type": "stream",
     "text": [
      "[[1117 1125]\n",
      " [ 106  339]] \n",
      "               precision    recall  f1-score   support\n",
      "\n",
      "         0.0       0.91      0.50      0.64      2242\n",
      "         1.0       0.23      0.76      0.36       445\n",
      "\n",
      "    accuracy                           0.54      2687\n",
      "   macro avg       0.57      0.63      0.50      2687\n",
      "weighted avg       0.80      0.54      0.60      2687\n",
      " \n",
      "\n"
     ]
    },
    {
     "data": {
      "image/png": "[encoded data removed]",
      "text/plain": [
       "<Figure size 432x288 with 1 Axes>"
      ]
     },
     "metadata": {
      "needs_background": "light"
     },
     "output_type": "display_data"
    },
    {
     "name": "stdout",
     "output_type": "stream",
     "text": [
      "Number of missclassifications:  1231\n"
     ]
    }
   ],
   "source": [
    "GNB = GaussianNB()\n",
    "GNB.fit(trainX, trainY)\n",
    "preidctY = GNB.predict(testX)\n",
    "\n",
    "print(confusion_matrix(testY, preidctY), '\\n', classification_report(testY, preidctY), '\\n')\n",
    "fpr, tpr, _ = roc_curve(testY, preidctY)\n",
    "auc = roc_auc_score(testY, preidctY)\n",
    "plt.plot(fpr,tpr,label=\"AUC=\"+str(auc))\n",
    "plt.ylabel('True Positive Rate')\n",
    "plt.xlabel('False Positive Rate')\n",
    "plt.legend(loc=4)\n",
    "plt.show()\n",
    "print('Number of missclassifications: ', (testY != preidctY).sum())"
   ]
  },
  {
   "cell_type": "markdown",
   "metadata": {},
   "source": [
    "## 2 - Train a model with CategoricalNB, test it and then print the confusion matrix and classification report. Also, plot ROC curve, and show the AUC of ROC and the count of the number of misclassification.\n"
   ]
  },
  {
   "cell_type": "code",
   "execution_count": 115,
   "metadata": {},
   "outputs": [
    {
     "name": "stdout",
     "output_type": "stream",
     "text": [
      "[[1904  338]\n",
      " [ 205  240]] \n",
      "               precision    recall  f1-score   support\n",
      "\n",
      "         0.0       0.90      0.85      0.88      2242\n",
      "         1.0       0.42      0.54      0.47       445\n",
      "\n",
      "    accuracy                           0.80      2687\n",
      "   macro avg       0.66      0.69      0.67      2687\n",
      "weighted avg       0.82      0.80      0.81      2687\n",
      " \n",
      "\n"
     ]
    },
    {
     "data": {
      "image/png": "[encoded data removed]",
      "text/plain": [
       "<Figure size 432x288 with 1 Axes>"
      ]
     },
     "metadata": {
      "needs_background": "light"
     },
     "output_type": "display_data"
    },
    {
     "name": "stdout",
     "output_type": "stream",
     "text": [
      "Number of missclassifications:  543\n"
     ]
    }
   ],
   "source": [
    "CNB = CategoricalNB()\n",
    "CNB.fit(trainX, trainY)\n",
    "preidctY = CNB.predict(testX)\n",
    "\n",
    "print(confusion_matrix(testY, preidctY), '\\n', classification_report(testY, preidctY), '\\n')\n",
    "fpr, tpr, _ = roc_curve(testY, preidctY)\n",
    "auc = roc_auc_score(testY, preidctY)\n",
    "plt.plot(fpr,tpr,label=\"AUC=\"+str(auc))\n",
    "plt.ylabel('True Positive Rate')\n",
    "plt.xlabel('False Positive Rate')\n",
    "plt.legend(loc=4)\n",
    "plt.show()\n",
    "print('Number of missclassifications: ', (testY != preidctY).sum())"
   ]
  },
  {
   "cell_type": "markdown",
   "metadata": {},
   "source": [
    "# 8 - Support Vector Machine"
   ]
  },
  {
   "cell_type": "markdown",
   "metadata": {},
   "source": [
    "## 1 - Build a support vector machine model using SVC. Use grid search to tune some parameters and then based on that show the best parameters found"
   ]
  },
  {
   "cell_type": "code",
   "execution_count": 116,
   "metadata": {},
   "outputs": [
    {
     "data": {
      "text/plain": [
       "GridSearchCV(estimator=SVC(), n_jobs=-1,\n",
       "             param_grid={'degree': range(1, 10),\n",
       "                         'kernel': ['linear', 'poly', 'rbf', 'sigmoid']},\n",
       "             refit='AUC', return_train_score=True,\n",
       "             scoring={'AUC': 'roc_auc',\n",
       "                      'Accuracy': make_scorer(accuracy_score)})"
      ]
     },
     "execution_count": 116,
     "metadata": {},
     "output_type": "execute_result"
    }
   ],
   "source": [
    "scoring = {\"AUC\": \"roc_auc\", \"Accuracy\": make_scorer(accuracy_score)}\n",
    "gs = GridSearchCV(SVC(), param_grid = {'kernel' : ['linear', 'poly', 'rbf', 'sigmoid'], 'degree' : range(1,10)}\n",
    ", scoring = scoring, refit = 'AUC', return_train_score = True, n_jobs = -1)\n",
    "gs.fit(trainX, trainY)"
   ]
  },
  {
   "cell_type": "code",
   "execution_count": 117,
   "metadata": {},
   "outputs": [
    {
     "data": {
      "text/plain": [
       "{'degree': 9, 'kernel': 'poly'}"
      ]
     },
     "execution_count": 117,
     "metadata": {},
     "output_type": "execute_result"
    }
   ],
   "source": [
    "gs.best_params_"
   ]
  },
  {
   "cell_type": "markdown",
   "metadata": {},
   "source": [
    "## 2 - Test the model and print the confusion matrix and classification report. Also, plot ROC curve and show the AUC of ROC, and the count of the number of misclassification."
   ]
  },
  {
   "cell_type": "code",
   "execution_count": 121,
   "metadata": {},
   "outputs": [],
   "source": [
    "SVM = SVC(kernel = 'poly', degree = 9)\n",
    "SVM.fit(trainX, trainY)\n",
    "preidctY = SVM.predict(testX)\n"
   ]
  },
  {
   "cell_type": "code",
   "execution_count": 122,
   "metadata": {},
   "outputs": [
    {
     "name": "stdout",
     "output_type": "stream",
     "text": [
      "[[1840  402]\n",
      " [ 187  258]] \n",
      "               precision    recall  f1-score   support\n",
      "\n",
      "         0.0       0.91      0.82      0.86      2242\n",
      "         1.0       0.39      0.58      0.47       445\n",
      "\n",
      "    accuracy                           0.78      2687\n",
      "   macro avg       0.65      0.70      0.66      2687\n",
      "weighted avg       0.82      0.78      0.80      2687\n",
      " \n",
      "\n"
     ]
    },
    {
     "data": {
      "image/png": "[encoded data removed]",
      "text/plain": [
       "<Figure size 432x288 with 1 Axes>"
      ]
     },
     "metadata": {
      "needs_background": "light"
     },
     "output_type": "display_data"
    },
    {
     "name": "stdout",
     "output_type": "stream",
     "text": [
      "Number of missclassifications:  589\n"
     ]
    }
   ],
   "source": [
    "print(confusion_matrix(testY, preidctY), '\\n', classification_report(testY, preidctY), '\\n')\n",
    "fpr, tpr, _ = roc_curve(testY, preidctY)\n",
    "auc = roc_auc_score(testY, preidctY)\n",
    "plt.plot(fpr,tpr,label=\"AUC=\"+str(auc))\n",
    "plt.ylabel('True Positive Rate')\n",
    "plt.xlabel('False Positive Rate')\n",
    "plt.legend(loc=4)\n",
    "plt.show()\n",
    "print('Number of missclassifications: ', (testY != preidctY).sum())"
   ]
  },
  {
   "cell_type": "markdown",
   "metadata": {},
   "source": [
    "# 9 - Decisien Tree"
   ]
  },
  {
   "cell_type": "markdown",
   "metadata": {},
   "source": [
    "## 1 - Build a decision tree model using sklearns DecisionTreeClassifier. Use the unbalanced training set, entropy as the criterion. Try with different max_depth (or use grid search). After building model, test it and print the confusion matrix and classification report. Also, plot ROC curve and show the AUC of ROC, and the count of the number of misclassification. Show the decision tree."
   ]
  },
  {
   "cell_type": "code",
   "execution_count": 123,
   "metadata": {},
   "outputs": [
    {
     "data": {
      "text/plain": [
       "GridSearchCV(estimator=DecisionTreeClassifier(criterion='entropy'), n_jobs=-1,\n",
       "             param_grid={'max_depth': range(1, 50),\n",
       "                         'min_samples_leaf': range(1, 20),\n",
       "                         'min_samples_split': range(2, 20)},\n",
       "             refit='AUC', return_train_score=True,\n",
       "             scoring={'AUC': 'roc_auc',\n",
       "                      'Accuracy': make_scorer(accuracy_score)})"
      ]
     },
     "execution_count": 123,
     "metadata": {},
     "output_type": "execute_result"
    }
   ],
   "source": [
    "scoring = {\"AUC\": \"roc_auc\", \"Accuracy\": make_scorer(accuracy_score)}\n",
    "gs = GridSearchCV(DecisionTreeClassifier(criterion = 'entropy'), param_grid = {'max_depth' : range(1,50), 'min_samples_split' : range(2,20), 'min_samples_leaf' : range(1,20)},\n",
    "scoring = scoring, refit = 'AUC', return_train_score = True, n_jobs = -1)\n",
    "gs.fit(trainXO, trainYO)"
   ]
  },
  {
   "cell_type": "code",
   "execution_count": 124,
   "metadata": {},
   "outputs": [
    {
     "data": {
      "text/plain": [
       "{'max_depth': 4, 'min_samples_leaf': 19, 'min_samples_split': 2}"
      ]
     },
     "execution_count": 124,
     "metadata": {},
     "output_type": "execute_result"
    }
   ],
   "source": [
    "gs.best_params_"
   ]
  },
  {
   "cell_type": "code",
   "execution_count": 125,
   "metadata": {},
   "outputs": [],
   "source": [
    "DT = DecisionTreeClassifier(max_depth=4, min_samples_leaf=19, min_samples_split=2)\n",
    "DT.fit(trainXO, trainYO)\n",
    "preidctY = DT.predict(testX)"
   ]
  },
  {
   "cell_type": "code",
   "execution_count": 126,
   "metadata": {},
   "outputs": [
    {
     "data": {
      "text/plain": [
       "[Text(0.5, 0.9, 'X[1] <= 0.352\\ngini = 0.276\\nsamples = 6268\\nvalue = [5230, 1038]'),\n",
       " Text(0.28846153846153844, 0.7, 'X[3] <= 0.69\\ngini = 0.484\\nsamples = 944\\nvalue = [387, 557]'),\n",
       " Text(0.15384615384615385, 0.5, 'X[0] <= 0.269\\ngini = 0.478\\nsamples = 879\\nvalue = [348, 531]'),\n",
       " Text(0.07692307692307693, 0.3, 'X[0] <= 0.245\\ngini = 0.433\\nsamples = 224\\nvalue = [71, 153]'),\n",
       " Text(0.038461538461538464, 0.1, 'gini = 0.451\\nsamples = 204\\nvalue = [70, 134]'),\n",
       " Text(0.11538461538461539, 0.1, 'gini = 0.095\\nsamples = 20\\nvalue = [1, 19]'),\n",
       " Text(0.23076923076923078, 0.3, 'X[0] <= 0.529\\ngini = 0.488\\nsamples = 655\\nvalue = [277, 378]'),\n",
       " Text(0.19230769230769232, 0.1, 'gini = 0.5\\nsamples = 237\\nvalue = [119, 118]'),\n",
       " Text(0.2692307692307692, 0.1, 'gini = 0.47\\nsamples = 418\\nvalue = [158, 260]'),\n",
       " Text(0.4230769230769231, 0.5, 'X[2] <= 0.25\\ngini = 0.48\\nsamples = 65\\nvalue = [39, 26]'),\n",
       " Text(0.38461538461538464, 0.3, 'X[0] <= 0.598\\ngini = 0.439\\nsamples = 40\\nvalue = [27, 13]'),\n",
       " Text(0.34615384615384615, 0.1, 'gini = 0.495\\nsamples = 20\\nvalue = [11, 9]'),\n",
       " Text(0.4230769230769231, 0.1, 'gini = 0.32\\nsamples = 20\\nvalue = [16, 4]'),\n",
       " Text(0.46153846153846156, 0.3, 'gini = 0.499\\nsamples = 25\\nvalue = [12, 13]'),\n",
       " Text(0.7115384615384616, 0.7, 'X[3] <= 0.071\\ngini = 0.164\\nsamples = 5324\\nvalue = [4843, 481]'),\n",
       " Text(0.5769230769230769, 0.5, 'X[21] <= 0.5\\ngini = 0.383\\nsamples = 89\\nvalue = [66, 23]'),\n",
       " Text(0.5384615384615384, 0.3, 'gini = 0.496\\nsamples = 22\\nvalue = [12, 10]'),\n",
       " Text(0.6153846153846154, 0.3, 'X[30] <= 0.5\\ngini = 0.313\\nsamples = 67\\nvalue = [54, 13]'),\n",
       " Text(0.5769230769230769, 0.1, 'gini = 0.214\\nsamples = 41\\nvalue = [36, 5]'),\n",
       " Text(0.6538461538461539, 0.1, 'gini = 0.426\\nsamples = 26\\nvalue = [18, 8]'),\n",
       " Text(0.8461538461538461, 0.5, 'X[1] <= 0.654\\ngini = 0.16\\nsamples = 5235\\nvalue = [4777, 458]'),\n",
       " Text(0.7692307692307693, 0.3, 'X[1] <= 0.636\\ngini = 0.242\\nsamples = 554\\nvalue = [476, 78]'),\n",
       " Text(0.7307692307692307, 0.1, 'gini = 0.228\\nsamples = 519\\nvalue = [451, 68]'),\n",
       " Text(0.8076923076923077, 0.1, 'gini = 0.408\\nsamples = 35\\nvalue = [25, 10]'),\n",
       " Text(0.9230769230769231, 0.3, 'X[22] <= 0.5\\ngini = 0.149\\nsamples = 4681\\nvalue = [4301, 380]'),\n",
       " Text(0.8846153846153846, 0.1, 'gini = 0.216\\nsamples = 537\\nvalue = [471, 66]'),\n",
       " Text(0.9615384615384616, 0.1, 'gini = 0.14\\nsamples = 4144\\nvalue = [3830, 314]')]"
      ]
     },
     "execution_count": 126,
     "metadata": {},
     "output_type": "execute_result"
    },
    {
     "data": {
      "image/png": "[encoded data removed]",
      "text/plain": [
       "<Figure size 2160x2160 with 1 Axes>"
      ]
     },
     "metadata": {
      "needs_background": "light"
     },
     "output_type": "display_data"
    }
   ],
   "source": [
    "plt.figure(figsize=(30,30))\n",
    "skt.plot_tree(DT)"
   ]
  },
  {
   "cell_type": "code",
   "execution_count": 127,
   "metadata": {},
   "outputs": [
    {
     "name": "stdout",
     "output_type": "stream",
     "text": [
      "[[2118  124]\n",
      " [ 275  170]] \n",
      "               precision    recall  f1-score   support\n",
      "\n",
      "         0.0       0.89      0.94      0.91      2242\n",
      "         1.0       0.58      0.38      0.46       445\n",
      "\n",
      "    accuracy                           0.85      2687\n",
      "   macro avg       0.73      0.66      0.69      2687\n",
      "weighted avg       0.83      0.85      0.84      2687\n",
      " \n",
      "\n"
     ]
    },
    {
     "data": {
      "image/png": "[encoded data removed]",
      "text/plain": [
       "<Figure size 432x288 with 1 Axes>"
      ]
     },
     "metadata": {
      "needs_background": "light"
     },
     "output_type": "display_data"
    },
    {
     "name": "stdout",
     "output_type": "stream",
     "text": [
      "Number of missclassifications:  399\n"
     ]
    }
   ],
   "source": [
    "print(confusion_matrix(testY, preidctY), '\\n', classification_report(testY, preidctY), '\\n')\n",
    "fpr, tpr, _ = roc_curve(testY, preidctY)\n",
    "auc = roc_auc_score(testY, preidctY)\n",
    "plt.plot(fpr,tpr,label=\"AUC=\"+str(auc))\n",
    "plt.ylabel('True Positive Rate')\n",
    "plt.xlabel('False Positive Rate')\n",
    "plt.legend(loc=4)\n",
    "plt.show()\n",
    "print('Number of missclassifications: ', (testY != preidctY).sum())"
   ]
  },
  {
   "cell_type": "markdown",
   "metadata": {},
   "source": [
    "## 2 - Perform the same tasks as 9.1 with the balanced training set"
   ]
  },
  {
   "cell_type": "code",
   "execution_count": 128,
   "metadata": {},
   "outputs": [
    {
     "data": {
      "text/plain": [
       "GridSearchCV(estimator=DecisionTreeClassifier(criterion='entropy'), n_jobs=-1,\n",
       "             param_grid={'max_depth': range(1, 50),\n",
       "                         'min_samples_leaf': range(1, 20),\n",
       "                         'min_samples_split': range(2, 20)},\n",
       "             refit='AUC', return_train_score=True,\n",
       "             scoring={'AUC': 'roc_auc',\n",
       "                      'Accuracy': make_scorer(accuracy_score)})"
      ]
     },
     "execution_count": 128,
     "metadata": {},
     "output_type": "execute_result"
    }
   ],
   "source": [
    "scoring = {\"AUC\": \"roc_auc\", \"Accuracy\": make_scorer(accuracy_score)}\n",
    "gs = GridSearchCV(DecisionTreeClassifier(criterion = 'entropy'), param_grid = {'max_depth' : range(1,50), 'min_samples_split' : range(2,20), 'min_samples_leaf' : range(1,20)},\n",
    "scoring = scoring, refit = 'AUC', return_train_score = True, n_jobs = -1)\n",
    "gs.fit(trainX, trainY)"
   ]
  },
  {
   "cell_type": "code",
   "execution_count": 129,
   "metadata": {},
   "outputs": [
    {
     "data": {
      "text/plain": [
       "{'max_depth': 17, 'min_samples_leaf': 11, 'min_samples_split': 12}"
      ]
     },
     "execution_count": 129,
     "metadata": {},
     "output_type": "execute_result"
    }
   ],
   "source": [
    "gs.best_params_"
   ]
  },
  {
   "cell_type": "code",
   "execution_count": 130,
   "metadata": {},
   "outputs": [],
   "source": [
    "DT = DecisionTreeClassifier(max_depth=33, min_samples_leaf=11, min_samples_split=8)\n",
    "DT.fit(trainXO, trainYO)\n",
    "preidctY = DT.predict(testX)"
   ]
  },
  {
   "cell_type": "code",
   "execution_count": 131,
   "metadata": {},
   "outputs": [
    {
     "data": {
      "text/plain": [
       "[Text(0.22917633190138342, 0.9814814814814815, 'X[1] <= 0.352\\ngini = 0.276\\nsamples = 6268\\nvalue = [5230, 1038]'),\n",
       " Text(0.12623031496062992, 0.9444444444444444, 'X[3] <= 0.69\\ngini = 0.484\\nsamples = 944\\nvalue = [387, 557]'),\n",
       " Text(0.06654636920384951, 0.9074074074074074, 'X[0] <= 0.269\\ngini = 0.478\\nsamples = 879\\nvalue = [348, 531]'),\n",
       " Text(0.019247594050743656, 0.8703703703703703, 'X[0] <= 0.245\\ngini = 0.433\\nsamples = 224\\nvalue = [71, 153]'),\n",
       " Text(0.015748031496062992, 0.8333333333333334, 'X[1] <= 0.218\\ngini = 0.451\\nsamples = 204\\nvalue = [70, 134]'),\n",
       " Text(0.008748906386701663, 0.7962962962962963, 'X[3] <= 0.214\\ngini = 0.5\\nsamples = 30\\nvalue = [15, 15]'),\n",
       " Text(0.005249343832020997, 0.7592592592592593, 'gini = 0.355\\nsamples = 13\\nvalue = [10, 3]'),\n",
       " Text(0.012248468941382326, 0.7592592592592593, 'gini = 0.415\\nsamples = 17\\nvalue = [5, 12]'),\n",
       " Text(0.022747156605424323, 0.7962962962962963, 'X[24] <= 0.5\\ngini = 0.432\\nsamples = 174\\nvalue = [55, 119]'),\n",
       " Text(0.019247594050743656, 0.7592592592592593, 'X[6] <= 0.055\\ngini = 0.415\\nsamples = 160\\nvalue = [47, 113]'),\n",
       " Text(0.00699912510936133, 0.7222222222222222, 'X[6] <= 0.016\\ngini = 0.301\\nsamples = 38\\nvalue = [7, 31]'),\n",
       " Text(0.003499562554680665, 0.6851851851851852, 'gini = 0.444\\nsamples = 12\\nvalue = [4, 8]'),\n",
       " Text(0.010498687664041995, 0.6851851851851852, 'X[0] <= 0.143\\ngini = 0.204\\nsamples = 26\\nvalue = [3, 23]'),\n",
       " Text(0.00699912510936133, 0.6481481481481481, 'gini = 0.32\\nsamples = 15\\nvalue = [3, 12]'),\n",
       " Text(0.01399825021872266, 0.6481481481481481, 'gini = 0.0\\nsamples = 11\\nvalue = [0, 11]'),\n",
       " Text(0.031496062992125984, 0.7222222222222222, 'X[21] <= 0.5\\ngini = 0.441\\nsamples = 122\\nvalue = [40, 82]'),\n",
       " Text(0.024496937882764653, 0.6851851851851852, 'X[6] <= 0.161\\ngini = 0.32\\nsamples = 30\\nvalue = [6, 24]'),\n",
       " Text(0.02099737532808399, 0.6481481481481481, 'gini = 0.444\\nsamples = 12\\nvalue = [4, 8]'),\n",
       " Text(0.02799650043744532, 0.6481481481481481, 'gini = 0.198\\nsamples = 18\\nvalue = [2, 16]'),\n",
       " Text(0.03849518810148731, 0.6851851851851852, 'X[6] <= 0.467\\ngini = 0.466\\nsamples = 92\\nvalue = [34, 58]'),\n",
       " Text(0.03499562554680665, 0.6481481481481481, 'X[2] <= 0.25\\ngini = 0.442\\nsamples = 79\\nvalue = [26, 53]'),\n",
       " Text(0.031496062992125984, 0.6111111111111112, 'X[4] <= 0.929\\ngini = 0.408\\nsamples = 63\\nvalue = [18, 45]'),\n",
       " Text(0.02799650043744532, 0.5740740740740741, 'X[4] <= 0.214\\ngini = 0.449\\nsamples = 47\\nvalue = [16, 31]'),\n",
       " Text(0.024496937882764653, 0.5370370370370371, 'gini = 0.26\\nsamples = 13\\nvalue = [2, 11]'),\n",
       " Text(0.031496062992125984, 0.5370370370370371, 'X[6] <= 0.131\\ngini = 0.484\\nsamples = 34\\nvalue = [14, 20]'),\n",
       " Text(0.02799650043744532, 0.5, 'gini = 0.486\\nsamples = 12\\nvalue = [7, 5]'),\n",
       " Text(0.03499562554680665, 0.5, 'X[3] <= 0.31\\ngini = 0.434\\nsamples = 22\\nvalue = [7, 15]'),\n",
       " Text(0.031496062992125984, 0.46296296296296297, 'gini = 0.165\\nsamples = 11\\nvalue = [1, 10]'),\n",
       " Text(0.03849518810148731, 0.46296296296296297, 'gini = 0.496\\nsamples = 11\\nvalue = [6, 5]'),\n",
       " Text(0.03499562554680665, 0.5740740740740741, 'gini = 0.219\\nsamples = 16\\nvalue = [2, 14]'),\n",
       " Text(0.03849518810148731, 0.6111111111111112, 'gini = 0.5\\nsamples = 16\\nvalue = [8, 8]'),\n",
       " Text(0.04199475065616798, 0.6481481481481481, 'gini = 0.473\\nsamples = 13\\nvalue = [8, 5]'),\n",
       " Text(0.026246719160104987, 0.7592592592592593, 'gini = 0.49\\nsamples = 14\\nvalue = [8, 6]'),\n",
       " Text(0.022747156605424323, 0.8333333333333334, 'gini = 0.095\\nsamples = 20\\nvalue = [1, 19]'),\n",
       " Text(0.11384514435695538, 0.8703703703703703, 'X[0] <= 0.529\\ngini = 0.488\\nsamples = 655\\nvalue = [277, 378]'),\n",
       " Text(0.07699037620297462, 0.8333333333333334, 'X[4] <= 0.5\\ngini = 0.5\\nsamples = 237\\nvalue = [119, 118]'),\n",
       " Text(0.0594925634295713, 0.7962962962962963, 'X[0] <= 0.34\\ngini = 0.494\\nsamples = 158\\nvalue = [88, 70]'),\n",
       " Text(0.05249343832020997, 0.7592592592592593, 'X[0] <= 0.306\\ngini = 0.402\\nsamples = 43\\nvalue = [31, 12]'),\n",
       " Text(0.048993875765529306, 0.7222222222222222, 'X[0] <= 0.281\\ngini = 0.488\\nsamples = 26\\nvalue = [15, 11]'),\n",
       " Text(0.045494313210848646, 0.6851851851851852, 'gini = 0.375\\nsamples = 12\\nvalue = [9, 3]'),\n",
       " Text(0.05249343832020997, 0.6851851851851852, 'gini = 0.49\\nsamples = 14\\nvalue = [6, 8]'),\n",
       " Text(0.05599300087489064, 0.7222222222222222, 'gini = 0.111\\nsamples = 17\\nvalue = [16, 1]'),\n",
       " Text(0.06649168853893263, 0.7592592592592593, 'X[6] <= 0.049\\ngini = 0.5\\nsamples = 115\\nvalue = [57, 58]'),\n",
       " Text(0.06299212598425197, 0.7222222222222222, 'gini = 0.401\\nsamples = 18\\nvalue = [5, 13]'),\n",
       " Text(0.0699912510936133, 0.7222222222222222, 'X[6] <= 0.067\\ngini = 0.497\\nsamples = 97\\nvalue = [52, 45]'),\n",
       " Text(0.06649168853893263, 0.6851851851851852, 'gini = 0.245\\nsamples = 14\\nvalue = [12, 2]'),\n",
       " Text(0.07349081364829396, 0.6851851851851852, 'X[6] <= 0.348\\ngini = 0.499\\nsamples = 83\\nvalue = [40, 43]'),\n",
       " Text(0.0699912510936133, 0.6481481481481481, 'X[6] <= 0.285\\ngini = 0.489\\nsamples = 68\\nvalue = [29, 39]'),\n",
       " Text(0.06649168853893263, 0.6111111111111112, 'X[6] <= 0.215\\ngini = 0.5\\nsamples = 55\\nvalue = [27, 28]'),\n",
       " Text(0.06299212598425197, 0.5740740740740741, 'X[21] <= 0.5\\ngini = 0.48\\nsamples = 40\\nvalue = [16, 24]'),\n",
       " Text(0.0594925634295713, 0.5370370370370371, 'gini = 0.298\\nsamples = 11\\nvalue = [2, 9]'),\n",
       " Text(0.06649168853893263, 0.5370370370370371, 'X[0] <= 0.467\\ngini = 0.499\\nsamples = 29\\nvalue = [14, 15]'),\n",
       " Text(0.06299212598425197, 0.5, 'gini = 0.475\\nsamples = 18\\nvalue = [11, 7]'),\n",
       " Text(0.0699912510936133, 0.5, 'gini = 0.397\\nsamples = 11\\nvalue = [3, 8]'),\n",
       " Text(0.0699912510936133, 0.5740740740740741, 'gini = 0.391\\nsamples = 15\\nvalue = [11, 4]'),\n",
       " Text(0.07349081364829396, 0.6111111111111112, 'gini = 0.26\\nsamples = 13\\nvalue = [2, 11]'),\n",
       " Text(0.07699037620297462, 0.6481481481481481, 'gini = 0.391\\nsamples = 15\\nvalue = [11, 4]'),\n",
       " Text(0.09448818897637795, 0.7962962962962963, 'X[6] <= 0.039\\ngini = 0.477\\nsamples = 79\\nvalue = [31, 48]'),\n",
       " Text(0.09098862642169729, 0.7592592592592593, 'gini = 0.444\\nsamples = 12\\nvalue = [8, 4]'),\n",
       " Text(0.09798775153105861, 0.7592592592592593, 'X[6] <= 0.182\\ngini = 0.451\\nsamples = 67\\nvalue = [23, 44]'),\n",
       " Text(0.09098862642169729, 0.7222222222222222, 'X[3] <= 0.357\\ngini = 0.369\\nsamples = 41\\nvalue = [10, 31]'),\n",
       " Text(0.08748906386701662, 0.6851851851851852, 'X[6] <= 0.088\\ngini = 0.198\\nsamples = 27\\nvalue = [3, 24]'),\n",
       " Text(0.08398950131233596, 0.6481481481481481, 'gini = 0.0\\nsamples = 11\\nvalue = [0, 11]'),\n",
       " Text(0.09098862642169729, 0.6481481481481481, 'gini = 0.305\\nsamples = 16\\nvalue = [3, 13]'),\n",
       " Text(0.09448818897637795, 0.6851851851851852, 'gini = 0.5\\nsamples = 14\\nvalue = [7, 7]'),\n",
       " Text(0.10498687664041995, 0.7222222222222222, 'X[3] <= 0.31\\ngini = 0.5\\nsamples = 26\\nvalue = [13, 13]'),\n",
       " Text(0.10148731408573929, 0.6851851851851852, 'gini = 0.473\\nsamples = 13\\nvalue = [8, 5]'),\n",
       " Text(0.1084864391951006, 0.6851851851851852, 'gini = 0.473\\nsamples = 13\\nvalue = [5, 8]'),\n",
       " Text(0.15069991251093615, 0.8333333333333334, 'X[0] <= 0.66\\ngini = 0.47\\nsamples = 418\\nvalue = [158, 260]'),\n",
       " Text(0.1294838145231846, 0.7962962962962963, 'X[3] <= 0.357\\ngini = 0.416\\nsamples = 112\\nvalue = [33, 79]'),\n",
       " Text(0.12248468941382328, 0.7592592592592593, 'X[0] <= 0.633\\ngini = 0.457\\nsamples = 82\\nvalue = [29, 53]'),\n",
       " Text(0.1189851268591426, 0.7222222222222222, 'X[21] <= 0.5\\ngini = 0.488\\nsamples = 64\\nvalue = [27, 37]'),\n",
       " Text(0.11548556430446194, 0.6851851851851852, 'gini = 0.391\\nsamples = 15\\nvalue = [4, 11]'),\n",
       " Text(0.12248468941382328, 0.6851851851851852, 'X[6] <= 0.222\\ngini = 0.498\\nsamples = 49\\nvalue = [23, 26]'),\n",
       " Text(0.1189851268591426, 0.6481481481481481, 'X[6] <= 0.13\\ngini = 0.498\\nsamples = 34\\nvalue = [18, 16]'),\n",
       " Text(0.11548556430446194, 0.6111111111111112, 'X[0] <= 0.577\\ngini = 0.491\\nsamples = 23\\nvalue = [10, 13]'),\n",
       " Text(0.11198600174978128, 0.5740740740740741, 'gini = 0.496\\nsamples = 11\\nvalue = [6, 5]'),\n",
       " Text(0.1189851268591426, 0.5740740740740741, 'gini = 0.444\\nsamples = 12\\nvalue = [4, 8]'),\n",
       " Text(0.12248468941382328, 0.6111111111111112, 'gini = 0.397\\nsamples = 11\\nvalue = [8, 3]'),\n",
       " Text(0.12598425196850394, 0.6481481481481481, 'gini = 0.444\\nsamples = 15\\nvalue = [5, 10]'),\n",
       " Text(0.12598425196850394, 0.7222222222222222, 'gini = 0.198\\nsamples = 18\\nvalue = [2, 16]'),\n",
       " Text(0.13648293963254593, 0.7592592592592593, 'X[2] <= 0.25\\ngini = 0.231\\nsamples = 30\\nvalue = [4, 26]'),\n",
       " Text(0.13298337707786526, 0.7222222222222222, 'gini = 0.0\\nsamples = 15\\nvalue = [0, 15]'),\n",
       " Text(0.1399825021872266, 0.7222222222222222, 'gini = 0.391\\nsamples = 15\\nvalue = [4, 11]'),\n",
       " Text(0.17191601049868765, 0.7962962962962963, 'X[6] <= 0.157\\ngini = 0.483\\nsamples = 306\\nvalue = [125, 181]'),\n",
       " Text(0.15398075240594924, 0.7592592592592593, 'X[6] <= 0.13\\ngini = 0.456\\nsamples = 165\\nvalue = [58, 107]'),\n",
       " Text(0.14698162729658792, 0.7222222222222222, 'X[6] <= 0.112\\ngini = 0.474\\nsamples = 137\\nvalue = [53, 84]'),\n",
       " Text(0.14348206474190725, 0.6851851851851852, 'X[4] <= 0.214\\ngini = 0.461\\nsamples = 125\\nvalue = [45, 80]'),\n",
       " Text(0.1347331583552056, 0.6481481481481481, 'X[0] <= 0.812\\ngini = 0.346\\nsamples = 27\\nvalue = [6, 21]'),\n",
       " Text(0.13123359580052493, 0.6111111111111112, 'gini = 0.473\\nsamples = 13\\nvalue = [5, 8]'),\n",
       " Text(0.13823272090988625, 0.6111111111111112, 'gini = 0.133\\nsamples = 14\\nvalue = [1, 13]'),\n",
       " Text(0.15223097112860892, 0.6481481481481481, 'X[3] <= 0.214\\ngini = 0.479\\nsamples = 98\\nvalue = [39, 59]'),\n",
       " Text(0.1452318460192476, 0.6111111111111112, 'X[6] <= 0.058\\ngini = 0.5\\nsamples = 33\\nvalue = [17, 16]'),\n",
       " Text(0.14173228346456693, 0.5740740740740741, 'gini = 0.415\\nsamples = 17\\nvalue = [12, 5]'),\n",
       " Text(0.14873140857392825, 0.5740740740740741, 'gini = 0.43\\nsamples = 16\\nvalue = [5, 11]'),\n",
       " Text(0.15923009623797024, 0.6111111111111112, 'X[6] <= 0.079\\ngini = 0.448\\nsamples = 65\\nvalue = [22, 43]'),\n",
       " Text(0.1557305336832896, 0.5740740740740741, 'X[6] <= 0.058\\ngini = 0.4\\nsamples = 47\\nvalue = [13, 34]'),\n",
       " Text(0.15223097112860892, 0.5370370370370371, 'X[3] <= 0.31\\ngini = 0.457\\nsamples = 34\\nvalue = [12, 22]'),\n",
       " Text(0.14873140857392825, 0.5, 'gini = 0.355\\nsamples = 13\\nvalue = [3, 10]'),\n",
       " Text(0.1557305336832896, 0.5, 'gini = 0.49\\nsamples = 21\\nvalue = [9, 12]'),\n",
       " Text(0.15923009623797024, 0.5370370370370371, 'gini = 0.142\\nsamples = 13\\nvalue = [1, 12]'),\n",
       " Text(0.16272965879265092, 0.5740740740740741, 'gini = 0.5\\nsamples = 18\\nvalue = [9, 9]'),\n",
       " Text(0.1504811898512686, 0.6851851851851852, 'gini = 0.444\\nsamples = 12\\nvalue = [8, 4]'),\n",
       " Text(0.1609798775153106, 0.7222222222222222, 'X[0] <= 0.851\\ngini = 0.293\\nsamples = 28\\nvalue = [5, 23]'),\n",
       " Text(0.15748031496062992, 0.6851851851851852, 'gini = 0.133\\nsamples = 14\\nvalue = [1, 13]'),\n",
       " Text(0.16447944006999124, 0.6851851851851852, 'gini = 0.408\\nsamples = 14\\nvalue = [4, 10]'),\n",
       " Text(0.18985126859142606, 0.7592592592592593, 'X[3] <= 0.405\\ngini = 0.499\\nsamples = 141\\nvalue = [67, 74]'),\n",
       " Text(0.18022747156605423, 0.7222222222222222, 'X[21] <= 0.5\\ngini = 0.5\\nsamples = 106\\nvalue = [54, 52]'),\n",
       " Text(0.1714785651793526, 0.6851851851851852, 'X[6] <= 0.296\\ngini = 0.444\\nsamples = 24\\nvalue = [16, 8]'),\n",
       " Text(0.1679790026246719, 0.6481481481481481, 'gini = 0.375\\nsamples = 12\\nvalue = [9, 3]'),\n",
       " Text(0.17497812773403323, 0.6481481481481481, 'gini = 0.486\\nsamples = 12\\nvalue = [7, 5]'),\n",
       " Text(0.1889763779527559, 0.6851851851851852, 'X[5] <= 0.3\\ngini = 0.497\\nsamples = 82\\nvalue = [38, 44]'),\n",
       " Text(0.18197725284339458, 0.6481481481481481, 'X[0] <= 0.725\\ngini = 0.499\\nsamples = 54\\nvalue = [28, 26]'),\n",
       " Text(0.1784776902887139, 0.6111111111111112, 'gini = 0.397\\nsamples = 11\\nvalue = [3, 8]'),\n",
       " Text(0.18547681539807523, 0.6111111111111112, 'X[0] <= 0.783\\ngini = 0.487\\nsamples = 43\\nvalue = [25, 18]'),\n",
       " Text(0.18197725284339458, 0.5740740740740741, 'gini = 0.391\\nsamples = 15\\nvalue = [11, 4]'),\n",
       " Text(0.1889763779527559, 0.5740740740740741, 'X[0] <= 0.855\\ngini = 0.5\\nsamples = 28\\nvalue = [14, 14]'),\n",
       " Text(0.18547681539807523, 0.5370370370370371, 'gini = 0.463\\nsamples = 11\\nvalue = [4, 7]'),\n",
       " Text(0.19247594050743658, 0.5370370370370371, 'gini = 0.484\\nsamples = 17\\nvalue = [10, 7]'),\n",
       " Text(0.19597550306211722, 0.6481481481481481, 'X[0] <= 0.823\\ngini = 0.459\\nsamples = 28\\nvalue = [10, 18]'),\n",
       " Text(0.19247594050743658, 0.6111111111111112, 'gini = 0.498\\nsamples = 15\\nvalue = [8, 7]'),\n",
       " Text(0.1994750656167979, 0.6111111111111112, 'gini = 0.26\\nsamples = 13\\nvalue = [2, 11]'),\n",
       " Text(0.1994750656167979, 0.7222222222222222, 'X[0] <= 0.818\\ngini = 0.467\\nsamples = 35\\nvalue = [13, 22]'),\n",
       " Text(0.19597550306211722, 0.6851851851851852, 'gini = 0.408\\nsamples = 21\\nvalue = [6, 15]'),\n",
       " Text(0.20297462817147857, 0.6851851851851852, 'gini = 0.5\\nsamples = 14\\nvalue = [7, 7]'),\n",
       " Text(0.18591426071741032, 0.9074074074074074, 'X[2] <= 0.25\\ngini = 0.48\\nsamples = 65\\nvalue = [39, 26]'),\n",
       " Text(0.178915135608049, 0.8703703703703703, 'X[6] <= 0.067\\ngini = 0.439\\nsamples = 40\\nvalue = [27, 13]'),\n",
       " Text(0.17541557305336833, 0.8333333333333334, 'gini = 0.486\\nsamples = 12\\nvalue = [5, 7]'),\n",
       " Text(0.18241469816272965, 0.8333333333333334, 'X[3] <= 0.786\\ngini = 0.337\\nsamples = 28\\nvalue = [22, 6]'),\n",
       " Text(0.178915135608049, 0.7962962962962963, 'gini = 0.486\\nsamples = 12\\nvalue = [7, 5]'),\n",
       " Text(0.18591426071741032, 0.7962962962962963, 'gini = 0.117\\nsamples = 16\\nvalue = [15, 1]'),\n",
       " Text(0.19291338582677164, 0.8703703703703703, 'X[5] <= 0.5\\ngini = 0.499\\nsamples = 25\\nvalue = [12, 13]'),\n",
       " Text(0.189413823272091, 0.8333333333333334, 'gini = 0.444\\nsamples = 12\\nvalue = [8, 4]'),\n",
       " Text(0.19641294838145232, 0.8333333333333334, 'gini = 0.426\\nsamples = 13\\nvalue = [4, 9]'),\n",
       " Text(0.3321223488421369, 0.9444444444444444, 'X[3] <= 0.071\\ngini = 0.164\\nsamples = 5324\\nvalue = [4843, 481]'),\n",
       " Text(0.24343832020997375, 0.9074074074074074, 'X[1] <= 0.743\\ngini = 0.383\\nsamples = 89\\nvalue = [66, 23]'),\n",
       " Text(0.2399387576552931, 0.8703703703703703, 'gini = 0.5\\nsamples = 18\\nvalue = [9, 9]'),\n",
       " Text(0.24693788276465442, 0.8703703703703703, 'X[21] <= 0.5\\ngini = 0.317\\nsamples = 71\\nvalue = [57, 14]'),\n",
       " Text(0.24343832020997375, 0.8333333333333334, 'gini = 0.492\\nsamples = 16\\nvalue = [9, 7]'),\n",
       " Text(0.2504374453193351, 0.8333333333333334, 'X[0] <= 0.537\\ngini = 0.222\\nsamples = 55\\nvalue = [48, 7]'),\n",
       " Text(0.24343832020997375, 0.7962962962962963, 'X[4] <= 0.357\\ngini = 0.337\\nsamples = 28\\nvalue = [22, 6]'),\n",
       " Text(0.2399387576552931, 0.7592592592592593, 'gini = 0.165\\nsamples = 11\\nvalue = [10, 1]'),\n",
       " Text(0.24693788276465442, 0.7592592592592593, 'gini = 0.415\\nsamples = 17\\nvalue = [12, 5]'),\n",
       " Text(0.2574365704286964, 0.7962962962962963, 'X[6] <= 0.072\\ngini = 0.071\\nsamples = 27\\nvalue = [26, 1]'),\n",
       " Text(0.25393700787401574, 0.7592592592592593, 'gini = 0.165\\nsamples = 11\\nvalue = [10, 1]'),\n",
       " Text(0.2609361329833771, 0.7592592592592593, 'gini = 0.0\\nsamples = 16\\nvalue = [16, 0]'),\n",
       " Text(0.4208063774743001, 0.9074074074074074, 'X[1] <= 0.654\\ngini = 0.16\\nsamples = 5235\\nvalue = [4777, 458]'),\n",
       " Text(0.30766076115485563, 0.8703703703703703, 'X[1] <= 0.636\\ngini = 0.242\\nsamples = 554\\nvalue = [476, 78]'),\n",
       " Text(0.2959864391951006, 0.8333333333333334, 'X[6] <= 0.567\\ngini = 0.228\\nsamples = 519\\nvalue = [451, 68]'),\n",
       " Text(0.28313648293963256, 0.7962962962962963, 'X[0] <= 0.786\\ngini = 0.216\\nsamples = 494\\nvalue = [433, 61]'),\n",
       " Text(0.2679352580927384, 0.7592592592592593, 'X[0] <= 0.706\\ngini = 0.237\\nsamples = 400\\nvalue = [345, 55]'),\n",
       " Text(0.24803149606299213, 0.7222222222222222, 'X[5] <= 0.3\\ngini = 0.209\\nsamples = 355\\nvalue = [313, 42]'),\n",
       " Text(0.22572178477690288, 0.6851851851851852, 'X[4] <= 0.357\\ngini = 0.148\\nsamples = 174\\nvalue = [160, 14]'),\n",
       " Text(0.21347331583552057, 0.6481481481481481, 'X[1] <= 0.588\\ngini = 0.212\\nsamples = 83\\nvalue = [73, 10]'),\n",
       " Text(0.20647419072615922, 0.6111111111111112, 'X[3] <= 0.405\\ngini = 0.126\\nsamples = 59\\nvalue = [55, 4]'),\n",
       " Text(0.20297462817147857, 0.5740740740740741, 'gini = 0.0\\nsamples = 27\\nvalue = [27, 0]'),\n",
       " Text(0.2099737532808399, 0.5740740740740741, 'X[4] <= 0.214\\ngini = 0.219\\nsamples = 32\\nvalue = [28, 4]'),\n",
       " Text(0.20647419072615922, 0.5370370370370371, 'gini = 0.111\\nsamples = 17\\nvalue = [16, 1]'),\n",
       " Text(0.21347331583552057, 0.5370370370370371, 'gini = 0.32\\nsamples = 15\\nvalue = [12, 3]'),\n",
       " Text(0.2204724409448819, 0.6111111111111112, 'X[0] <= 0.164\\ngini = 0.375\\nsamples = 24\\nvalue = [18, 6]'),\n",
       " Text(0.2169728783902012, 0.5740740740740741, 'gini = 0.165\\nsamples = 11\\nvalue = [10, 1]'),\n",
       " Text(0.22397200349956256, 0.5740740740740741, 'gini = 0.473\\nsamples = 13\\nvalue = [8, 5]'),\n",
       " Text(0.2379702537182852, 0.6481481481481481, 'X[6] <= 0.163\\ngini = 0.084\\nsamples = 91\\nvalue = [87, 4]'),\n",
       " Text(0.23447069116360456, 0.6111111111111112, 'X[0] <= 0.278\\ngini = 0.14\\nsamples = 53\\nvalue = [49, 4]'),\n",
       " Text(0.23097112860892388, 0.5740740740740741, 'gini = 0.0\\nsamples = 25\\nvalue = [25, 0]'),\n",
       " Text(0.2379702537182852, 0.5740740740740741, 'X[3] <= 0.31\\ngini = 0.245\\nsamples = 28\\nvalue = [24, 4]'),\n",
       " Text(0.23447069116360456, 0.5370370370370371, 'gini = 0.133\\nsamples = 14\\nvalue = [13, 1]'),\n",
       " Text(0.24146981627296588, 0.5370370370370371, 'gini = 0.337\\nsamples = 14\\nvalue = [11, 3]'),\n",
       " Text(0.24146981627296588, 0.6111111111111112, 'gini = 0.0\\nsamples = 38\\nvalue = [38, 0]'),\n",
       " Text(0.27034120734908135, 0.6851851851851852, 'X[1] <= 0.449\\ngini = 0.262\\nsamples = 181\\nvalue = [153, 28]'),\n",
       " Text(0.2668416447944007, 0.6481481481481481, 'gini = 0.444\\nsamples = 15\\nvalue = [10, 5]'),\n",
       " Text(0.27384076990376205, 0.6481481481481481, 'X[3] <= 0.738\\ngini = 0.239\\nsamples = 166\\nvalue = [143, 23]'),\n",
       " Text(0.2642169728783902, 0.6111111111111112, 'X[4] <= 0.643\\ngini = 0.28\\nsamples = 119\\nvalue = [99, 20]'),\n",
       " Text(0.2554680664916885, 0.5740740740740741, 'X[1] <= 0.582\\ngini = 0.225\\nsamples = 93\\nvalue = [81, 12]'),\n",
       " Text(0.2484689413823272, 0.5370370370370371, 'X[0] <= 0.279\\ngini = 0.145\\nsamples = 51\\nvalue = [47, 4]'),\n",
       " Text(0.24496937882764655, 0.5, 'gini = 0.0\\nsamples = 18\\nvalue = [18, 0]'),\n",
       " Text(0.25196850393700787, 0.5, 'X[5] <= 0.5\\ngini = 0.213\\nsamples = 33\\nvalue = [29, 4]'),\n",
       " Text(0.2484689413823272, 0.46296296296296297, 'gini = 0.32\\nsamples = 15\\nvalue = [12, 3]'),\n",
       " Text(0.2554680664916885, 0.46296296296296297, 'gini = 0.105\\nsamples = 18\\nvalue = [17, 1]'),\n",
       " Text(0.26246719160104987, 0.5370370370370371, 'X[21] <= 0.5\\ngini = 0.308\\nsamples = 42\\nvalue = [34, 8]'),\n",
       " Text(0.2589676290463692, 0.5, 'gini = 0.463\\nsamples = 11\\nvalue = [7, 4]'),\n",
       " Text(0.2659667541557305, 0.5, 'X[3] <= 0.357\\ngini = 0.225\\nsamples = 31\\nvalue = [27, 4]'),\n",
       " Text(0.26246719160104987, 0.46296296296296297, 'gini = 0.0\\nsamples = 13\\nvalue = [13, 0]'),\n",
       " Text(0.2694663167104112, 0.46296296296296297, 'gini = 0.346\\nsamples = 18\\nvalue = [14, 4]'),\n",
       " Text(0.27296587926509186, 0.5740740740740741, 'X[0] <= 0.224\\ngini = 0.426\\nsamples = 26\\nvalue = [18, 8]'),\n",
       " Text(0.2694663167104112, 0.5370370370370371, 'gini = 0.497\\nsamples = 13\\nvalue = [7, 6]'),\n",
       " Text(0.2764654418197725, 0.5370370370370371, 'gini = 0.26\\nsamples = 13\\nvalue = [11, 2]'),\n",
       " Text(0.28346456692913385, 0.6111111111111112, 'X[4] <= 0.357\\ngini = 0.12\\nsamples = 47\\nvalue = [44, 3]'),\n",
       " Text(0.2799650043744532, 0.5740740740740741, 'gini = 0.245\\nsamples = 21\\nvalue = [18, 3]'),\n",
       " Text(0.2869641294838145, 0.5740740740740741, 'gini = 0.0\\nsamples = 26\\nvalue = [26, 0]'),\n",
       " Text(0.2878390201224847, 0.7222222222222222, 'X[1] <= 0.586\\ngini = 0.411\\nsamples = 45\\nvalue = [32, 13]'),\n",
       " Text(0.28433945756780404, 0.6851851851851852, 'X[6] <= 0.142\\ngini = 0.278\\nsamples = 30\\nvalue = [25, 5]'),\n",
       " Text(0.28083989501312334, 0.6481481481481481, 'gini = 0.0\\nsamples = 18\\nvalue = [18, 0]'),\n",
       " Text(0.2878390201224847, 0.6481481481481481, 'gini = 0.486\\nsamples = 12\\nvalue = [7, 5]'),\n",
       " Text(0.29133858267716534, 0.6851851851851852, 'gini = 0.498\\nsamples = 15\\nvalue = [7, 8]'),\n",
       " Text(0.2983377077865267, 0.7592592592592593, 'X[22] <= 0.5\\ngini = 0.12\\nsamples = 94\\nvalue = [88, 6]'),\n",
       " Text(0.29483814523184604, 0.7222222222222222, 'gini = 0.32\\nsamples = 15\\nvalue = [12, 3]'),\n",
       " Text(0.30183727034120733, 0.7222222222222222, 'X[0] <= 0.938\\ngini = 0.073\\nsamples = 79\\nvalue = [76, 3]'),\n",
       " Text(0.2983377077865267, 0.6851851851851852, 'gini = 0.0\\nsamples = 57\\nvalue = [57, 0]'),\n",
       " Text(0.30533683289588803, 0.6851851851851852, 'X[0] <= 0.968\\ngini = 0.236\\nsamples = 22\\nvalue = [19, 3]'),\n",
       " Text(0.30183727034120733, 0.6481481481481481, 'gini = 0.298\\nsamples = 11\\nvalue = [9, 2]'),\n",
       " Text(0.3088363954505687, 0.6481481481481481, 'gini = 0.165\\nsamples = 11\\nvalue = [10, 1]'),\n",
       " Text(0.3088363954505687, 0.7962962962962963, 'X[0] <= 0.636\\ngini = 0.403\\nsamples = 25\\nvalue = [18, 7]'),\n",
       " Text(0.30533683289588803, 0.7592592592592593, 'gini = 0.165\\nsamples = 11\\nvalue = [10, 1]'),\n",
       " Text(0.3123359580052493, 0.7592592592592593, 'gini = 0.49\\nsamples = 14\\nvalue = [8, 6]'),\n",
       " Text(0.3193350831146107, 0.8333333333333334, 'X[5] <= 0.3\\ngini = 0.408\\nsamples = 35\\nvalue = [25, 10]'),\n",
       " Text(0.31583552055993, 0.7962962962962963, 'gini = 0.198\\nsamples = 18\\nvalue = [16, 2]'),\n",
       " Text(0.3228346456692913, 0.7962962962962963, 'gini = 0.498\\nsamples = 17\\nvalue = [9, 8]'),\n",
       " Text(0.5339519937937446, 0.8703703703703703, 'X[22] <= 0.5\\ngini = 0.149\\nsamples = 4681\\nvalue = [4301, 380]'),\n",
       " Text(0.37270341207349084, 0.8333333333333334, 'X[27] <= 0.5\\ngini = 0.216\\nsamples = 537\\nvalue = [471, 66]'),\n",
       " Text(0.3455818022747157, 0.7962962962962963, 'X[1] <= 0.915\\ngini = 0.158\\nsamples = 335\\nvalue = [306, 29]'),\n",
       " Text(0.3228346456692913, 0.7592592592592593, 'X[6] <= 0.045\\ngini = 0.092\\nsamples = 124\\nvalue = [118, 6]'),\n",
       " Text(0.31583552055993, 0.7222222222222222, 'X[1] <= 0.885\\ngini = 0.236\\nsamples = 22\\nvalue = [19, 3]'),\n",
       " Text(0.3123359580052493, 0.6851851851851852, 'gini = 0.298\\nsamples = 11\\nvalue = [9, 2]'),\n",
       " Text(0.3193350831146107, 0.6851851851851852, 'gini = 0.165\\nsamples = 11\\nvalue = [10, 1]'),\n",
       " Text(0.32983377077865267, 0.7222222222222222, 'X[0] <= 0.097\\ngini = 0.057\\nsamples = 102\\nvalue = [99, 3]'),\n",
       " Text(0.326334208223972, 0.6851851851851852, 'gini = 0.231\\nsamples = 15\\nvalue = [13, 2]'),\n",
       " Text(0.3333333333333333, 0.6851851851851852, 'X[0] <= 0.844\\ngini = 0.023\\nsamples = 87\\nvalue = [86, 1]'),\n",
       " Text(0.32983377077865267, 0.6481481481481481, 'gini = 0.0\\nsamples = 72\\nvalue = [72, 0]'),\n",
       " Text(0.336832895888014, 0.6481481481481481, 'gini = 0.124\\nsamples = 15\\nvalue = [14, 1]'),\n",
       " Text(0.36832895888014, 0.7592592592592593, 'X[0] <= 0.946\\ngini = 0.194\\nsamples = 211\\nvalue = [188, 23]'),\n",
       " Text(0.3648293963254593, 0.7222222222222222, 'X[4] <= 0.5\\ngini = 0.18\\nsamples = 200\\nvalue = [180, 20]'),\n",
       " Text(0.3543307086614173, 0.6851851851851852, 'X[5] <= 0.3\\ngini = 0.245\\nsamples = 98\\nvalue = [84, 14]'),\n",
       " Text(0.3438320209973753, 0.6481481481481481, 'X[3] <= 0.214\\ngini = 0.32\\nsamples = 50\\nvalue = [40, 10]'),\n",
       " Text(0.34033245844269466, 0.6111111111111112, 'gini = 0.095\\nsamples = 20\\nvalue = [19, 1]'),\n",
       " Text(0.347331583552056, 0.6111111111111112, 'X[4] <= 0.357\\ngini = 0.42\\nsamples = 30\\nvalue = [21, 9]'),\n",
       " Text(0.3438320209973753, 0.5740740740740741, 'gini = 0.332\\nsamples = 19\\nvalue = [15, 4]'),\n",
       " Text(0.35083114610673666, 0.5740740740740741, 'gini = 0.496\\nsamples = 11\\nvalue = [6, 5]'),\n",
       " Text(0.3648293963254593, 0.6481481481481481, 'X[11] <= 0.5\\ngini = 0.153\\nsamples = 48\\nvalue = [44, 4]'),\n",
       " Text(0.36132983377077865, 0.6111111111111112, 'X[0] <= 0.271\\ngini = 0.056\\nsamples = 35\\nvalue = [34, 1]'),\n",
       " Text(0.357830271216098, 0.5740740740740741, 'gini = 0.165\\nsamples = 11\\nvalue = [10, 1]'),\n",
       " Text(0.3648293963254593, 0.5740740740740741, 'gini = 0.0\\nsamples = 24\\nvalue = [24, 0]'),\n",
       " Text(0.36832895888014, 0.6111111111111112, 'gini = 0.355\\nsamples = 13\\nvalue = [10, 3]'),\n",
       " Text(0.3753280839895013, 0.6851851851851852, 'X[3] <= 0.167\\ngini = 0.111\\nsamples = 102\\nvalue = [96, 6]'),\n",
       " Text(0.37182852143482065, 0.6481481481481481, 'gini = 0.278\\nsamples = 12\\nvalue = [10, 2]'),\n",
       " Text(0.378827646544182, 0.6481481481481481, 'X[6] <= 0.313\\ngini = 0.085\\nsamples = 90\\nvalue = [86, 4]'),\n",
       " Text(0.3753280839895013, 0.6111111111111112, 'X[5] <= 0.9\\ngini = 0.051\\nsamples = 77\\nvalue = [75, 2]'),\n",
       " Text(0.37182852143482065, 0.5740740740740741, 'gini = 0.0\\nsamples = 49\\nvalue = [49, 0]'),\n",
       " Text(0.378827646544182, 0.5740740740740741, 'X[1] <= 0.952\\ngini = 0.133\\nsamples = 28\\nvalue = [26, 2]'),\n",
       " Text(0.3753280839895013, 0.5370370370370371, 'gini = 0.0\\nsamples = 16\\nvalue = [16, 0]'),\n",
       " Text(0.38232720909886264, 0.5370370370370371, 'gini = 0.278\\nsamples = 12\\nvalue = [10, 2]'),\n",
       " Text(0.38232720909886264, 0.6111111111111112, 'gini = 0.26\\nsamples = 13\\nvalue = [11, 2]'),\n",
       " Text(0.37182852143482065, 0.7222222222222222, 'gini = 0.397\\nsamples = 11\\nvalue = [8, 3]'),\n",
       " Text(0.399825021872266, 0.7962962962962963, 'X[3] <= 0.214\\ngini = 0.299\\nsamples = 202\\nvalue = [165, 37]'),\n",
       " Text(0.38232720909886264, 0.7592592592592593, 'X[6] <= 0.037\\ngini = 0.417\\nsamples = 54\\nvalue = [38, 16]'),\n",
       " Text(0.378827646544182, 0.7222222222222222, 'gini = 0.486\\nsamples = 12\\nvalue = [5, 7]'),\n",
       " Text(0.3858267716535433, 0.7222222222222222, 'X[0] <= 0.386\\ngini = 0.337\\nsamples = 42\\nvalue = [33, 9]'),\n",
       " Text(0.38232720909886264, 0.6851851851851852, 'gini = 0.124\\nsamples = 15\\nvalue = [14, 1]'),\n",
       " Text(0.389326334208224, 0.6851851851851852, 'X[4] <= 0.5\\ngini = 0.417\\nsamples = 27\\nvalue = [19, 8]'),\n",
       " Text(0.3858267716535433, 0.6481481481481481, 'gini = 0.48\\nsamples = 15\\nvalue = [9, 6]'),\n",
       " Text(0.39282589676290464, 0.6481481481481481, 'gini = 0.278\\nsamples = 12\\nvalue = [10, 2]'),\n",
       " Text(0.41732283464566927, 0.7592592592592593, 'X[6] <= 0.285\\ngini = 0.244\\nsamples = 148\\nvalue = [127, 21]'),\n",
       " Text(0.410323709536308, 0.7222222222222222, 'X[11] <= 0.5\\ngini = 0.196\\nsamples = 118\\nvalue = [105, 13]'),\n",
       " Text(0.4068241469816273, 0.6851851851851852, 'X[0] <= 0.649\\ngini = 0.159\\nsamples = 103\\nvalue = [94, 9]'),\n",
       " Text(0.399825021872266, 0.6481481481481481, 'X[3] <= 0.69\\ngini = 0.092\\nsamples = 62\\nvalue = [59, 3]'),\n",
       " Text(0.3963254593175853, 0.6111111111111112, 'gini = 0.0\\nsamples = 33\\nvalue = [33, 0]'),\n",
       " Text(0.40332458442694663, 0.6111111111111112, 'X[6] <= 0.084\\ngini = 0.185\\nsamples = 29\\nvalue = [26, 3]'),\n",
       " Text(0.399825021872266, 0.5740740740740741, 'gini = 0.305\\nsamples = 16\\nvalue = [13, 3]'),\n",
       " Text(0.4068241469816273, 0.5740740740740741, 'gini = 0.0\\nsamples = 13\\nvalue = [13, 0]'),\n",
       " Text(0.4138232720909886, 0.6481481481481481, 'X[0] <= 0.763\\ngini = 0.25\\nsamples = 41\\nvalue = [35, 6]'),\n",
       " Text(0.410323709536308, 0.6111111111111112, 'gini = 0.459\\nsamples = 14\\nvalue = [9, 5]'),\n",
       " Text(0.41732283464566927, 0.6111111111111112, 'X[6] <= 0.091\\ngini = 0.071\\nsamples = 27\\nvalue = [26, 1]'),\n",
       " Text(0.4138232720909886, 0.5740740740740741, 'gini = 0.165\\nsamples = 11\\nvalue = [10, 1]'),\n",
       " Text(0.42082239720035, 0.5740740740740741, 'gini = 0.0\\nsamples = 16\\nvalue = [16, 0]'),\n",
       " Text(0.4138232720909886, 0.6851851851851852, 'gini = 0.391\\nsamples = 15\\nvalue = [11, 4]'),\n",
       " Text(0.4243219597550306, 0.7222222222222222, 'X[6] <= 0.385\\ngini = 0.391\\nsamples = 30\\nvalue = [22, 8]'),\n",
       " Text(0.42082239720035, 0.6851851851851852, 'gini = 0.496\\nsamples = 11\\nvalue = [6, 5]'),\n",
       " Text(0.42782152230971127, 0.6851851851851852, 'gini = 0.266\\nsamples = 19\\nvalue = [16, 3]'),\n",
       " Text(0.6952005755139983, 0.8333333333333334, 'X[5] <= 0.3\\ngini = 0.14\\nsamples = 4144\\nvalue = [3830, 314]'),\n",
       " Text(0.5931553477690289, 0.7962962962962963, 'X[0] <= 0.981\\ngini = 0.113\\nsamples = 1763\\nvalue = [1657, 106]'),\n",
       " Text(0.5554051837270341, 0.7592592592592593, 'X[2] <= 0.75\\ngini = 0.11\\nsamples = 1734\\nvalue = [1633, 101]'),\n",
       " Text(0.49040354330708663, 0.7222222222222222, 'X[21] <= 0.5\\ngini = 0.106\\nsamples = 1694\\nvalue = [1599, 95]'),\n",
       " Text(0.44006999125109364, 0.6851851851851852, 'X[27] <= 0.5\\ngini = 0.169\\nsamples = 215\\nvalue = [195, 20]'),\n",
       " Text(0.43132108486439197, 0.6481481481481481, 'X[6] <= 0.031\\ngini = 0.12\\nsamples = 171\\nvalue = [160, 11]'),\n",
       " Text(0.42782152230971127, 0.6111111111111112, 'gini = 0.32\\nsamples = 15\\nvalue = [12, 3]'),\n",
       " Text(0.4348206474190726, 0.6111111111111112, 'X[0] <= 0.17\\ngini = 0.097\\nsamples = 156\\nvalue = [148, 8]'),\n",
       " Text(0.42782152230971127, 0.5740740740740741, 'X[1] <= 0.909\\ngini = 0.252\\nsamples = 27\\nvalue = [23, 4]'),\n",
       " Text(0.4243219597550306, 0.5370370370370371, 'gini = 0.0\\nsamples = 16\\nvalue = [16, 0]'),\n",
       " Text(0.43132108486439197, 0.5370370370370371, 'gini = 0.463\\nsamples = 11\\nvalue = [7, 4]'),\n",
       " Text(0.44181977252843396, 0.5740740740740741, 'X[0] <= 0.59\\ngini = 0.06\\nsamples = 129\\nvalue = [125, 4]'),\n",
       " Text(0.43832020997375326, 0.5370370370370371, 'gini = 0.0\\nsamples = 68\\nvalue = [68, 0]'),\n",
       " Text(0.4453193350831146, 0.5370370370370371, 'X[0] <= 0.752\\ngini = 0.123\\nsamples = 61\\nvalue = [57, 4]'),\n",
       " Text(0.44181977252843396, 0.5, 'gini = 0.245\\nsamples = 21\\nvalue = [18, 3]'),\n",
       " Text(0.44881889763779526, 0.5, 'X[3] <= 0.262\\ngini = 0.049\\nsamples = 40\\nvalue = [39, 1]'),\n",
       " Text(0.4453193350831146, 0.46296296296296297, 'gini = 0.153\\nsamples = 12\\nvalue = [11, 1]'),\n",
       " Text(0.45231846019247596, 0.46296296296296297, 'gini = 0.0\\nsamples = 28\\nvalue = [28, 0]'),\n",
       " Text(0.44881889763779526, 0.6481481481481481, 'X[0] <= 0.517\\ngini = 0.325\\nsamples = 44\\nvalue = [35, 9]'),\n",
       " Text(0.4453193350831146, 0.6111111111111112, 'gini = 0.444\\nsamples = 15\\nvalue = [10, 5]'),\n",
       " Text(0.45231846019247596, 0.6111111111111112, 'X[4] <= 0.5\\ngini = 0.238\\nsamples = 29\\nvalue = [25, 4]'),\n",
       " Text(0.44881889763779526, 0.5740740740740741, 'gini = 0.355\\nsamples = 13\\nvalue = [10, 3]'),\n",
       " Text(0.4558180227471566, 0.5740740740740741, 'gini = 0.117\\nsamples = 16\\nvalue = [15, 1]'),\n",
       " Text(0.5407370953630796, 0.6851851851851852, 'X[5] <= 0.1\\ngini = 0.096\\nsamples = 1479\\nvalue = [1404, 75]'),\n",
       " Text(0.47506561679790027, 0.6481481481481481, 'X[4] <= 0.786\\ngini = 0.187\\nsamples = 96\\nvalue = [86, 10]'),\n",
       " Text(0.4715660542432196, 0.6111111111111112, 'X[3] <= 0.405\\ngini = 0.242\\nsamples = 71\\nvalue = [61, 10]'),\n",
       " Text(0.46281714785651795, 0.5740740740740741, 'X[0] <= 0.383\\ngini = 0.087\\nsamples = 22\\nvalue = [21, 1]'),\n",
       " Text(0.45931758530183725, 0.5370370370370371, 'gini = 0.0\\nsamples = 11\\nvalue = [11, 0]'),\n",
       " Text(0.4663167104111986, 0.5370370370370371, 'gini = 0.165\\nsamples = 11\\nvalue = [10, 1]'),\n",
       " Text(0.48031496062992124, 0.5740740740740741, 'X[4] <= 0.357\\ngini = 0.3\\nsamples = 49\\nvalue = [40, 9]'),\n",
       " Text(0.47331583552055995, 0.5370370370370371, 'X[3] <= 0.643\\ngini = 0.403\\nsamples = 25\\nvalue = [18, 7]'),\n",
       " Text(0.46981627296587924, 0.5, 'gini = 0.473\\nsamples = 13\\nvalue = [8, 5]'),\n",
       " Text(0.4768153980752406, 0.5, 'gini = 0.278\\nsamples = 12\\nvalue = [10, 2]'),\n",
       " Text(0.4873140857392826, 0.5370370370370371, 'X[6] <= 0.151\\ngini = 0.153\\nsamples = 24\\nvalue = [22, 2]'),\n",
       " Text(0.48381452318460194, 0.5, 'gini = 0.0\\nsamples = 13\\nvalue = [13, 0]'),\n",
       " Text(0.49081364829396323, 0.5, 'gini = 0.298\\nsamples = 11\\nvalue = [9, 2]'),\n",
       " Text(0.4785651793525809, 0.6111111111111112, 'gini = 0.0\\nsamples = 25\\nvalue = [25, 0]'),\n",
       " Text(0.606408573928259, 0.6481481481481481, 'X[7] <= 0.5\\ngini = 0.09\\nsamples = 1383\\nvalue = [1318, 65]'),\n",
       " Text(0.6029090113735783, 0.6111111111111112, 'X[4] <= 0.643\\ngini = 0.094\\nsamples = 1313\\nvalue = [1248, 65]'),\n",
       " Text(0.5671478565179353, 0.5740740740740741, 'X[3] <= 0.833\\ngini = 0.106\\nsamples = 947\\nvalue = [894, 53]'),\n",
       " Text(0.526246719160105, 0.5370370370370371, 'X[3] <= 0.31\\ngini = 0.091\\nsamples = 733\\nvalue = [698, 35]'),\n",
       " Text(0.4978127734033246, 0.5, 'X[18] <= 0.5\\ngini = 0.141\\nsamples = 248\\nvalue = [229, 19]'),\n",
       " Text(0.4890638670166229, 0.46296296296296297, 'X[0] <= 0.792\\ngini = 0.033\\nsamples = 59\\nvalue = [58, 1]'),\n",
       " Text(0.48556430446194226, 0.42592592592592593, 'gini = 0.0\\nsamples = 48\\nvalue = [48, 0]'),\n",
       " Text(0.4925634295713036, 0.42592592592592593, 'gini = 0.165\\nsamples = 11\\nvalue = [10, 1]'),\n",
       " Text(0.5065616797900262, 0.46296296296296297, 'X[1] <= 0.915\\ngini = 0.172\\nsamples = 189\\nvalue = [171, 18]'),\n",
       " Text(0.4995625546806649, 0.42592592592592593, 'X[4] <= 0.357\\ngini = 0.282\\nsamples = 47\\nvalue = [39, 8]'),\n",
       " Text(0.49606299212598426, 0.3888888888888889, 'X[3] <= 0.214\\ngini = 0.121\\nsamples = 31\\nvalue = [29, 2]'),\n",
       " Text(0.4925634295713036, 0.35185185185185186, 'gini = 0.278\\nsamples = 12\\nvalue = [10, 2]'),\n",
       " Text(0.4995625546806649, 0.35185185185185186, 'gini = 0.0\\nsamples = 19\\nvalue = [19, 0]'),\n",
       " Text(0.5030621172353456, 0.3888888888888889, 'gini = 0.469\\nsamples = 16\\nvalue = [10, 6]'),\n",
       " Text(0.5135608048993876, 0.42592592592592593, 'X[2] <= 0.25\\ngini = 0.131\\nsamples = 142\\nvalue = [132, 10]'),\n",
       " Text(0.510061242344707, 0.3888888888888889, 'X[1] <= 0.937\\ngini = 0.094\\nsamples = 122\\nvalue = [116, 6]'),\n",
       " Text(0.5065616797900262, 0.35185185185185186, 'gini = 0.0\\nsamples = 26\\nvalue = [26, 0]'),\n",
       " Text(0.5135608048993876, 0.35185185185185186, 'X[0] <= 0.815\\ngini = 0.117\\nsamples = 96\\nvalue = [90, 6]'),\n",
       " Text(0.510061242344707, 0.3148148148148148, 'X[0] <= 0.692\\ngini = 0.142\\nsamples = 78\\nvalue = [72, 6]'),\n",
       " Text(0.5065616797900262, 0.2777777777777778, 'X[6] <= 0.312\\ngini = 0.089\\nsamples = 64\\nvalue = [61, 3]'),\n",
       " Text(0.5030621172353456, 0.24074074074074073, 'X[0] <= 0.147\\ngini = 0.038\\nsamples = 52\\nvalue = [51, 1]'),\n",
       " Text(0.4995625546806649, 0.2037037037037037, 'gini = 0.165\\nsamples = 11\\nvalue = [10, 1]'),\n",
       " Text(0.5065616797900262, 0.2037037037037037, 'gini = 0.0\\nsamples = 41\\nvalue = [41, 0]'),\n",
       " Text(0.510061242344707, 0.24074074074074073, 'gini = 0.278\\nsamples = 12\\nvalue = [10, 2]'),\n",
       " Text(0.5135608048993876, 0.2777777777777778, 'gini = 0.337\\nsamples = 14\\nvalue = [11, 3]'),\n",
       " Text(0.5170603674540682, 0.3148148148148148, 'gini = 0.0\\nsamples = 18\\nvalue = [18, 0]'),\n",
       " Text(0.5170603674540682, 0.3888888888888889, 'gini = 0.32\\nsamples = 20\\nvalue = [16, 4]'),\n",
       " Text(0.5546806649168854, 0.5, 'X[27] <= 0.5\\ngini = 0.064\\nsamples = 485\\nvalue = [469, 16]'),\n",
       " Text(0.5398075240594926, 0.46296296296296297, 'X[1] <= 0.953\\ngini = 0.049\\nsamples = 356\\nvalue = [347, 9]'),\n",
       " Text(0.531058617672791, 0.42592592592592593, 'X[0] <= 0.098\\ngini = 0.034\\nsamples = 288\\nvalue = [283, 5]'),\n",
       " Text(0.5275590551181102, 0.3888888888888889, 'gini = 0.172\\nsamples = 21\\nvalue = [19, 2]'),\n",
       " Text(0.5345581802274716, 0.3888888888888889, 'X[0] <= 0.952\\ngini = 0.022\\nsamples = 267\\nvalue = [264, 3]'),\n",
       " Text(0.531058617672791, 0.35185185185185186, 'X[18] <= 0.5\\ngini = 0.016\\nsamples = 256\\nvalue = [254, 2]'),\n",
       " Text(0.5240594925634295, 0.3148148148148148, 'X[3] <= 0.548\\ngini = 0.087\\nsamples = 22\\nvalue = [21, 1]'),\n",
       " Text(0.5205599300087489, 0.2777777777777778, 'gini = 0.165\\nsamples = 11\\nvalue = [10, 1]'),\n",
       " Text(0.5275590551181102, 0.2777777777777778, 'gini = 0.0\\nsamples = 11\\nvalue = [11, 0]'),\n",
       " Text(0.5380577427821522, 0.3148148148148148, 'X[1] <= 0.759\\ngini = 0.009\\nsamples = 234\\nvalue = [233, 1]'),\n",
       " Text(0.5345581802274716, 0.2777777777777778, 'X[6] <= 0.067\\ngini = 0.083\\nsamples = 23\\nvalue = [22, 1]'),\n",
       " Text(0.531058617672791, 0.24074074074074073, 'gini = 0.165\\nsamples = 11\\nvalue = [10, 1]'),\n",
       " Text(0.5380577427821522, 0.24074074074074073, 'gini = 0.0\\nsamples = 12\\nvalue = [12, 0]'),\n",
       " Text(0.5415573053368329, 0.2777777777777778, 'gini = 0.0\\nsamples = 211\\nvalue = [211, 0]'),\n",
       " Text(0.5380577427821522, 0.35185185185185186, 'gini = 0.165\\nsamples = 11\\nvalue = [10, 1]'),\n",
       " Text(0.5485564304461942, 0.42592592592592593, 'X[0] <= 0.569\\ngini = 0.111\\nsamples = 68\\nvalue = [64, 4]'),\n",
       " Text(0.5450568678915135, 0.3888888888888889, 'gini = 0.0\\nsamples = 33\\nvalue = [33, 0]'),\n",
       " Text(0.5520559930008749, 0.3888888888888889, 'X[1] <= 0.967\\ngini = 0.202\\nsamples = 35\\nvalue = [31, 4]'),\n",
       " Text(0.5485564304461942, 0.35185185185185186, 'X[2] <= 0.25\\ngini = 0.287\\nsamples = 23\\nvalue = [19, 4]'),\n",
       " Text(0.5450568678915135, 0.3148148148148148, 'gini = 0.375\\nsamples = 12\\nvalue = [9, 3]'),\n",
       " Text(0.5520559930008749, 0.3148148148148148, 'gini = 0.165\\nsamples = 11\\nvalue = [10, 1]'),\n",
       " Text(0.5555555555555556, 0.35185185185185186, 'gini = 0.0\\nsamples = 12\\nvalue = [12, 0]'),\n",
       " Text(0.5695538057742782, 0.46296296296296297, 'X[6] <= 0.061\\ngini = 0.103\\nsamples = 129\\nvalue = [122, 7]'),\n",
       " Text(0.5625546806649169, 0.42592592592592593, 'X[3] <= 0.5\\ngini = 0.231\\nsamples = 30\\nvalue = [26, 4]'),\n",
       " Text(0.5590551181102362, 0.3888888888888889, 'gini = 0.32\\nsamples = 15\\nvalue = [12, 3]'),\n",
       " Text(0.5660542432195975, 0.3888888888888889, 'gini = 0.124\\nsamples = 15\\nvalue = [14, 1]'),\n",
       " Text(0.5765529308836396, 0.42592592592592593, 'X[0] <= 0.177\\ngini = 0.059\\nsamples = 99\\nvalue = [96, 3]'),\n",
       " Text(0.5730533683289589, 0.3888888888888889, 'gini = 0.219\\nsamples = 16\\nvalue = [14, 2]'),\n",
       " Text(0.5800524934383202, 0.3888888888888889, 'X[0] <= 0.805\\ngini = 0.024\\nsamples = 83\\nvalue = [82, 1]'),\n",
       " Text(0.5765529308836396, 0.35185185185185186, 'gini = 0.0\\nsamples = 72\\nvalue = [72, 0]'),\n",
       " Text(0.5835520559930009, 0.35185185185185186, 'gini = 0.165\\nsamples = 11\\nvalue = [10, 1]'),\n",
       " Text(0.6080489938757655, 0.5370370370370371, 'X[28] <= 0.5\\ngini = 0.154\\nsamples = 214\\nvalue = [196, 18]'),\n",
       " Text(0.5975503062117236, 0.5, 'X[6] <= 0.061\\ngini = 0.11\\nsamples = 189\\nvalue = [178, 11]'),\n",
       " Text(0.5870516185476815, 0.46296296296296297, 'X[6] <= 0.025\\ngini = 0.241\\nsamples = 50\\nvalue = [43, 7]'),\n",
       " Text(0.5835520559930009, 0.42592592592592593, 'gini = 0.0\\nsamples = 15\\nvalue = [15, 0]'),\n",
       " Text(0.5905511811023622, 0.42592592592592593, 'X[30] <= 0.5\\ngini = 0.32\\nsamples = 35\\nvalue = [28, 7]'),\n",
       " Text(0.5870516185476815, 0.3888888888888889, 'gini = 0.463\\nsamples = 11\\nvalue = [7, 4]'),\n",
       " Text(0.5940507436570429, 0.3888888888888889, 'X[1] <= 0.912\\ngini = 0.219\\nsamples = 24\\nvalue = [21, 3]'),\n",
       " Text(0.5905511811023622, 0.35185185185185186, 'gini = 0.355\\nsamples = 13\\nvalue = [10, 3]'),\n",
       " Text(0.5975503062117236, 0.35185185185185186, 'gini = 0.0\\nsamples = 11\\nvalue = [11, 0]'),\n",
       " Text(0.6080489938757655, 0.46296296296296297, 'X[0] <= 0.091\\ngini = 0.056\\nsamples = 139\\nvalue = [135, 4]'),\n",
       " Text(0.6045494313210849, 0.42592592592592593, 'gini = 0.198\\nsamples = 18\\nvalue = [16, 2]'),\n",
       " Text(0.6115485564304461, 0.42592592592592593, 'X[12] <= 0.5\\ngini = 0.033\\nsamples = 121\\nvalue = [119, 2]'),\n",
       " Text(0.6080489938757655, 0.3888888888888889, 'X[0] <= 0.434\\ngini = 0.097\\nsamples = 39\\nvalue = [37, 2]'),\n",
       " Text(0.6045494313210849, 0.35185185185185186, 'gini = 0.198\\nsamples = 18\\nvalue = [16, 2]'),\n",
       " Text(0.6115485564304461, 0.35185185185185186, 'gini = 0.0\\nsamples = 21\\nvalue = [21, 0]'),\n",
       " Text(0.6150481189851269, 0.3888888888888889, 'gini = 0.0\\nsamples = 82\\nvalue = [82, 0]'),\n",
       " Text(0.6185476815398075, 0.5, 'X[6] <= 0.116\\ngini = 0.403\\nsamples = 25\\nvalue = [18, 7]'),\n",
       " Text(0.6150481189851269, 0.46296296296296297, 'gini = 0.26\\nsamples = 13\\nvalue = [11, 2]'),\n",
       " Text(0.6220472440944882, 0.46296296296296297, 'gini = 0.486\\nsamples = 12\\nvalue = [7, 5]'),\n",
       " Text(0.6386701662292213, 0.5740740740740741, 'X[1] <= 0.805\\ngini = 0.063\\nsamples = 366\\nvalue = [354, 12]'),\n",
       " Text(0.6290463692038495, 0.5370370370370371, 'X[0] <= 0.549\\ngini = 0.198\\nsamples = 27\\nvalue = [24, 3]'),\n",
       " Text(0.6255468066491688, 0.5, 'gini = 0.397\\nsamples = 11\\nvalue = [8, 3]'),\n",
       " Text(0.6325459317585301, 0.5, 'gini = 0.0\\nsamples = 16\\nvalue = [16, 0]'),\n",
       " Text(0.6482939632545932, 0.5370370370370371, 'X[0] <= 0.834\\ngini = 0.052\\nsamples = 339\\nvalue = [330, 9]'),\n",
       " Text(0.6395450568678915, 0.5, 'X[18] <= 0.5\\ngini = 0.034\\nsamples = 287\\nvalue = [282, 5]'),\n",
       " Text(0.6325459317585301, 0.46296296296296297, 'X[0] <= 0.507\\ngini = 0.114\\nsamples = 33\\nvalue = [31, 2]'),\n",
       " Text(0.6290463692038495, 0.42592592592592593, 'gini = 0.26\\nsamples = 13\\nvalue = [11, 2]'),\n",
       " Text(0.6360454943132109, 0.42592592592592593, 'gini = 0.0\\nsamples = 20\\nvalue = [20, 0]'),\n",
       " Text(0.6465441819772528, 0.46296296296296297, 'X[2] <= 0.25\\ngini = 0.023\\nsamples = 254\\nvalue = [251, 3]'),\n",
       " Text(0.6430446194225722, 0.42592592592592593, 'gini = 0.0\\nsamples = 169\\nvalue = [169, 0]'),\n",
       " Text(0.6500437445319335, 0.42592592592592593, 'X[3] <= 0.262\\ngini = 0.068\\nsamples = 85\\nvalue = [82, 3]'),\n",
       " Text(0.6465441819772528, 0.3888888888888889, 'gini = 0.298\\nsamples = 11\\nvalue = [9, 2]'),\n",
       " Text(0.6535433070866141, 0.3888888888888889, 'X[1] <= 0.952\\ngini = 0.027\\nsamples = 74\\nvalue = [73, 1]'),\n",
       " Text(0.6500437445319335, 0.35185185185185186, 'gini = 0.0\\nsamples = 54\\nvalue = [54, 0]'),\n",
       " Text(0.6570428696412949, 0.35185185185185186, 'gini = 0.095\\nsamples = 20\\nvalue = [19, 1]'),\n",
       " Text(0.6570428696412949, 0.5, 'X[0] <= 0.867\\ngini = 0.142\\nsamples = 52\\nvalue = [48, 4]'),\n",
       " Text(0.6535433070866141, 0.46296296296296297, 'gini = 0.397\\nsamples = 11\\nvalue = [8, 3]'),\n",
       " Text(0.6605424321959755, 0.46296296296296297, 'X[6] <= 0.075\\ngini = 0.048\\nsamples = 41\\nvalue = [40, 1]'),\n",
       " Text(0.6570428696412949, 0.42592592592592593, 'gini = 0.165\\nsamples = 11\\nvalue = [10, 1]'),\n",
       " Text(0.6640419947506562, 0.42592592592592593, 'gini = 0.0\\nsamples = 30\\nvalue = [30, 0]'),\n",
       " Text(0.6099081364829396, 0.6111111111111112, 'gini = 0.0\\nsamples = 70\\nvalue = [70, 0]'),\n",
       " Text(0.6204068241469817, 0.7222222222222222, 'X[6] <= 0.225\\ngini = 0.255\\nsamples = 40\\nvalue = [34, 6]'),\n",
       " Text(0.6169072615923009, 0.6851851851851852, 'X[30] <= 0.5\\ngini = 0.128\\nsamples = 29\\nvalue = [27, 2]'),\n",
       " Text(0.6134076990376203, 0.6481481481481481, 'gini = 0.0\\nsamples = 17\\nvalue = [17, 0]'),\n",
       " Text(0.6204068241469817, 0.6481481481481481, 'gini = 0.278\\nsamples = 12\\nvalue = [10, 2]'),\n",
       " Text(0.6239063867016623, 0.6851851851851852, 'gini = 0.463\\nsamples = 11\\nvalue = [7, 4]'),\n",
       " Text(0.6309055118110236, 0.7592592592592593, 'X[6] <= 0.11\\ngini = 0.285\\nsamples = 29\\nvalue = [24, 5]'),\n",
       " Text(0.627405949256343, 0.7222222222222222, 'gini = 0.391\\nsamples = 15\\nvalue = [11, 4]'),\n",
       " Text(0.6344050743657043, 0.7222222222222222, 'gini = 0.133\\nsamples = 14\\nvalue = [13, 1]'),\n",
       " Text(0.7972458032589677, 0.7962962962962963, 'X[6] <= 0.019\\ngini = 0.159\\nsamples = 2381\\nvalue = [2173, 208]'),\n",
       " Text(0.7250109361329834, 0.7592592592592593, 'X[0] <= 0.279\\ngini = 0.289\\nsamples = 114\\nvalue = [94, 20]'),\n",
       " Text(0.7162620297462817, 0.7222222222222222, 'X[0] <= 0.139\\ngini = 0.394\\nsamples = 37\\nvalue = [27, 10]'),\n",
       " Text(0.7127624671916011, 0.6851851851851852, 'X[3] <= 0.952\\ngini = 0.287\\nsamples = 23\\nvalue = [19, 4]'),\n",
       " Text(0.7092629046369204, 0.6481481481481481, 'gini = 0.153\\nsamples = 12\\nvalue = [11, 1]'),\n",
       " Text(0.7162620297462817, 0.6481481481481481, 'gini = 0.397\\nsamples = 11\\nvalue = [8, 3]'),\n",
       " Text(0.7197615923009624, 0.6851851851851852, 'gini = 0.49\\nsamples = 14\\nvalue = [8, 6]'),\n",
       " Text(0.7337598425196851, 0.7222222222222222, 'X[0] <= 0.518\\ngini = 0.226\\nsamples = 77\\nvalue = [67, 10]'),\n",
       " Text(0.7267607174103237, 0.6851851851851852, 'X[0] <= 0.412\\ngini = 0.064\\nsamples = 30\\nvalue = [29, 1]'),\n",
       " Text(0.723261154855643, 0.6481481481481481, 'gini = 0.165\\nsamples = 11\\nvalue = [10, 1]'),\n",
       " Text(0.7302602799650044, 0.6481481481481481, 'gini = 0.0\\nsamples = 19\\nvalue = [19, 0]'),\n",
       " Text(0.7407589676290464, 0.6851851851851852, 'X[4] <= 0.357\\ngini = 0.31\\nsamples = 47\\nvalue = [38, 9]'),\n",
       " Text(0.7372594050743657, 0.6481481481481481, 'gini = 0.111\\nsamples = 17\\nvalue = [16, 1]'),\n",
       " Text(0.744258530183727, 0.6481481481481481, 'X[0] <= 0.752\\ngini = 0.391\\nsamples = 30\\nvalue = [22, 8]'),\n",
       " Text(0.7407589676290464, 0.6111111111111112, 'gini = 0.473\\nsamples = 13\\nvalue = [8, 5]'),\n",
       " Text(0.7477580927384077, 0.6111111111111112, 'gini = 0.291\\nsamples = 17\\nvalue = [14, 3]'),\n",
       " Text(0.8694806703849519, 0.7592592592592593, 'X[0] <= 0.01\\ngini = 0.152\\nsamples = 2267\\nvalue = [2079, 188]'),\n",
       " Text(0.8367645450568679, 0.7222222222222222, 'X[0] <= 0.003\\ngini = 0.366\\nsamples = 29\\nvalue = [22, 7]'),\n",
       " Text(0.8332649825021873, 0.6851851851851852, 'gini = 0.165\\nsamples = 11\\nvalue = [10, 1]'),\n",
       " Text(0.8402641076115486, 0.6851851851851852, 'gini = 0.444\\nsamples = 18\\nvalue = [12, 6]'),\n",
       " Text(0.9021967957130359, 0.7222222222222222, 'X[3] <= 0.786\\ngini = 0.149\\nsamples = 2238\\nvalue = [2057, 181]'),\n",
       " Text(0.8472632327209099, 0.6851851851851852, 'X[4] <= 0.929\\ngini = 0.173\\nsamples = 1243\\nvalue = [1124, 119]'),\n",
       " Text(0.7942639982502188, 0.6481481481481481, 'X[0] <= 0.765\\ngini = 0.155\\nsamples = 1038\\nvalue = [950, 88]'),\n",
       " Text(0.7547572178477691, 0.6111111111111112, 'X[6] <= 0.222\\ngini = 0.136\\nsamples = 806\\nvalue = [747, 59]'),\n",
       " Text(0.7159886264216972, 0.5740740740740741, 'X[12] <= 0.5\\ngini = 0.157\\nsamples = 534\\nvalue = [488, 46]'),\n",
       " Text(0.6780402449693789, 0.5370370370370371, 'X[0] <= 0.196\\ngini = 0.236\\nsamples = 110\\nvalue = [95, 15]'),\n",
       " Text(0.6710411198600175, 0.5, 'X[3] <= 0.357\\ngini = 0.074\\nsamples = 26\\nvalue = [25, 1]'),\n",
       " Text(0.6675415573053368, 0.46296296296296297, 'gini = 0.165\\nsamples = 11\\nvalue = [10, 1]'),\n",
       " Text(0.6745406824146981, 0.46296296296296297, 'gini = 0.0\\nsamples = 15\\nvalue = [15, 0]'),\n",
       " Text(0.6850393700787402, 0.5, 'X[4] <= 0.5\\ngini = 0.278\\nsamples = 84\\nvalue = [70, 14]'),\n",
       " Text(0.6815398075240595, 0.46296296296296297, 'X[6] <= 0.155\\ngini = 0.342\\nsamples = 64\\nvalue = [50, 14]'),\n",
       " Text(0.6780402449693789, 0.42592592592592593, 'X[0] <= 0.376\\ngini = 0.286\\nsamples = 52\\nvalue = [43, 9]'),\n",
       " Text(0.6745406824146981, 0.3888888888888889, 'gini = 0.42\\nsamples = 20\\nvalue = [14, 6]'),\n",
       " Text(0.6815398075240595, 0.3888888888888889, 'X[8] <= 0.5\\ngini = 0.17\\nsamples = 32\\nvalue = [29, 3]'),\n",
       " Text(0.6780402449693789, 0.35185185185185186, 'gini = 0.0\\nsamples = 18\\nvalue = [18, 0]'),\n",
       " Text(0.6850393700787402, 0.35185185185185186, 'gini = 0.337\\nsamples = 14\\nvalue = [11, 3]'),\n",
       " Text(0.6850393700787402, 0.42592592592592593, 'gini = 0.486\\nsamples = 12\\nvalue = [7, 5]'),\n",
       " Text(0.6885389326334208, 0.46296296296296297, 'gini = 0.0\\nsamples = 20\\nvalue = [20, 0]'),\n",
       " Text(0.7539370078740157, 0.5370370370370371, 'X[24] <= 0.5\\ngini = 0.136\\nsamples = 424\\nvalue = [393, 31]'),\n",
       " Text(0.7388451443569554, 0.5, 'X[0] <= 0.646\\ngini = 0.119\\nsamples = 395\\nvalue = [370, 25]'),\n",
       " Text(0.7191601049868767, 0.46296296296296297, 'X[4] <= 0.214\\ngini = 0.101\\nsamples = 338\\nvalue = [320, 18]'),\n",
       " Text(0.7025371828521435, 0.42592592592592593, 'X[3] <= 0.452\\ngini = 0.208\\nsamples = 68\\nvalue = [60, 8]'),\n",
       " Text(0.6955380577427821, 0.3888888888888889, 'X[3] <= 0.262\\ngini = 0.097\\nsamples = 39\\nvalue = [37, 2]'),\n",
       " Text(0.6920384951881015, 0.35185185185185186, 'gini = 0.231\\nsamples = 15\\nvalue = [13, 2]'),\n",
       " Text(0.6990376202974629, 0.35185185185185186, 'gini = 0.0\\nsamples = 24\\nvalue = [24, 0]'),\n",
       " Text(0.7095363079615048, 0.3888888888888889, 'X[0] <= 0.352\\ngini = 0.328\\nsamples = 29\\nvalue = [23, 6]'),\n",
       " Text(0.7060367454068242, 0.35185185185185186, 'gini = 0.43\\nsamples = 16\\nvalue = [11, 5]'),\n",
       " Text(0.7130358705161854, 0.35185185185185186, 'gini = 0.142\\nsamples = 13\\nvalue = [12, 1]'),\n",
       " Text(0.7357830271216098, 0.42592592592592593, 'X[6] <= 0.1\\ngini = 0.071\\nsamples = 270\\nvalue = [260, 10]'),\n",
       " Text(0.7270341207349081, 0.3888888888888889, 'X[6] <= 0.067\\ngini = 0.12\\nsamples = 141\\nvalue = [132, 9]'),\n",
       " Text(0.7200349956255468, 0.35185185185185186, 'X[5] <= 0.7\\ngini = 0.068\\nsamples = 85\\nvalue = [82, 3]'),\n",
       " Text(0.7165354330708661, 0.3148148148148148, 'gini = 0.0\\nsamples = 48\\nvalue = [48, 0]'),\n",
       " Text(0.7235345581802275, 0.3148148148148148, 'X[6] <= 0.031\\ngini = 0.149\\nsamples = 37\\nvalue = [34, 3]'),\n",
       " Text(0.7200349956255468, 0.2777777777777778, 'gini = 0.298\\nsamples = 11\\nvalue = [9, 2]'),\n",
       " Text(0.7270341207349081, 0.2777777777777778, 'X[0] <= 0.241\\ngini = 0.074\\nsamples = 26\\nvalue = [25, 1]'),\n",
       " Text(0.7235345581802275, 0.24074074074074073, 'gini = 0.165\\nsamples = 11\\nvalue = [10, 1]'),\n",
       " Text(0.7305336832895888, 0.24074074074074073, 'gini = 0.0\\nsamples = 15\\nvalue = [15, 0]'),\n",
       " Text(0.7340332458442694, 0.35185185185185186, 'X[5] <= 0.5\\ngini = 0.191\\nsamples = 56\\nvalue = [50, 6]'),\n",
       " Text(0.7305336832895888, 0.3148148148148148, 'gini = 0.36\\nsamples = 17\\nvalue = [13, 4]'),\n",
       " Text(0.7375328083989501, 0.3148148148148148, 'X[1] <= 0.932\\ngini = 0.097\\nsamples = 39\\nvalue = [37, 2]'),\n",
       " Text(0.7340332458442694, 0.2777777777777778, 'gini = 0.0\\nsamples = 19\\nvalue = [19, 0]'),\n",
       " Text(0.7410323709536308, 0.2777777777777778, 'gini = 0.18\\nsamples = 20\\nvalue = [18, 2]'),\n",
       " Text(0.7445319335083115, 0.3888888888888889, 'X[6] <= 0.193\\ngini = 0.015\\nsamples = 129\\nvalue = [128, 1]'),\n",
       " Text(0.7410323709536308, 0.35185185185185186, 'gini = 0.0\\nsamples = 99\\nvalue = [99, 0]'),\n",
       " Text(0.7480314960629921, 0.35185185185185186, 'X[0] <= 0.218\\ngini = 0.064\\nsamples = 30\\nvalue = [29, 1]'),\n",
       " Text(0.7445319335083115, 0.3148148148148148, 'gini = 0.165\\nsamples = 11\\nvalue = [10, 1]'),\n",
       " Text(0.7515310586176728, 0.3148148148148148, 'gini = 0.0\\nsamples = 19\\nvalue = [19, 0]'),\n",
       " Text(0.7585301837270341, 0.46296296296296297, 'X[6] <= 0.157\\ngini = 0.215\\nsamples = 57\\nvalue = [50, 7]'),\n",
       " Text(0.7550306211723534, 0.42592592592592593, 'X[0] <= 0.68\\ngini = 0.091\\nsamples = 42\\nvalue = [40, 2]'),\n",
       " Text(0.7515310586176728, 0.3888888888888889, 'gini = 0.298\\nsamples = 11\\nvalue = [9, 2]'),\n",
       " Text(0.7585301837270341, 0.3888888888888889, 'gini = 0.0\\nsamples = 31\\nvalue = [31, 0]'),\n",
       " Text(0.7620297462817148, 0.42592592592592593, 'gini = 0.444\\nsamples = 15\\nvalue = [10, 5]'),\n",
       " Text(0.7690288713910761, 0.5, 'X[0] <= 0.318\\ngini = 0.328\\nsamples = 29\\nvalue = [23, 6]'),\n",
       " Text(0.7655293088363955, 0.46296296296296297, 'gini = 0.408\\nsamples = 14\\nvalue = [10, 4]'),\n",
       " Text(0.7725284339457568, 0.46296296296296297, 'gini = 0.231\\nsamples = 15\\nvalue = [13, 2]'),\n",
       " Text(0.7935258092738408, 0.5740740740740741, 'X[1] <= 0.813\\ngini = 0.091\\nsamples = 272\\nvalue = [259, 13]'),\n",
       " Text(0.7865266841644795, 0.5370370370370371, 'X[1] <= 0.792\\ngini = 0.193\\nsamples = 37\\nvalue = [33, 4]'),\n",
       " Text(0.7830271216097988, 0.5, 'X[0] <= 0.243\\ngini = 0.077\\nsamples = 25\\nvalue = [24, 1]'),\n",
       " Text(0.7795275590551181, 0.46296296296296297, 'gini = 0.165\\nsamples = 11\\nvalue = [10, 1]'),\n",
       " Text(0.7865266841644795, 0.46296296296296297, 'gini = 0.0\\nsamples = 14\\nvalue = [14, 0]'),\n",
       " Text(0.7900262467191601, 0.5, 'gini = 0.375\\nsamples = 12\\nvalue = [9, 3]'),\n",
       " Text(0.800524934383202, 0.5370370370370371, 'X[5] <= 0.5\\ngini = 0.074\\nsamples = 235\\nvalue = [226, 9]'),\n",
       " Text(0.7970253718285214, 0.5, 'gini = 0.0\\nsamples = 96\\nvalue = [96, 0]'),\n",
       " Text(0.8040244969378828, 0.5, 'X[3] <= 0.31\\ngini = 0.121\\nsamples = 139\\nvalue = [130, 9]'),\n",
       " Text(0.7952755905511811, 0.46296296296296297, 'X[6] <= 0.372\\ngini = 0.269\\nsamples = 25\\nvalue = [21, 4]'),\n",
       " Text(0.7917760279965005, 0.42592592592592593, 'gini = 0.142\\nsamples = 13\\nvalue = [12, 1]'),\n",
       " Text(0.7987751531058618, 0.42592592592592593, 'gini = 0.375\\nsamples = 12\\nvalue = [9, 3]'),\n",
       " Text(0.8127734033245845, 0.46296296296296297, 'X[1] <= 0.951\\ngini = 0.084\\nsamples = 114\\nvalue = [109, 5]'),\n",
       " Text(0.8057742782152231, 0.42592592592592593, 'X[0] <= 0.094\\ngini = 0.022\\nsamples = 90\\nvalue = [89, 1]'),\n",
       " Text(0.8022747156605424, 0.3888888888888889, 'gini = 0.142\\nsamples = 13\\nvalue = [12, 1]'),\n",
       " Text(0.8092738407699037, 0.3888888888888889, 'gini = 0.0\\nsamples = 77\\nvalue = [77, 0]'),\n",
       " Text(0.8197725284339458, 0.42592592592592593, 'X[6] <= 0.337\\ngini = 0.278\\nsamples = 24\\nvalue = [20, 4]'),\n",
       " Text(0.8162729658792651, 0.3888888888888889, 'gini = 0.142\\nsamples = 13\\nvalue = [12, 1]'),\n",
       " Text(0.8232720909886264, 0.3888888888888889, 'gini = 0.397\\nsamples = 11\\nvalue = [8, 3]'),\n",
       " Text(0.8337707786526685, 0.6111111111111112, 'X[0] <= 0.816\\ngini = 0.219\\nsamples = 232\\nvalue = [203, 29]'),\n",
       " Text(0.8197725284339458, 0.5740740740740741, 'X[6] <= 0.185\\ngini = 0.364\\nsamples = 46\\nvalue = [35, 11]'),\n",
       " Text(0.8162729658792651, 0.5370370370370371, 'X[1] <= 0.935\\ngini = 0.257\\nsamples = 33\\nvalue = [28, 5]'),\n",
       " Text(0.8127734033245845, 0.5, 'gini = 0.0\\nsamples = 12\\nvalue = [12, 0]'),\n",
       " Text(0.8197725284339458, 0.5, 'gini = 0.363\\nsamples = 21\\nvalue = [16, 5]'),\n",
       " Text(0.8232720909886264, 0.5370370370370371, 'gini = 0.497\\nsamples = 13\\nvalue = [7, 6]'),\n",
       " Text(0.847769028871391, 0.5740740740740741, 'X[2] <= 0.25\\ngini = 0.175\\nsamples = 186\\nvalue = [168, 18]'),\n",
       " Text(0.8372703412073491, 0.5370370370370371, 'X[1] <= 0.937\\ngini = 0.213\\nsamples = 140\\nvalue = [123, 17]'),\n",
       " Text(0.8267716535433071, 0.5, 'X[6] <= 0.066\\ngini = 0.307\\nsamples = 58\\nvalue = [47, 11]'),\n",
       " Text(0.8232720909886264, 0.46296296296296297, 'gini = 0.0\\nsamples = 12\\nvalue = [12, 0]'),\n",
       " Text(0.8302712160979877, 0.46296296296296297, 'X[3] <= 0.333\\ngini = 0.364\\nsamples = 46\\nvalue = [35, 11]'),\n",
       " Text(0.8267716535433071, 0.42592592592592593, 'gini = 0.486\\nsamples = 12\\nvalue = [7, 5]'),\n",
       " Text(0.8337707786526685, 0.42592592592592593, 'X[1] <= 0.891\\ngini = 0.291\\nsamples = 34\\nvalue = [28, 6]'),\n",
       " Text(0.8302712160979877, 0.3888888888888889, 'gini = 0.117\\nsamples = 16\\nvalue = [15, 1]'),\n",
       " Text(0.8372703412073491, 0.3888888888888889, 'gini = 0.401\\nsamples = 18\\nvalue = [13, 5]'),\n",
       " Text(0.847769028871391, 0.5, 'X[21] <= 0.5\\ngini = 0.136\\nsamples = 82\\nvalue = [76, 6]'),\n",
       " Text(0.8442694663167104, 0.46296296296296297, 'gini = 0.355\\nsamples = 13\\nvalue = [10, 3]'),\n",
       " Text(0.8512685914260717, 0.46296296296296297, 'X[0] <= 0.969\\ngini = 0.083\\nsamples = 69\\nvalue = [66, 3]'),\n",
       " Text(0.847769028871391, 0.42592592592592593, 'X[4] <= 0.5\\ngini = 0.035\\nsamples = 56\\nvalue = [55, 1]'),\n",
       " Text(0.8442694663167104, 0.3888888888888889, 'gini = 0.0\\nsamples = 39\\nvalue = [39, 0]'),\n",
       " Text(0.8512685914260717, 0.3888888888888889, 'gini = 0.111\\nsamples = 17\\nvalue = [16, 1]'),\n",
       " Text(0.8547681539807525, 0.42592592592592593, 'gini = 0.26\\nsamples = 13\\nvalue = [11, 2]'),\n",
       " Text(0.8582677165354331, 0.5370370370370371, 'X[5] <= 0.9\\ngini = 0.043\\nsamples = 46\\nvalue = [45, 1]'),\n",
       " Text(0.8547681539807525, 0.5, 'gini = 0.0\\nsamples = 35\\nvalue = [35, 0]'),\n",
       " Text(0.8617672790901137, 0.5, 'gini = 0.165\\nsamples = 11\\nvalue = [10, 1]'),\n",
       " Text(0.9002624671916011, 0.6481481481481481, 'X[5] <= 0.7\\ngini = 0.257\\nsamples = 205\\nvalue = [174, 31]'),\n",
       " Text(0.8827646544181977, 0.6111111111111112, 'X[1] <= 0.937\\ngini = 0.152\\nsamples = 109\\nvalue = [100, 9]'),\n",
       " Text(0.8757655293088364, 0.5740740740740741, 'X[3] <= 0.452\\ngini = 0.266\\nsamples = 38\\nvalue = [32, 6]'),\n",
       " Text(0.8722659667541557, 0.5370370370370371, 'X[1] <= 0.892\\ngini = 0.33\\nsamples = 24\\nvalue = [19, 5]'),\n",
       " Text(0.868766404199475, 0.5, 'gini = 0.397\\nsamples = 11\\nvalue = [8, 3]'),\n",
       " Text(0.8757655293088364, 0.5, 'gini = 0.26\\nsamples = 13\\nvalue = [11, 2]'),\n",
       " Text(0.8792650918635171, 0.5370370370370371, 'gini = 0.133\\nsamples = 14\\nvalue = [13, 1]'),\n",
       " Text(0.889763779527559, 0.5740740740740741, 'X[0] <= 0.108\\ngini = 0.081\\nsamples = 71\\nvalue = [68, 3]'),\n",
       " Text(0.8862642169728784, 0.5370370370370371, 'gini = 0.278\\nsamples = 12\\nvalue = [10, 2]'),\n",
       " Text(0.8932633420822397, 0.5370370370370371, 'X[3] <= 0.595\\ngini = 0.033\\nsamples = 59\\nvalue = [58, 1]'),\n",
       " Text(0.889763779527559, 0.5, 'gini = 0.0\\nsamples = 48\\nvalue = [48, 0]'),\n",
       " Text(0.8967629046369204, 0.5, 'gini = 0.165\\nsamples = 11\\nvalue = [10, 1]'),\n",
       " Text(0.9177602799650044, 0.6111111111111112, 'X[30] <= 0.5\\ngini = 0.353\\nsamples = 96\\nvalue = [74, 22]'),\n",
       " Text(0.910761154855643, 0.5740740740740741, 'X[0] <= 0.764\\ngini = 0.403\\nsamples = 68\\nvalue = [49, 19]'),\n",
       " Text(0.9072615923009624, 0.5370370370370371, 'X[0] <= 0.573\\ngini = 0.435\\nsamples = 50\\nvalue = [34, 16]'),\n",
       " Text(0.9037620297462817, 0.5, 'X[3] <= 0.5\\ngini = 0.381\\nsamples = 39\\nvalue = [29, 10]'),\n",
       " Text(0.9002624671916011, 0.46296296296296297, 'gini = 0.472\\nsamples = 21\\nvalue = [13, 8]'),\n",
       " Text(0.9072615923009624, 0.46296296296296297, 'gini = 0.198\\nsamples = 18\\nvalue = [16, 2]'),\n",
       " Text(0.910761154855643, 0.5, 'gini = 0.496\\nsamples = 11\\nvalue = [5, 6]'),\n",
       " Text(0.9142607174103237, 0.5370370370370371, 'gini = 0.278\\nsamples = 18\\nvalue = [15, 3]'),\n",
       " Text(0.9247594050743657, 0.5740740740740741, 'X[3] <= 0.643\\ngini = 0.191\\nsamples = 28\\nvalue = [25, 3]'),\n",
       " Text(0.9212598425196851, 0.5370370370370371, 'gini = 0.0\\nsamples = 15\\nvalue = [15, 0]'),\n",
       " Text(0.9282589676290464, 0.5370370370370371, 'gini = 0.355\\nsamples = 13\\nvalue = [10, 3]'),\n",
       " Text(0.9571303587051618, 0.6851851851851852, 'X[5] <= 0.7\\ngini = 0.117\\nsamples = 995\\nvalue = [933, 62]'),\n",
       " Text(0.9387576552930884, 0.6481481481481481, 'X[11] <= 0.5\\ngini = 0.164\\nsamples = 267\\nvalue = [243, 24]'),\n",
       " Text(0.9352580927384077, 0.6111111111111112, 'X[25] <= 0.5\\ngini = 0.151\\nsamples = 256\\nvalue = [235, 21]'),\n",
       " Text(0.931758530183727, 0.5740740740740741, 'gini = 0.337\\nsamples = 14\\nvalue = [11, 3]'),\n",
       " Text(0.9387576552930884, 0.5740740740740741, 'X[6] <= 0.031\\ngini = 0.138\\nsamples = 242\\nvalue = [224, 18]'),\n",
       " Text(0.9352580927384077, 0.5370370370370371, 'gini = 0.337\\nsamples = 14\\nvalue = [11, 3]'),\n",
       " Text(0.9422572178477691, 0.5370370370370371, 'X[3] <= 0.929\\ngini = 0.123\\nsamples = 228\\nvalue = [213, 15]'),\n",
       " Text(0.9352580927384077, 0.5, 'X[0] <= 0.809\\ngini = 0.034\\nsamples = 57\\nvalue = [56, 1]'),\n",
       " Text(0.931758530183727, 0.46296296296296297, 'gini = 0.0\\nsamples = 46\\nvalue = [46, 0]'),\n",
       " Text(0.9387576552930884, 0.46296296296296297, 'gini = 0.165\\nsamples = 11\\nvalue = [10, 1]'),\n",
       " Text(0.9492563429571304, 0.5, 'X[1] <= 0.904\\ngini = 0.15\\nsamples = 171\\nvalue = [157, 14]'),\n",
       " Text(0.9457567804024497, 0.46296296296296297, 'gini = 0.32\\nsamples = 20\\nvalue = [16, 4]'),\n",
       " Text(0.952755905511811, 0.46296296296296297, 'X[0] <= 0.737\\ngini = 0.124\\nsamples = 151\\nvalue = [141, 10]'),\n",
       " Text(0.9492563429571304, 0.42592592592592593, 'X[30] <= 0.5\\ngini = 0.163\\nsamples = 112\\nvalue = [102, 10]'),\n",
       " Text(0.9422572178477691, 0.3888888888888889, 'X[6] <= 0.373\\ngini = 0.202\\nsamples = 79\\nvalue = [70, 9]'),\n",
       " Text(0.9387576552930884, 0.35185185185185186, 'X[27] <= 0.5\\ngini = 0.161\\nsamples = 68\\nvalue = [62, 6]'),\n",
       " Text(0.9352580927384077, 0.3148148148148148, 'gini = 0.0\\nsamples = 20\\nvalue = [20, 0]'),\n",
       " Text(0.9422572178477691, 0.3148148148148148, 'X[0] <= 0.555\\ngini = 0.219\\nsamples = 48\\nvalue = [42, 6]'),\n",
       " Text(0.9387576552930884, 0.2777777777777778, 'X[4] <= 0.5\\ngini = 0.149\\nsamples = 37\\nvalue = [34, 3]'),\n",
       " Text(0.9352580927384077, 0.24074074074074073, 'gini = 0.0\\nsamples = 20\\nvalue = [20, 0]'),\n",
       " Text(0.9422572178477691, 0.24074074074074073, 'gini = 0.291\\nsamples = 17\\nvalue = [14, 3]'),\n",
       " Text(0.9457567804024497, 0.2777777777777778, 'gini = 0.397\\nsamples = 11\\nvalue = [8, 3]'),\n",
       " Text(0.9457567804024497, 0.35185185185185186, 'gini = 0.397\\nsamples = 11\\nvalue = [8, 3]'),\n",
       " Text(0.9562554680664916, 0.3888888888888889, 'X[6] <= 0.103\\ngini = 0.059\\nsamples = 33\\nvalue = [32, 1]'),\n",
       " Text(0.952755905511811, 0.35185185185185186, 'gini = 0.165\\nsamples = 11\\nvalue = [10, 1]'),\n",
       " Text(0.9597550306211724, 0.35185185185185186, 'gini = 0.0\\nsamples = 22\\nvalue = [22, 0]'),\n",
       " Text(0.9562554680664916, 0.42592592592592593, 'gini = 0.0\\nsamples = 39\\nvalue = [39, 0]'),\n",
       " Text(0.9422572178477691, 0.6111111111111112, 'gini = 0.397\\nsamples = 11\\nvalue = [8, 3]'),\n",
       " Text(0.9755030621172354, 0.6481481481481481, 'X[1] <= 0.846\\ngini = 0.099\\nsamples = 728\\nvalue = [690, 38]'),\n",
       " Text(0.9615048118985127, 0.6111111111111112, 'X[0] <= 0.511\\ngini = 0.183\\nsamples = 59\\nvalue = [53, 6]'),\n",
       " Text(0.9545056867891514, 0.5740740740740741, 'X[0] <= 0.194\\ngini = 0.278\\nsamples = 30\\nvalue = [25, 5]'),\n",
       " Text(0.9510061242344707, 0.5370370370370371, 'gini = 0.133\\nsamples = 14\\nvalue = [13, 1]'),\n",
       " Text(0.958005249343832, 0.5370370370370371, 'gini = 0.375\\nsamples = 16\\nvalue = [12, 4]'),\n",
       " Text(0.968503937007874, 0.5740740740740741, 'X[6] <= 0.136\\ngini = 0.067\\nsamples = 29\\nvalue = [28, 1]'),\n",
       " Text(0.9650043744531933, 0.5370370370370371, 'gini = 0.165\\nsamples = 11\\nvalue = [10, 1]'),\n",
       " Text(0.9720034995625547, 0.5370370370370371, 'gini = 0.0\\nsamples = 18\\nvalue = [18, 0]'),\n",
       " Text(0.989501312335958, 0.6111111111111112, 'X[20] <= 0.5\\ngini = 0.091\\nsamples = 669\\nvalue = [637, 32]'),\n",
       " Text(0.9860017497812773, 0.5740740740740741, 'X[24] <= 0.5\\ngini = 0.087\\nsamples = 657\\nvalue = [627, 30]'),\n",
       " Text(0.979002624671916, 0.5370370370370371, 'X[1] <= 0.915\\ngini = 0.081\\nsamples = 617\\nvalue = [591, 26]'),\n",
       " Text(0.9755030621172354, 0.5, 'gini = 0.0\\nsamples = 75\\nvalue = [75, 0]'),\n",
       " Text(0.9825021872265967, 0.5, 'X[6] <= 0.549\\ngini = 0.091\\nsamples = 542\\nvalue = [516, 26]'),\n",
       " Text(0.973753280839895, 0.46296296296296297, 'X[6] <= 0.234\\ngini = 0.085\\nsamples = 516\\nvalue = [493, 23]'),\n",
       " Text(0.9667541557305337, 0.42592592592592593, 'X[0] <= 0.136\\ngini = 0.104\\nsamples = 381\\nvalue = [360, 21]'),\n",
       " Text(0.963254593175853, 0.3888888888888889, 'gini = 0.0\\nsamples = 52\\nvalue = [52, 0]'),\n",
       " Text(0.9702537182852143, 0.3888888888888889, 'X[0] <= 0.182\\ngini = 0.12\\nsamples = 329\\nvalue = [308, 21]'),\n",
       " Text(0.9667541557305337, 0.35185185185185186, 'gini = 0.363\\nsamples = 21\\nvalue = [16, 5]'),\n",
       " Text(0.973753280839895, 0.35185185185185186, 'X[0] <= 0.963\\ngini = 0.098\\nsamples = 308\\nvalue = [292, 16]'),\n",
       " Text(0.9702537182852143, 0.3148148148148148, 'X[0] <= 0.776\\ngini = 0.09\\nsamples = 295\\nvalue = [281, 14]'),\n",
       " Text(0.9667541557305337, 0.2777777777777778, 'X[0] <= 0.707\\ngini = 0.115\\nsamples = 228\\nvalue = [214, 14]'),\n",
       " Text(0.963254593175853, 0.24074074074074073, 'X[6] <= 0.199\\ngini = 0.092\\nsamples = 207\\nvalue = [197, 10]'),\n",
       " Text(0.9597550306211724, 0.2037037037037037, 'X[4] <= 0.643\\ngini = 0.081\\nsamples = 190\\nvalue = [182, 8]'),\n",
       " Text(0.952755905511811, 0.16666666666666666, 'X[5] <= 0.9\\ngini = 0.124\\nsamples = 105\\nvalue = [98, 7]'),\n",
       " Text(0.9492563429571304, 0.12962962962962962, 'gini = 0.266\\nsamples = 19\\nvalue = [16, 3]'),\n",
       " Text(0.9562554680664916, 0.12962962962962962, 'X[6] <= 0.061\\ngini = 0.089\\nsamples = 86\\nvalue = [82, 4]'),\n",
       " Text(0.952755905511811, 0.09259259259259259, 'gini = 0.0\\nsamples = 23\\nvalue = [23, 0]'),\n",
       " Text(0.9597550306211724, 0.09259259259259259, 'X[6] <= 0.09\\ngini = 0.119\\nsamples = 63\\nvalue = [59, 4]'),\n",
       " Text(0.9562554680664916, 0.05555555555555555, 'gini = 0.278\\nsamples = 18\\nvalue = [15, 3]'),\n",
       " Text(0.963254593175853, 0.05555555555555555, 'X[0] <= 0.335\\ngini = 0.043\\nsamples = 45\\nvalue = [44, 1]'),\n",
       " Text(0.9597550306211724, 0.018518518518518517, 'gini = 0.165\\nsamples = 11\\nvalue = [10, 1]'),\n",
       " Text(0.9667541557305337, 0.018518518518518517, 'gini = 0.0\\nsamples = 34\\nvalue = [34, 0]'),\n",
       " Text(0.9667541557305337, 0.16666666666666666, 'X[0] <= 0.665\\ngini = 0.023\\nsamples = 85\\nvalue = [84, 1]'),\n",
       " Text(0.963254593175853, 0.12962962962962962, 'gini = 0.0\\nsamples = 74\\nvalue = [74, 0]'),\n",
       " Text(0.9702537182852143, 0.12962962962962962, 'gini = 0.165\\nsamples = 11\\nvalue = [10, 1]'),\n",
       " Text(0.9667541557305337, 0.2037037037037037, 'gini = 0.208\\nsamples = 17\\nvalue = [15, 2]'),\n",
       " Text(0.9702537182852143, 0.24074074074074073, 'gini = 0.308\\nsamples = 21\\nvalue = [17, 4]'),\n",
       " Text(0.973753280839895, 0.2777777777777778, 'gini = 0.0\\nsamples = 67\\nvalue = [67, 0]'),\n",
       " Text(0.9772528433945756, 0.3148148148148148, 'gini = 0.26\\nsamples = 13\\nvalue = [11, 2]'),\n",
       " Text(0.9807524059492564, 0.42592592592592593, 'X[0] <= 0.066\\ngini = 0.029\\nsamples = 135\\nvalue = [133, 2]'),\n",
       " Text(0.9772528433945756, 0.3888888888888889, 'gini = 0.165\\nsamples = 11\\nvalue = [10, 1]'),\n",
       " Text(0.984251968503937, 0.3888888888888889, 'X[4] <= 0.214\\ngini = 0.016\\nsamples = 124\\nvalue = [123, 1]'),\n",
       " Text(0.9807524059492564, 0.35185185185185186, 'gini = 0.095\\nsamples = 20\\nvalue = [19, 1]'),\n",
       " Text(0.9877515310586177, 0.35185185185185186, 'gini = 0.0\\nsamples = 104\\nvalue = [104, 0]'),\n",
       " Text(0.9912510936132983, 0.46296296296296297, 'X[6] <= 0.728\\ngini = 0.204\\nsamples = 26\\nvalue = [23, 3]'),\n",
       " Text(0.9877515310586177, 0.42592592592592593, 'gini = 0.375\\nsamples = 12\\nvalue = [9, 3]'),\n",
       " Text(0.994750656167979, 0.42592592592592593, 'gini = 0.0\\nsamples = 14\\nvalue = [14, 0]'),\n",
       " Text(0.9930008748906387, 0.5370370370370371, 'X[6] <= 0.136\\ngini = 0.18\\nsamples = 40\\nvalue = [36, 4]'),\n",
       " Text(0.989501312335958, 0.5, 'gini = 0.0\\nsamples = 22\\nvalue = [22, 0]'),\n",
       " Text(0.9965004374453194, 0.5, 'gini = 0.346\\nsamples = 18\\nvalue = [14, 4]'),\n",
       " Text(0.9930008748906387, 0.5740740740740741, 'gini = 0.278\\nsamples = 12\\nvalue = [10, 2]')]"
      ]
     },
     "execution_count": 131,
     "metadata": {},
     "output_type": "execute_result"
    },
    {
     "data": {
      "image/png": "[encoded data removed]",
      "text/plain": [
       "<Figure size 2160x2160 with 1 Axes>"
      ]
     },
     "metadata": {
      "needs_background": "light"
     },
     "output_type": "display_data"
    }
   ],
   "source": [
    "plt.figure(figsize=(30,30))\n",
    "skt.plot_tree(DT)"
   ]
  },
  {
   "cell_type": "code",
   "execution_count": 132,
   "metadata": {},
   "outputs": [
    {
     "name": "stdout",
     "output_type": "stream",
     "text": [
      "[[2135  107]\n",
      " [ 311  134]] \n",
      "               precision    recall  f1-score   support\n",
      "\n",
      "         0.0       0.87      0.95      0.91      2242\n",
      "         1.0       0.56      0.30      0.39       445\n",
      "\n",
      "    accuracy                           0.84      2687\n",
      "   macro avg       0.71      0.63      0.65      2687\n",
      "weighted avg       0.82      0.84      0.82      2687\n",
      " \n",
      "\n"
     ]
    },
    {
     "data": {
      "image/png": "[encoded data removed]",
      "text/plain": [
       "<Figure size 432x288 with 1 Axes>"
      ]
     },
     "metadata": {
      "needs_background": "light"
     },
     "output_type": "display_data"
    },
    {
     "name": "stdout",
     "output_type": "stream",
     "text": [
      "Number of missclassifications:  418\n"
     ]
    }
   ],
   "source": [
    "print(confusion_matrix(testY, preidctY), '\\n', classification_report(testY, preidctY), '\\n')\n",
    "fpr, tpr, _ = roc_curve(testY, preidctY)\n",
    "auc = roc_auc_score(testY, preidctY)\n",
    "plt.plot(fpr,tpr,label=\"AUC=\"+str(auc))\n",
    "plt.ylabel('True Positive Rate')\n",
    "plt.xlabel('False Positive Rate')\n",
    "plt.legend(loc=4)\n",
    "plt.show()\n",
    "print('Number of missclassifications: ', (testY != preidctY).sum())"
   ]
  },
  {
   "cell_type": "markdown",
   "metadata": {},
   "source": [
    "## 3 - Discuss any difference and also discuss part of the tree of 9.2\n"
   ]
  },
  {
   "cell_type": "markdown",
   "metadata": {},
   "source": [
    "the second tree is deeper and more expansive than the first, but fits the data better\n"
   ]
  },
  {
   "cell_type": "markdown",
   "metadata": {},
   "source": [
    "# 10 - Random Forest "
   ]
  },
  {
   "cell_type": "markdown",
   "metadata": {},
   "source": [
    "## 1 - Use grid search to tune the max_depth, min_samples_leaf, and n_estimators"
   ]
  },
  {
   "cell_type": "code",
   "execution_count": 133,
   "metadata": {},
   "outputs": [
    {
     "data": {
      "text/plain": [
       "GridSearchCV(estimator=RandomForestClassifier(criterion='entropy'), n_jobs=-1,\n",
       "             param_grid={'max_depth': range(2, 10),\n",
       "                         'min_samples_leaf': range(1, 10),\n",
       "                         'n_estimators': range(1, 100, 10)},\n",
       "             refit='AUC', return_train_score=True,\n",
       "             scoring={'AUC': 'roc_auc',\n",
       "                      'Accuracy': make_scorer(accuracy_score)})"
      ]
     },
     "execution_count": 133,
     "metadata": {},
     "output_type": "execute_result"
    }
   ],
   "source": [
    "scoring = {\"AUC\": \"roc_auc\", \"Accuracy\": make_scorer(accuracy_score)}\n",
    "gs = GridSearchCV(RandomForestClassifier(criterion='entropy'), param_grid = {'n_estimators' : range(1,100,10), 'min_samples_leaf' : range(1,10), 'max_depth' : range(2,10)},\n",
    "scoring = scoring, refit = 'AUC', return_train_score = True, n_jobs = -1)\n",
    "gs.fit(trainX, trainY)"
   ]
  },
  {
   "cell_type": "markdown",
   "metadata": {},
   "source": [
    "## 2 - Print the best estimator"
   ]
  },
  {
   "cell_type": "code",
   "execution_count": 134,
   "metadata": {},
   "outputs": [
    {
     "data": {
      "text/plain": [
       "{'max_depth': 9, 'min_samples_leaf': 1, 'n_estimators': 91}"
      ]
     },
     "execution_count": 134,
     "metadata": {},
     "output_type": "execute_result"
    }
   ],
   "source": [
    "gs.best_params_"
   ]
  },
  {
   "cell_type": "markdown",
   "metadata": {},
   "source": [
    "## 3 - Train the model. After building the model, test it and print the confusion matrix and classification report. Also, plot ROC curve and show the AUC of ROC, and the count of the number of misclassification."
   ]
  },
  {
   "cell_type": "code",
   "execution_count": 135,
   "metadata": {},
   "outputs": [],
   "source": [
    "\n",
    "RF = RandomForestClassifier(criterion='entropy', n_estimators=91, min_samples_leaf=1, max_depth=9)\n",
    "RF.fit(trainX, trainY)\n",
    "preidctY = RF.predict(testX)"
   ]
  },
  {
   "cell_type": "code",
   "execution_count": 136,
   "metadata": {},
   "outputs": [
    {
     "name": "stdout",
     "output_type": "stream",
     "text": [
      "[[2059  183]\n",
      " [ 201  244]] \n",
      "               precision    recall  f1-score   support\n",
      "\n",
      "         0.0       0.91      0.92      0.91      2242\n",
      "         1.0       0.57      0.55      0.56       445\n",
      "\n",
      "    accuracy                           0.86      2687\n",
      "   macro avg       0.74      0.73      0.74      2687\n",
      "weighted avg       0.85      0.86      0.86      2687\n",
      " \n",
      "\n"
     ]
    },
    {
     "data": {
      "image/png": "[encoded data removed]",
      "text/plain": [
       "<Figure size 432x288 with 1 Axes>"
      ]
     },
     "metadata": {
      "needs_background": "light"
     },
     "output_type": "display_data"
    },
    {
     "name": "stdout",
     "output_type": "stream",
     "text": [
      "Number of missclassifications:  384\n"
     ]
    }
   ],
   "source": [
    "print(confusion_matrix(testY, preidctY), '\\n', classification_report(testY, preidctY), '\\n')\n",
    "fpr, tpr, _ = roc_curve(testY, preidctY)\n",
    "auc = roc_auc_score(testY, preidctY)\n",
    "plt.plot(fpr,tpr,label=\"AUC=\"+str(auc))\n",
    "plt.ylabel('True Positive Rate')\n",
    "plt.xlabel('False Positive Rate')\n",
    "plt.legend(loc=4)\n",
    "plt.show()\n",
    "print('Number of missclassifications: ', (testY != preidctY).sum())"
   ]
  },
  {
   "cell_type": "markdown",
   "metadata": {},
   "source": [
    "# 11 - Boosting Algorithms"
   ]
  },
  {
   "cell_type": "markdown",
   "metadata": {},
   "source": [
    "## 1 - Train an AdaBoostClassifier model with some manual/grid search-based parameters and then test it and then print the confusion matrix and classification report. Also, plot ROC curve and show the AUC of ROC, and the count of the number of misclassification."
   ]
  },
  {
   "cell_type": "code",
   "execution_count": 137,
   "metadata": {},
   "outputs": [
    {
     "data": {
      "text/plain": [
       "GridSearchCV(estimator=AdaBoostClassifier(), n_jobs=-1,\n",
       "             param_grid={'learning_rate': range(1, 10),\n",
       "                         'n_estimators': range(1, 111, 10)},\n",
       "             refit='AUC', return_train_score=True,\n",
       "             scoring={'AUC': 'roc_auc',\n",
       "                      'Accuracy': make_scorer(accuracy_score)})"
      ]
     },
     "execution_count": 137,
     "metadata": {},
     "output_type": "execute_result"
    }
   ],
   "source": [
    "scoring = {\"AUC\": \"roc_auc\", \"Accuracy\": make_scorer(accuracy_score)}\n",
    "gs = GridSearchCV(AdaBoostClassifier(), param_grid = {'n_estimators' : range(1,111,10), 'learning_rate' : range(1,10)},\n",
    "scoring = scoring, refit = 'AUC', return_train_score = True, n_jobs = -1)\n",
    "gs.fit(trainX, trainY)"
   ]
  },
  {
   "cell_type": "code",
   "execution_count": 138,
   "metadata": {},
   "outputs": [
    {
     "data": {
      "text/plain": [
       "{'learning_rate': 1, 'n_estimators': 101}"
      ]
     },
     "execution_count": 138,
     "metadata": {},
     "output_type": "execute_result"
    }
   ],
   "source": [
    "gs.best_params_"
   ]
  },
  {
   "cell_type": "code",
   "execution_count": 139,
   "metadata": {},
   "outputs": [],
   "source": [
    "ADA = AdaBoostClassifier(n_estimators=101, learning_rate=1)\n",
    "ADA.fit(trainX, trainY)\n",
    "preidctY  = ADA.predict(testX)"
   ]
  },
  {
   "cell_type": "code",
   "execution_count": 140,
   "metadata": {},
   "outputs": [
    {
     "name": "stdout",
     "output_type": "stream",
     "text": [
      "[[2060  182]\n",
      " [ 207  238]] \n",
      "               precision    recall  f1-score   support\n",
      "\n",
      "         0.0       0.91      0.92      0.91      2242\n",
      "         1.0       0.57      0.53      0.55       445\n",
      "\n",
      "    accuracy                           0.86      2687\n",
      "   macro avg       0.74      0.73      0.73      2687\n",
      "weighted avg       0.85      0.86      0.85      2687\n",
      " \n",
      "\n"
     ]
    },
    {
     "data": {
      "image/png": "[encoded data removed]",
      "text/plain": [
       "<Figure size 432x288 with 1 Axes>"
      ]
     },
     "metadata": {
      "needs_background": "light"
     },
     "output_type": "display_data"
    },
    {
     "name": "stdout",
     "output_type": "stream",
     "text": [
      "Number of missclassifications:  389\n"
     ]
    }
   ],
   "source": [
    "print(confusion_matrix(testY, preidctY), '\\n', classification_report(testY, preidctY), '\\n')\n",
    "fpr, tpr, _ = roc_curve(testY, preidctY)\n",
    "auc = roc_auc_score(testY, preidctY)\n",
    "plt.plot(fpr,tpr,label=\"AUC=\"+str(auc))\n",
    "plt.ylabel('True Positive Rate')\n",
    "plt.xlabel('False Positive Rate')\n",
    "plt.legend(loc=4)\n",
    "plt.show()\n",
    "print('Number of missclassifications: ', (testY != preidctY).sum())"
   ]
  },
  {
   "cell_type": "markdown",
   "metadata": {},
   "source": [
    "## 2 - Do the same for Gradient BoostingClassifier"
   ]
  },
  {
   "cell_type": "code",
   "execution_count": 141,
   "metadata": {},
   "outputs": [
    {
     "data": {
      "text/plain": [
       "GridSearchCV(estimator=GradientBoostingClassifier(), n_jobs=10,\n",
       "             param_grid={'criterion': ['friedman_mse', 'squared_error'],\n",
       "                         'learning_rate': [0.1, 0.2, 0.3, 0.4, 0.5, 0.6, 0.7,\n",
       "                                           0.8, 0.9, 1],\n",
       "                         'loss': ['deviance', 'exponential'],\n",
       "                         'n_estimators': range(10, 250, 10)},\n",
       "             refit='AUC', return_train_score=True,\n",
       "             scoring={'AUC': 'roc_auc',\n",
       "                      'Accuracy': make_scorer(accuracy_score)})"
      ]
     },
     "execution_count": 141,
     "metadata": {},
     "output_type": "execute_result"
    }
   ],
   "source": [
    "scoring = {\"AUC\": \"roc_auc\", \"Accuracy\": make_scorer(accuracy_score)}\n",
    "gs = GridSearchCV(GradientBoostingClassifier(), param_grid = {'loss' : ['deviance', 'exponential'], 'learning_rate' : [0.1,0.2,0.3,0.4,0.5,0.6,0.7,0.8,0.9,1], 'n_estimators' : range(10, 250,10), 'criterion' : ['friedman_mse', 'squared_error']},\n",
    "scoring = scoring, refit = 'AUC', return_train_score = True, n_jobs = 10)\n",
    "gs.fit(trainX, trainY)"
   ]
  },
  {
   "cell_type": "code",
   "execution_count": 142,
   "metadata": {},
   "outputs": [
    {
     "data": {
      "text/plain": [
       "{'criterion': 'friedman_mse',\n",
       " 'learning_rate': 0.2,\n",
       " 'loss': 'exponential',\n",
       " 'n_estimators': 210}"
      ]
     },
     "execution_count": 142,
     "metadata": {},
     "output_type": "execute_result"
    }
   ],
   "source": [
    "gs.best_params_"
   ]
  },
  {
   "cell_type": "code",
   "execution_count": 143,
   "metadata": {},
   "outputs": [],
   "source": [
    "GBC = GradientBoostingClassifier(criterion='squared_error', learning_rate=0.2, loss='exponential', n_estimators=150)\n",
    "GBC.fit(trainX, trainY)\n",
    "predictY = GBC.predict(testX)"
   ]
  },
  {
   "cell_type": "code",
   "execution_count": 144,
   "metadata": {},
   "outputs": [
    {
     "name": "stdout",
     "output_type": "stream",
     "text": [
      "[[2060  182]\n",
      " [ 207  238]] \n",
      "               precision    recall  f1-score   support\n",
      "\n",
      "         0.0       0.91      0.92      0.91      2242\n",
      "         1.0       0.57      0.53      0.55       445\n",
      "\n",
      "    accuracy                           0.86      2687\n",
      "   macro avg       0.74      0.73      0.73      2687\n",
      "weighted avg       0.85      0.86      0.85      2687\n",
      " \n",
      "\n"
     ]
    },
    {
     "data": {
      "image/png": "[encoded data removed]",
      "text/plain": [
       "<Figure size 432x288 with 1 Axes>"
      ]
     },
     "metadata": {
      "needs_background": "light"
     },
     "output_type": "display_data"
    },
    {
     "name": "stdout",
     "output_type": "stream",
     "text": [
      "Number of missclassifications:  389\n"
     ]
    }
   ],
   "source": [
    "print(confusion_matrix(testY, preidctY), '\\n', classification_report(testY, preidctY), '\\n')\n",
    "fpr, tpr, _ = roc_curve(testY, preidctY)\n",
    "auc = roc_auc_score(testY, preidctY)\n",
    "plt.plot(fpr,tpr,label=\"AUC=\"+str(auc))\n",
    "plt.ylabel('True Positive Rate')\n",
    "plt.xlabel('False Positive Rate')\n",
    "plt.legend(loc=4)\n",
    "plt.show()\n",
    "print('Number of missclassifications: ', (testY != preidctY).sum())"
   ]
  },
  {
   "cell_type": "markdown",
   "metadata": {},
   "source": [
    "# 12 - briefly discuss your finding such as which model could be most suitable for this given scenario and what could be your future work based on this experiment."
   ]
  },
  {
   "cell_type": "markdown",
   "metadata": {},
   "source": [
    "for this given sceneries random forest seems to perform the best at differentiating the classes\n",
    "based on this i can try fine tuning a few of the models more to try to get an even better classifier"
   ]
  },
  {
   "cell_type": "code",
   "execution_count": 145,
   "metadata": {},
   "outputs": [
    {
     "name": "stdout",
     "output_type": "stream",
     "text": [
      "***** DONE *****\n"
     ]
    }
   ],
   "source": [
    "print(\"***** DONE *****\")"
   ]
  }
 ],
 "metadata": {
  "interpreter": {
   "hash": "916dbcbb3f70747c44a77c7bcd40155683ae19c65e1c03b4aa3499c5328201f1"
  },
  "kernelspec": {
   "display_name": "Python 3.8.10 64-bit",
   "language": "python",
   "name": "python3"
  },
  "language_info": {
   "codemirror_mode": {
    "name": "ipython",
    "version": 3
   },
   "file_extension": ".py",
   "mimetype": "text/x-python",
   "name": "python",
   "nbconvert_exporter": "python",
   "pygments_lexer": "ipython3",
   "version": "3.8.10"
  },
  "orig_nbformat": 4
 },
 "nbformat": 4,
 "nbformat_minor": 2
}
